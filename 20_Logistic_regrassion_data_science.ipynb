{
 "cells": [
  {
   "cell_type": "code",
   "execution_count": 1,
   "id": "54624b2f",
   "metadata": {},
   "outputs": [],
   "source": [
    "import pandas as pd\n",
    "import numpy as np\n",
    "import matplotlib.pyplot as plt\n",
    "import seaborn as sns\n",
    "from sklearn.linear_model import LogisticRegression\n",
    "from sklearn.metrics import accuracy_score, roc_auc_score\n",
    "from sklearn.model_selection import train_test_split\n",
    "from sklearn.preprocessing import StandardScaler"
   ]
  },
  {
   "cell_type": "code",
   "execution_count": 2,
   "id": "43a54ae2",
   "metadata": {},
   "outputs": [
    {
     "data": {
      "application/vnd.microsoft.datawrangler.viewer.v0+json": {
       "columns": [
        {
         "name": "index",
         "rawType": "int64",
         "type": "integer"
        },
        {
         "name": "id",
         "rawType": "float64",
         "type": "float"
        },
        {
         "name": "name",
         "rawType": "object",
         "type": "string"
        },
        {
         "name": "role",
         "rawType": "object",
         "type": "string"
        },
        {
         "name": "salary",
         "rawType": "float64",
         "type": "float"
        },
        {
         "name": "age",
         "rawType": "float64",
         "type": "float"
        },
        {
         "name": "gender",
         "rawType": "object",
         "type": "string"
        },
        {
         "name": "alive",
         "rawType": "object",
         "type": "string"
        },
        {
         "name": "department",
         "rawType": "object",
         "type": "string"
        },
        {
         "name": "alone",
         "rawType": "object",
         "type": "string"
        },
        {
         "name": "phonenumber",
         "rawType": "object",
         "type": "string"
        },
        {
         "name": "city",
         "rawType": "object",
         "type": "string"
        },
        {
         "name": "state",
         "rawType": "object",
         "type": "string"
        },
        {
         "name": "single",
         "rawType": "object",
         "type": "string"
        },
        {
         "name": "education",
         "rawType": "object",
         "type": "string"
        },
        {
         "name": "loanstatus",
         "rawType": "object",
         "type": "string"
        },
        {
         "name": "Isadmin",
         "rawType": "object",
         "type": "unknown"
        },
        {
         "name": "investement",
         "rawType": "float64",
         "type": "float"
        },
        {
         "name": "yearloadbill",
         "rawType": "float64",
         "type": "float"
        }
       ],
       "ref": "c2bac2fc-9f8a-4b4b-b123-54abf618ed89",
       "rows": [
        [
         "0",
         "1.0",
         "Nathan Bolton",
         "Manager",
         "43056.0",
         "45.0",
         "Other",
         "No",
         "Support",
         "No",
         "4579240482",
         "Jordanbury",
         "Wisconsin",
         "No",
         "High School",
         "Rejected",
         "True",
         "17317.0",
         "50907.0"
        ],
        [
         "1",
         "2.0",
         "Andrew Doyle",
         "Developer",
         "79400.0",
         "60.0",
         "Other",
         "Yes",
         "IT",
         "No",
         "6881176726",
         "Port Markfort",
         "Texas",
         "No",
         "PhD",
         "Approved",
         "False",
         "2091.0",
         "106120.0"
        ],
        [
         "2",
         "3.0",
         "Rebecca Wiley",
         "Designer",
         "49856.0",
         "21.0",
         "Other",
         "No",
         "Finance",
         "Yes",
         "+1-820-049-2423",
         "New Veronica",
         "Alabama",
         "Yes",
         "Bachelors",
         "Pending",
         "True",
         "49187.0",
         "88174.0"
        ]
       ],
       "shape": {
        "columns": 18,
        "rows": 3
       }
      },
      "text/html": [
       "<div>\n",
       "<style scoped>\n",
       "    .dataframe tbody tr th:only-of-type {\n",
       "        vertical-align: middle;\n",
       "    }\n",
       "\n",
       "    .dataframe tbody tr th {\n",
       "        vertical-align: top;\n",
       "    }\n",
       "\n",
       "    .dataframe thead th {\n",
       "        text-align: right;\n",
       "    }\n",
       "</style>\n",
       "<table border=\"1\" class=\"dataframe\">\n",
       "  <thead>\n",
       "    <tr style=\"text-align: right;\">\n",
       "      <th></th>\n",
       "      <th>id</th>\n",
       "      <th>name</th>\n",
       "      <th>role</th>\n",
       "      <th>salary</th>\n",
       "      <th>age</th>\n",
       "      <th>gender</th>\n",
       "      <th>alive</th>\n",
       "      <th>department</th>\n",
       "      <th>alone</th>\n",
       "      <th>phonenumber</th>\n",
       "      <th>city</th>\n",
       "      <th>state</th>\n",
       "      <th>single</th>\n",
       "      <th>education</th>\n",
       "      <th>loanstatus</th>\n",
       "      <th>Isadmin</th>\n",
       "      <th>investement</th>\n",
       "      <th>yearloadbill</th>\n",
       "    </tr>\n",
       "  </thead>\n",
       "  <tbody>\n",
       "    <tr>\n",
       "      <th>0</th>\n",
       "      <td>1.0</td>\n",
       "      <td>Nathan Bolton</td>\n",
       "      <td>Manager</td>\n",
       "      <td>43056.0</td>\n",
       "      <td>45.0</td>\n",
       "      <td>Other</td>\n",
       "      <td>No</td>\n",
       "      <td>Support</td>\n",
       "      <td>No</td>\n",
       "      <td>4579240482</td>\n",
       "      <td>Jordanbury</td>\n",
       "      <td>Wisconsin</td>\n",
       "      <td>No</td>\n",
       "      <td>High School</td>\n",
       "      <td>Rejected</td>\n",
       "      <td>True</td>\n",
       "      <td>17317.0</td>\n",
       "      <td>50907.0</td>\n",
       "    </tr>\n",
       "    <tr>\n",
       "      <th>1</th>\n",
       "      <td>2.0</td>\n",
       "      <td>Andrew Doyle</td>\n",
       "      <td>Developer</td>\n",
       "      <td>79400.0</td>\n",
       "      <td>60.0</td>\n",
       "      <td>Other</td>\n",
       "      <td>Yes</td>\n",
       "      <td>IT</td>\n",
       "      <td>No</td>\n",
       "      <td>6881176726</td>\n",
       "      <td>Port Markfort</td>\n",
       "      <td>Texas</td>\n",
       "      <td>No</td>\n",
       "      <td>PhD</td>\n",
       "      <td>Approved</td>\n",
       "      <td>False</td>\n",
       "      <td>2091.0</td>\n",
       "      <td>106120.0</td>\n",
       "    </tr>\n",
       "    <tr>\n",
       "      <th>2</th>\n",
       "      <td>3.0</td>\n",
       "      <td>Rebecca Wiley</td>\n",
       "      <td>Designer</td>\n",
       "      <td>49856.0</td>\n",
       "      <td>21.0</td>\n",
       "      <td>Other</td>\n",
       "      <td>No</td>\n",
       "      <td>Finance</td>\n",
       "      <td>Yes</td>\n",
       "      <td>+1-820-049-2423</td>\n",
       "      <td>New Veronica</td>\n",
       "      <td>Alabama</td>\n",
       "      <td>Yes</td>\n",
       "      <td>Bachelors</td>\n",
       "      <td>Pending</td>\n",
       "      <td>True</td>\n",
       "      <td>49187.0</td>\n",
       "      <td>88174.0</td>\n",
       "    </tr>\n",
       "  </tbody>\n",
       "</table>\n",
       "</div>"
      ],
      "text/plain": [
       "    id           name       role   salary   age gender alive department alone  \\\n",
       "0  1.0  Nathan Bolton    Manager  43056.0  45.0  Other    No    Support    No   \n",
       "1  2.0   Andrew Doyle  Developer  79400.0  60.0  Other   Yes         IT    No   \n",
       "2  3.0  Rebecca Wiley   Designer  49856.0  21.0  Other    No    Finance   Yes   \n",
       "\n",
       "       phonenumber           city      state single    education loanstatus  \\\n",
       "0       4579240482     Jordanbury  Wisconsin     No  High School   Rejected   \n",
       "1       6881176726  Port Markfort      Texas     No          PhD   Approved   \n",
       "2  +1-820-049-2423   New Veronica    Alabama    Yes    Bachelors    Pending   \n",
       "\n",
       "  Isadmin  investement  yearloadbill  \n",
       "0    True      17317.0       50907.0  \n",
       "1   False       2091.0      106120.0  \n",
       "2    True      49187.0       88174.0  "
      ]
     },
     "execution_count": 2,
     "metadata": {},
     "output_type": "execute_result"
    }
   ],
   "source": [
    "database = pd.read_excel(\"Company.xlsx\")\n",
    "database.head(3)"
   ]
  },
  {
   "cell_type": "code",
   "execution_count": 3,
   "id": "a999ce2a",
   "metadata": {},
   "outputs": [
    {
     "data": {
      "application/vnd.microsoft.datawrangler.viewer.v0+json": {
       "columns": [
        {
         "name": "index",
         "rawType": "object",
         "type": "string"
        },
        {
         "name": "0",
         "rawType": "int64",
         "type": "integer"
        }
       ],
       "ref": "7647a48c-a401-4d9f-bfc3-4b5406053ec6",
       "rows": [
        [
         "id",
         "8"
        ],
        [
         "name",
         "14"
        ],
        [
         "role",
         "10"
        ],
        [
         "salary",
         "10"
        ],
        [
         "age",
         "10"
        ],
        [
         "gender",
         "11"
        ],
        [
         "alive",
         "10"
        ],
        [
         "department",
         "8"
        ],
        [
         "alone",
         "10"
        ],
        [
         "phonenumber",
         "9"
        ],
        [
         "city",
         "13"
        ],
        [
         "state",
         "6"
        ],
        [
         "single",
         "2"
        ],
        [
         "education",
         "6"
        ],
        [
         "loanstatus",
         "11"
        ],
        [
         "Isadmin",
         "4"
        ],
        [
         "investement",
         "9"
        ],
        [
         "yearloadbill",
         "8"
        ]
       ],
       "shape": {
        "columns": 1,
        "rows": 18
       }
      },
      "text/plain": [
       "id               8\n",
       "name            14\n",
       "role            10\n",
       "salary          10\n",
       "age             10\n",
       "gender          11\n",
       "alive           10\n",
       "department       8\n",
       "alone           10\n",
       "phonenumber      9\n",
       "city            13\n",
       "state            6\n",
       "single           2\n",
       "education        6\n",
       "loanstatus      11\n",
       "Isadmin          4\n",
       "investement      9\n",
       "yearloadbill     8\n",
       "dtype: int64"
      ]
     },
     "execution_count": 3,
     "metadata": {},
     "output_type": "execute_result"
    }
   ],
   "source": [
    "database.isnull().sum()"
   ]
  },
  {
   "cell_type": "code",
   "execution_count": 4,
   "id": "585afc00",
   "metadata": {},
   "outputs": [
    {
     "name": "stderr",
     "output_type": "stream",
     "text": [
      "C:\\Users\\Hp\\AppData\\Local\\Temp\\ipykernel_8640\\567247572.py:8: FutureWarning: Downcasting object dtype arrays on .fillna, .ffill, .bfill is deprecated and will change in a future version. Call result.infer_objects(copy=False) instead. To opt-in to the future behavior, set `pd.set_option('future.no_silent_downcasting', True)`\n",
      "  database[col] = database[col].fillna(database[col].mode()[0])\n"
     ]
    }
   ],
   "source": [
    "# Fill missing values for numerical columns with mean\n",
    "num_cols = database.select_dtypes(include=['float64', 'int64']).columns\n",
    "database[num_cols] = database[num_cols].fillna(database[num_cols].mean())\n",
    "\n",
    "# Fill missing values for categorical columns with mode\n",
    "cat_cols = database.select_dtypes(include=['object']).columns\n",
    "for col in cat_cols:\n",
    "    database[col] = database[col].fillna(database[col].mode()[0])"
   ]
  },
  {
   "cell_type": "code",
   "execution_count": 5,
   "id": "34e9736b",
   "metadata": {},
   "outputs": [
    {
     "data": {
      "application/vnd.microsoft.datawrangler.viewer.v0+json": {
       "columns": [
        {
         "name": "index",
         "rawType": "object",
         "type": "string"
        },
        {
         "name": "0",
         "rawType": "int64",
         "type": "integer"
        }
       ],
       "ref": "58655e3e-d756-484a-8bf6-ea4f60a517ee",
       "rows": [
        [
         "id",
         "0"
        ],
        [
         "name",
         "0"
        ],
        [
         "role",
         "0"
        ],
        [
         "salary",
         "0"
        ],
        [
         "age",
         "0"
        ],
        [
         "gender",
         "0"
        ],
        [
         "alive",
         "0"
        ],
        [
         "department",
         "0"
        ],
        [
         "alone",
         "0"
        ],
        [
         "phonenumber",
         "0"
        ],
        [
         "city",
         "0"
        ],
        [
         "state",
         "0"
        ],
        [
         "single",
         "0"
        ],
        [
         "education",
         "0"
        ],
        [
         "loanstatus",
         "0"
        ],
        [
         "Isadmin",
         "0"
        ],
        [
         "investement",
         "0"
        ],
        [
         "yearloadbill",
         "0"
        ]
       ],
       "shape": {
        "columns": 1,
        "rows": 18
       }
      },
      "text/plain": [
       "id              0\n",
       "name            0\n",
       "role            0\n",
       "salary          0\n",
       "age             0\n",
       "gender          0\n",
       "alive           0\n",
       "department      0\n",
       "alone           0\n",
       "phonenumber     0\n",
       "city            0\n",
       "state           0\n",
       "single          0\n",
       "education       0\n",
       "loanstatus      0\n",
       "Isadmin         0\n",
       "investement     0\n",
       "yearloadbill    0\n",
       "dtype: int64"
      ]
     },
     "execution_count": 5,
     "metadata": {},
     "output_type": "execute_result"
    }
   ],
   "source": [
    "database.isnull().sum()"
   ]
  },
  {
   "cell_type": "code",
   "execution_count": 6,
   "id": "46c7905b",
   "metadata": {},
   "outputs": [
    {
     "data": {
      "application/vnd.microsoft.datawrangler.viewer.v0+json": {
       "columns": [
        {
         "name": "index",
         "rawType": "int64",
         "type": "integer"
        },
        {
         "name": "0",
         "rawType": "bool",
         "type": "boolean"
        }
       ],
       "ref": "df404d24-ce08-4299-a8b3-688dbd51d45e",
       "rows": [
        [
         "0",
         "False"
        ],
        [
         "1",
         "False"
        ],
        [
         "2",
         "False"
        ],
        [
         "3",
         "False"
        ],
        [
         "4",
         "False"
        ],
        [
         "5",
         "False"
        ],
        [
         "6",
         "False"
        ],
        [
         "7",
         "False"
        ],
        [
         "8",
         "False"
        ],
        [
         "9",
         "False"
        ],
        [
         "10",
         "False"
        ],
        [
         "11",
         "False"
        ],
        [
         "12",
         "False"
        ],
        [
         "13",
         "False"
        ],
        [
         "14",
         "False"
        ],
        [
         "15",
         "False"
        ],
        [
         "16",
         "False"
        ],
        [
         "17",
         "False"
        ],
        [
         "18",
         "False"
        ],
        [
         "19",
         "False"
        ],
        [
         "20",
         "False"
        ],
        [
         "21",
         "False"
        ],
        [
         "22",
         "False"
        ],
        [
         "23",
         "False"
        ],
        [
         "24",
         "False"
        ],
        [
         "25",
         "False"
        ],
        [
         "26",
         "False"
        ],
        [
         "27",
         "False"
        ],
        [
         "28",
         "False"
        ],
        [
         "29",
         "False"
        ],
        [
         "30",
         "False"
        ],
        [
         "31",
         "False"
        ],
        [
         "32",
         "False"
        ],
        [
         "33",
         "False"
        ],
        [
         "34",
         "False"
        ],
        [
         "35",
         "False"
        ],
        [
         "36",
         "False"
        ],
        [
         "37",
         "False"
        ],
        [
         "38",
         "False"
        ],
        [
         "39",
         "False"
        ],
        [
         "40",
         "False"
        ],
        [
         "41",
         "False"
        ],
        [
         "42",
         "False"
        ],
        [
         "43",
         "False"
        ],
        [
         "44",
         "False"
        ],
        [
         "45",
         "False"
        ],
        [
         "46",
         "False"
        ],
        [
         "47",
         "False"
        ],
        [
         "48",
         "False"
        ],
        [
         "49",
         "False"
        ]
       ],
       "shape": {
        "columns": 1,
        "rows": 500
       }
      },
      "text/plain": [
       "0      False\n",
       "1      False\n",
       "2      False\n",
       "3      False\n",
       "4      False\n",
       "       ...  \n",
       "495    False\n",
       "496    False\n",
       "497    False\n",
       "498    False\n",
       "499    False\n",
       "Length: 500, dtype: bool"
      ]
     },
     "execution_count": 6,
     "metadata": {},
     "output_type": "execute_result"
    }
   ],
   "source": [
    "database.duplicated()"
   ]
  },
  {
   "cell_type": "code",
   "execution_count": 7,
   "id": "8cd4b0e9",
   "metadata": {},
   "outputs": [
    {
     "data": {
      "text/plain": [
       "(500, 18)"
      ]
     },
     "execution_count": 7,
     "metadata": {},
     "output_type": "execute_result"
    }
   ],
   "source": [
    "database.shape"
   ]
  },
  {
   "cell_type": "code",
   "execution_count": 8,
   "id": "011dc5d6",
   "metadata": {},
   "outputs": [
    {
     "data": {
      "application/vnd.microsoft.datawrangler.viewer.v0+json": {
       "columns": [
        {
         "name": "index",
         "rawType": "object",
         "type": "string"
        },
        {
         "name": "0",
         "rawType": "object",
         "type": "unknown"
        }
       ],
       "ref": "3eda2ed0-d11f-40ef-abcc-0439d4b0406d",
       "rows": [
        [
         "id",
         "float64"
        ],
        [
         "name",
         "object"
        ],
        [
         "role",
         "object"
        ],
        [
         "salary",
         "float64"
        ],
        [
         "age",
         "float64"
        ],
        [
         "gender",
         "object"
        ],
        [
         "alive",
         "object"
        ],
        [
         "department",
         "object"
        ],
        [
         "alone",
         "object"
        ],
        [
         "phonenumber",
         "object"
        ],
        [
         "city",
         "object"
        ],
        [
         "state",
         "object"
        ],
        [
         "single",
         "object"
        ],
        [
         "education",
         "object"
        ],
        [
         "loanstatus",
         "object"
        ],
        [
         "Isadmin",
         "bool"
        ],
        [
         "investement",
         "float64"
        ],
        [
         "yearloadbill",
         "float64"
        ]
       ],
       "shape": {
        "columns": 1,
        "rows": 18
       }
      },
      "text/plain": [
       "id              float64\n",
       "name             object\n",
       "role             object\n",
       "salary          float64\n",
       "age             float64\n",
       "gender           object\n",
       "alive            object\n",
       "department       object\n",
       "alone            object\n",
       "phonenumber      object\n",
       "city             object\n",
       "state            object\n",
       "single           object\n",
       "education        object\n",
       "loanstatus       object\n",
       "Isadmin            bool\n",
       "investement     float64\n",
       "yearloadbill    float64\n",
       "dtype: object"
      ]
     },
     "execution_count": 8,
     "metadata": {},
     "output_type": "execute_result"
    }
   ],
   "source": [
    "database.dtypes"
   ]
  },
  {
   "cell_type": "code",
   "execution_count": 9,
   "id": "6f1cf625",
   "metadata": {},
   "outputs": [],
   "source": [
    "# Drop duplicate rows\n",
    "database = database.drop_duplicates()"
   ]
  },
  {
   "cell_type": "code",
   "execution_count": 10,
   "id": "14342abb",
   "metadata": {},
   "outputs": [],
   "source": [
    "# Drop rows with any missing values\n",
    "database = database.dropna()"
   ]
  },
  {
   "cell_type": "code",
   "execution_count": 11,
   "id": "dcad1f77",
   "metadata": {},
   "outputs": [
    {
     "data": {
      "application/vnd.microsoft.datawrangler.viewer.v0+json": {
       "columns": [
        {
         "name": "index",
         "rawType": "int64",
         "type": "integer"
        },
        {
         "name": "id",
         "rawType": "float64",
         "type": "float"
        },
        {
         "name": "name",
         "rawType": "object",
         "type": "string"
        },
        {
         "name": "role",
         "rawType": "object",
         "type": "string"
        },
        {
         "name": "salary",
         "rawType": "float64",
         "type": "float"
        },
        {
         "name": "age",
         "rawType": "float64",
         "type": "float"
        },
        {
         "name": "gender",
         "rawType": "object",
         "type": "string"
        },
        {
         "name": "alive",
         "rawType": "object",
         "type": "string"
        },
        {
         "name": "department",
         "rawType": "object",
         "type": "string"
        },
        {
         "name": "alone",
         "rawType": "object",
         "type": "string"
        },
        {
         "name": "phonenumber",
         "rawType": "object",
         "type": "string"
        },
        {
         "name": "city",
         "rawType": "object",
         "type": "string"
        },
        {
         "name": "state",
         "rawType": "object",
         "type": "string"
        },
        {
         "name": "single",
         "rawType": "object",
         "type": "string"
        },
        {
         "name": "education",
         "rawType": "object",
         "type": "string"
        },
        {
         "name": "loanstatus",
         "rawType": "object",
         "type": "string"
        },
        {
         "name": "Isadmin",
         "rawType": "bool",
         "type": "boolean"
        },
        {
         "name": "investement",
         "rawType": "float64",
         "type": "float"
        },
        {
         "name": "yearloadbill",
         "rawType": "float64",
         "type": "float"
        }
       ],
       "ref": "917a5d5f-7d1f-4c60-ae65-afaf1f50299b",
       "rows": [
        [
         "0",
         "1.0",
         "Nathan Bolton",
         "Manager",
         "43056.0",
         "45.0",
         "Other",
         "No",
         "Support",
         "No",
         "4579240482",
         "Jordanbury",
         "Wisconsin",
         "No",
         "High School",
         "Rejected",
         "True",
         "17317.0",
         "50907.0"
        ],
        [
         "1",
         "2.0",
         "Andrew Doyle",
         "Developer",
         "79400.0",
         "60.0",
         "Other",
         "Yes",
         "IT",
         "No",
         "6881176726",
         "Port Markfort",
         "Texas",
         "No",
         "PhD",
         "Approved",
         "False",
         "2091.0",
         "106120.0"
        ],
        [
         "2",
         "3.0",
         "Rebecca Wiley",
         "Designer",
         "49856.0",
         "21.0",
         "Other",
         "No",
         "Finance",
         "Yes",
         "+1-820-049-2423",
         "New Veronica",
         "Alabama",
         "Yes",
         "Bachelors",
         "Pending",
         "True",
         "49187.0",
         "88174.0"
        ]
       ],
       "shape": {
        "columns": 18,
        "rows": 3
       }
      },
      "text/html": [
       "<div>\n",
       "<style scoped>\n",
       "    .dataframe tbody tr th:only-of-type {\n",
       "        vertical-align: middle;\n",
       "    }\n",
       "\n",
       "    .dataframe tbody tr th {\n",
       "        vertical-align: top;\n",
       "    }\n",
       "\n",
       "    .dataframe thead th {\n",
       "        text-align: right;\n",
       "    }\n",
       "</style>\n",
       "<table border=\"1\" class=\"dataframe\">\n",
       "  <thead>\n",
       "    <tr style=\"text-align: right;\">\n",
       "      <th></th>\n",
       "      <th>id</th>\n",
       "      <th>name</th>\n",
       "      <th>role</th>\n",
       "      <th>salary</th>\n",
       "      <th>age</th>\n",
       "      <th>gender</th>\n",
       "      <th>alive</th>\n",
       "      <th>department</th>\n",
       "      <th>alone</th>\n",
       "      <th>phonenumber</th>\n",
       "      <th>city</th>\n",
       "      <th>state</th>\n",
       "      <th>single</th>\n",
       "      <th>education</th>\n",
       "      <th>loanstatus</th>\n",
       "      <th>Isadmin</th>\n",
       "      <th>investement</th>\n",
       "      <th>yearloadbill</th>\n",
       "    </tr>\n",
       "  </thead>\n",
       "  <tbody>\n",
       "    <tr>\n",
       "      <th>0</th>\n",
       "      <td>1.0</td>\n",
       "      <td>Nathan Bolton</td>\n",
       "      <td>Manager</td>\n",
       "      <td>43056.0</td>\n",
       "      <td>45.0</td>\n",
       "      <td>Other</td>\n",
       "      <td>No</td>\n",
       "      <td>Support</td>\n",
       "      <td>No</td>\n",
       "      <td>4579240482</td>\n",
       "      <td>Jordanbury</td>\n",
       "      <td>Wisconsin</td>\n",
       "      <td>No</td>\n",
       "      <td>High School</td>\n",
       "      <td>Rejected</td>\n",
       "      <td>True</td>\n",
       "      <td>17317.0</td>\n",
       "      <td>50907.0</td>\n",
       "    </tr>\n",
       "    <tr>\n",
       "      <th>1</th>\n",
       "      <td>2.0</td>\n",
       "      <td>Andrew Doyle</td>\n",
       "      <td>Developer</td>\n",
       "      <td>79400.0</td>\n",
       "      <td>60.0</td>\n",
       "      <td>Other</td>\n",
       "      <td>Yes</td>\n",
       "      <td>IT</td>\n",
       "      <td>No</td>\n",
       "      <td>6881176726</td>\n",
       "      <td>Port Markfort</td>\n",
       "      <td>Texas</td>\n",
       "      <td>No</td>\n",
       "      <td>PhD</td>\n",
       "      <td>Approved</td>\n",
       "      <td>False</td>\n",
       "      <td>2091.0</td>\n",
       "      <td>106120.0</td>\n",
       "    </tr>\n",
       "    <tr>\n",
       "      <th>2</th>\n",
       "      <td>3.0</td>\n",
       "      <td>Rebecca Wiley</td>\n",
       "      <td>Designer</td>\n",
       "      <td>49856.0</td>\n",
       "      <td>21.0</td>\n",
       "      <td>Other</td>\n",
       "      <td>No</td>\n",
       "      <td>Finance</td>\n",
       "      <td>Yes</td>\n",
       "      <td>+1-820-049-2423</td>\n",
       "      <td>New Veronica</td>\n",
       "      <td>Alabama</td>\n",
       "      <td>Yes</td>\n",
       "      <td>Bachelors</td>\n",
       "      <td>Pending</td>\n",
       "      <td>True</td>\n",
       "      <td>49187.0</td>\n",
       "      <td>88174.0</td>\n",
       "    </tr>\n",
       "  </tbody>\n",
       "</table>\n",
       "</div>"
      ],
      "text/plain": [
       "    id           name       role   salary   age gender alive department alone  \\\n",
       "0  1.0  Nathan Bolton    Manager  43056.0  45.0  Other    No    Support    No   \n",
       "1  2.0   Andrew Doyle  Developer  79400.0  60.0  Other   Yes         IT    No   \n",
       "2  3.0  Rebecca Wiley   Designer  49856.0  21.0  Other    No    Finance   Yes   \n",
       "\n",
       "       phonenumber           city      state single    education loanstatus  \\\n",
       "0       4579240482     Jordanbury  Wisconsin     No  High School   Rejected   \n",
       "1       6881176726  Port Markfort      Texas     No          PhD   Approved   \n",
       "2  +1-820-049-2423   New Veronica    Alabama    Yes    Bachelors    Pending   \n",
       "\n",
       "   Isadmin  investement  yearloadbill  \n",
       "0     True      17317.0       50907.0  \n",
       "1    False       2091.0      106120.0  \n",
       "2     True      49187.0       88174.0  "
      ]
     },
     "execution_count": 11,
     "metadata": {},
     "output_type": "execute_result"
    }
   ],
   "source": [
    "database.head(3)"
   ]
  },
  {
   "cell_type": "code",
   "execution_count": 12,
   "id": "f5125ddc",
   "metadata": {},
   "outputs": [
    {
     "name": "stdout",
     "output_type": "stream",
     "text": [
      "Number of duplicate rows: 0\n"
     ]
    }
   ],
   "source": [
    "dupli : int = database.duplicated().sum()\n",
    "print(\"Number of duplicate rows:\", dupli)"
   ]
  },
  {
   "cell_type": "code",
   "execution_count": 13,
   "id": "d684c387",
   "metadata": {},
   "outputs": [],
   "source": [
    "# Replace spaces with underscores in the name column\n",
    "database[\"name\"] = database[\"name\"].str.strip().str.replace(\" \", \"_\")"
   ]
  },
  {
   "cell_type": "code",
   "execution_count": 15,
   "id": "3a04b90f",
   "metadata": {},
   "outputs": [],
   "source": [
    "from sklearn.preprocessing import LabelEncoder\n",
    "le = LabelEncoder()"
   ]
  },
  {
   "cell_type": "code",
   "execution_count": 17,
   "id": "a6397cbb",
   "metadata": {},
   "outputs": [],
   "source": [
    "x = database.iloc[:, :-1].values\n",
    "y = database[\"yearloadbill\"].values"
   ]
  },
  {
   "cell_type": "code",
   "execution_count": 18,
   "id": "db0043ef",
   "metadata": {},
   "outputs": [],
   "source": [
    "x_train, x_test, y_train, y_test = train_test_split(x, y, test_size=0.2, random_state=42)"
   ]
  },
  {
   "cell_type": "code",
   "execution_count": null,
   "id": "e1cdc9a3",
   "metadata": {},
   "outputs": [],
   "source": [
    "sc = StandardScaler()\n",
    "x_train_scaled = sc.fit_transform(x_train)\n",
    "x_test_scaled = sc.transform(x_test)    "
   ]
  },
  {
   "cell_type": "code",
   "execution_count": null,
   "id": "a8f85360",
   "metadata": {},
   "outputs": [],
   "source": [
    "log_reg = LogisticRegression()\n",
    "log_reg.fit(x_train_scaled, y_train)"
   ]
  },
  {
   "cell_type": "code",
   "execution_count": null,
   "id": "0280f1c1",
   "metadata": {},
   "outputs": [],
   "source": [
    "y_predict = log_reg.predict(x_test_scaled)"
   ]
  },
  {
   "cell_type": "code",
   "execution_count": null,
   "id": "9f1a59cb",
   "metadata": {},
   "outputs": [],
   "source": [
    "roc_auc_score(y_test, y_predict)"
   ]
  },
  {
   "cell_type": "code",
   "execution_count": null,
   "id": "f0bf16bd",
   "metadata": {},
   "outputs": [],
   "source": [
    "from sklearn.decomposition import PCA"
   ]
  },
  {
   "cell_type": "code",
   "execution_count": null,
   "id": "4bc70702",
   "metadata": {},
   "outputs": [],
   "source": [
    "pca = PCA(n_components=95)"
   ]
  },
  {
   "cell_type": "code",
   "execution_count": null,
   "id": "880669f1",
   "metadata": {},
   "outputs": [],
   "source": [
    "x_train_pca = pca.fit_transform(x_train_scaled)\n",
    "x_test_pca = pca.transform(x_test_scaled)"
   ]
  },
  {
   "cell_type": "code",
   "execution_count": null,
   "id": "aad4fe37",
   "metadata": {},
   "outputs": [],
   "source": [
    "log_reg2 = LogisticRegression()\n",
    "log_reg2.fit(x_train_pca, y_train)"
   ]
  },
  {
   "cell_type": "code",
   "execution_count": null,
   "id": "a95aa3d3",
   "metadata": {},
   "outputs": [],
   "source": [
    "y_predict2 = log_reg2.predict(x_test_pca)"
   ]
  },
  {
   "cell_type": "code",
   "execution_count": null,
   "id": "2a0e8a62",
   "metadata": {},
   "outputs": [],
   "source": [
    "roc_auc_score(y_test, y_predict2)"
   ]
  }
 ],
 "metadata": {
  "kernelspec": {
   "display_name": "Python 3",
   "language": "python",
   "name": "python3"
  },
  "language_info": {
   "codemirror_mode": {
    "name": "ipython",
    "version": 3
   },
   "file_extension": ".py",
   "mimetype": "text/x-python",
   "name": "python",
   "nbconvert_exporter": "python",
   "pygments_lexer": "ipython3",
   "version": "3.13.5"
  }
 },
 "nbformat": 4,
 "nbformat_minor": 5
}
