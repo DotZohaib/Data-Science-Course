{
 "cells": [
  {
   "cell_type": "code",
   "execution_count": 2,
   "id": "acd8f6e0",
   "metadata": {},
   "outputs": [],
   "source": [
    "import pandas as pd\n",
    "import numpy as np\n",
    "import matplotlib.pyplot as plt\n",
    "import seaborn as sns\n",
    "from sklearn.model_selection import train_test_split"
   ]
  },
  {
   "cell_type": "code",
   "execution_count": 3,
   "id": "8cb333c3",
   "metadata": {},
   "outputs": [
    {
     "data": {
      "application/vnd.microsoft.datawrangler.viewer.v0+json": {
       "columns": [
        {
         "name": "index",
         "rawType": "int64",
         "type": "integer"
        },
        {
         "name": "Data1",
         "rawType": "float64",
         "type": "float"
        },
        {
         "name": "Data2",
         "rawType": "float64",
         "type": "float"
        },
        {
         "name": "Score",
         "rawType": "int64",
         "type": "integer"
        }
       ],
       "ref": "3c480c10-de18-4320-bc90-c9c250f892e6",
       "rows": [
        [
         "0",
         "37.45401188473625",
         "3.142918568673425",
         "0"
        ],
        [
         "1",
         "95.07143064099162",
         "63.64104112637804",
         "1"
        ],
        [
         "2",
         "73.1993941811405",
         "31.43559810763267",
         "1"
        ],
        [
         "3",
         "59.86584841970366",
         "50.85706911647028",
         "1"
        ],
        [
         "4",
         "15.60186404424365",
         "90.7566473926093",
         "1"
        ]
       ],
       "shape": {
        "columns": 3,
        "rows": 5
       }
      },
      "text/html": [
       "<div>\n",
       "<style scoped>\n",
       "    .dataframe tbody tr th:only-of-type {\n",
       "        vertical-align: middle;\n",
       "    }\n",
       "\n",
       "    .dataframe tbody tr th {\n",
       "        vertical-align: top;\n",
       "    }\n",
       "\n",
       "    .dataframe thead th {\n",
       "        text-align: right;\n",
       "    }\n",
       "</style>\n",
       "<table border=\"1\" class=\"dataframe\">\n",
       "  <thead>\n",
       "    <tr style=\"text-align: right;\">\n",
       "      <th></th>\n",
       "      <th>Data1</th>\n",
       "      <th>Data2</th>\n",
       "      <th>Score</th>\n",
       "    </tr>\n",
       "  </thead>\n",
       "  <tbody>\n",
       "    <tr>\n",
       "      <th>0</th>\n",
       "      <td>37.454012</td>\n",
       "      <td>3.142919</td>\n",
       "      <td>0</td>\n",
       "    </tr>\n",
       "    <tr>\n",
       "      <th>1</th>\n",
       "      <td>95.071431</td>\n",
       "      <td>63.641041</td>\n",
       "      <td>1</td>\n",
       "    </tr>\n",
       "    <tr>\n",
       "      <th>2</th>\n",
       "      <td>73.199394</td>\n",
       "      <td>31.435598</td>\n",
       "      <td>1</td>\n",
       "    </tr>\n",
       "    <tr>\n",
       "      <th>3</th>\n",
       "      <td>59.865848</td>\n",
       "      <td>50.857069</td>\n",
       "      <td>1</td>\n",
       "    </tr>\n",
       "    <tr>\n",
       "      <th>4</th>\n",
       "      <td>15.601864</td>\n",
       "      <td>90.756647</td>\n",
       "      <td>1</td>\n",
       "    </tr>\n",
       "  </tbody>\n",
       "</table>\n",
       "</div>"
      ],
      "text/plain": [
       "       Data1      Data2  Score\n",
       "0  37.454012   3.142919      0\n",
       "1  95.071431  63.641041      1\n",
       "2  73.199394  31.435598      1\n",
       "3  59.865848  50.857069      1\n",
       "4  15.601864  90.756647      1"
      ]
     },
     "execution_count": 3,
     "metadata": {},
     "output_type": "execute_result"
    }
   ],
   "source": [
    "database = pd.read_excel(\"SVM_linear_separable_data.xlsx\")\n",
    "database.head(5)"
   ]
  },
  {
   "cell_type": "code",
   "execution_count": 4,
   "id": "14a49439",
   "metadata": {},
   "outputs": [],
   "source": [
    "x = database.iloc[:,:-1]\n",
    "y = database[\"Score\"]"
   ]
  },
  {
   "cell_type": "code",
   "execution_count": 5,
   "id": "03a983e8",
   "metadata": {},
   "outputs": [],
   "source": [
    "from sklearn.model_selection import cross_val_score\n",
    "from sklearn.linear_model import LinearRegression"
   ]
  },
  {
   "cell_type": "code",
   "execution_count": 11,
   "id": "aeab8437",
   "metadata": {},
   "outputs": [],
   "source": [
    "New_data = cross_val_score(LinearRegression(), x, y, cv=10)"
   ]
  },
  {
   "cell_type": "code",
   "execution_count": 12,
   "id": "1dc62889",
   "metadata": {},
   "outputs": [
    {
     "data": {
      "text/plain": [
       "array([0.43922841, 0.5272469 , 0.53157353, 0.5724372 , 0.58534624,\n",
       "       0.62694938, 0.6544059 , 0.66264051, 0.70708526, 0.78843568])"
      ]
     },
     "execution_count": 12,
     "metadata": {},
     "output_type": "execute_result"
    }
   ],
   "source": [
    "New_data.sort()\n",
    "New_data"
   ]
  },
  {
   "cell_type": "code",
   "execution_count": 6,
   "id": "512ff8c3",
   "metadata": {},
   "outputs": [],
   "source": [
    "# from sklearn.model_selection import LeaveOneOut, LeavePOut, KFold, StratifiedKFold"
   ]
  },
  {
   "cell_type": "code",
   "execution_count": null,
   "id": "8a7ae871",
   "metadata": {},
   "outputs": [],
   "source": []
  }
 ],
 "metadata": {
  "kernelspec": {
   "display_name": "Python 3",
   "language": "python",
   "name": "python3"
  },
  "language_info": {
   "codemirror_mode": {
    "name": "ipython",
    "version": 3
   },
   "file_extension": ".py",
   "mimetype": "text/x-python",
   "name": "python",
   "nbconvert_exporter": "python",
   "pygments_lexer": "ipython3",
   "version": "3.13.5"
  }
 },
 "nbformat": 4,
 "nbformat_minor": 5
}
