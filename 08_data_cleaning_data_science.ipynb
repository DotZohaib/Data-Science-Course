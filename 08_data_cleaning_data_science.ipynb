{
 "cells": [
  {
   "cell_type": "code",
   "execution_count": 17,
   "id": "631d7185",
   "metadata": {},
   "outputs": [],
   "source": [
    "import pandas as pd\n",
    "import numpy as np\n",
    "import matplotlib.pyplot as plt\n",
    "import seaborn as sns"
   ]
  },
  {
   "cell_type": "code",
   "execution_count": 18,
   "id": "4b73d8dc",
   "metadata": {},
   "outputs": [
    {
     "data": {
      "application/vnd.microsoft.datawrangler.viewer.v0+json": {
       "columns": [
        {
         "name": "index",
         "rawType": "int64",
         "type": "integer"
        },
        {
         "name": "id",
         "rawType": "float64",
         "type": "float"
        },
        {
         "name": "name",
         "rawType": "object",
         "type": "unknown"
        },
        {
         "name": "role",
         "rawType": "object",
         "type": "string"
        },
        {
         "name": "salary",
         "rawType": "float64",
         "type": "float"
        },
        {
         "name": "age",
         "rawType": "float64",
         "type": "float"
        },
        {
         "name": "gender",
         "rawType": "object",
         "type": "string"
        },
        {
         "name": "alive",
         "rawType": "object",
         "type": "unknown"
        },
        {
         "name": "department",
         "rawType": "object",
         "type": "string"
        },
        {
         "name": "alone",
         "rawType": "object",
         "type": "unknown"
        },
        {
         "name": "phonenumber",
         "rawType": "object",
         "type": "string"
        },
        {
         "name": "city",
         "rawType": "object",
         "type": "string"
        },
        {
         "name": "state",
         "rawType": "object",
         "type": "string"
        },
        {
         "name": "single",
         "rawType": "object",
         "type": "string"
        },
        {
         "name": "education",
         "rawType": "object",
         "type": "string"
        },
        {
         "name": "loanstatus",
         "rawType": "object",
         "type": "string"
        },
        {
         "name": "Isadmin",
         "rawType": "object",
         "type": "unknown"
        },
        {
         "name": "investement",
         "rawType": "float64",
         "type": "float"
        },
        {
         "name": "yearloadbill",
         "rawType": "float64",
         "type": "float"
        }
       ],
       "ref": "83444343-161d-4b88-b914-923920b5f1f9",
       "rows": [
        [
         "0",
         "1.0",
         "Nathan Bolton",
         "Manager",
         "43056.0",
         "45.0",
         "Other",
         "No",
         "Support",
         "No",
         "4579240482",
         "Jordanbury",
         "Wisconsin",
         "No",
         "High School",
         "Rejected",
         "True",
         "17317.0",
         "50907.0"
        ],
        [
         "1",
         "2.0",
         "Andrew Doyle",
         "Developer",
         "79400.0",
         "60.0",
         "Other",
         "Yes",
         "IT",
         "No",
         "6881176726",
         "Port Markfort",
         "Texas",
         "No",
         "PhD",
         "Approved",
         "False",
         "2091.0",
         "106120.0"
        ],
        [
         "2",
         "3.0",
         "Rebecca Wiley",
         "Designer",
         "49856.0",
         "21.0",
         "Other",
         "No",
         "Finance",
         "Yes",
         "+1-820-049-2423",
         "New Veronica",
         "Alabama",
         "Yes",
         "Bachelors",
         "Pending",
         "True",
         "49187.0",
         "88174.0"
        ],
        [
         "3",
         "4.0",
         "Kim Jones",
         "Support",
         "111784.0",
         "23.0",
         "Other",
         "No",
         "HR",
         "No",
         "174.088.1234",
         "Frenchview",
         "Nevada",
         "Yes",
         "PhD",
         "Pending",
         "False",
         "73576.0",
         "146939.0"
        ],
        [
         "4",
         "5.0",
         null,
         "HR",
         "116251.0",
         "30.0",
         "Other",
         null,
         "HR",
         null,
         "(932)412-2863x945",
         "South Eric",
         "Wyoming",
         "No",
         "Diploma",
         "Approved",
         "True",
         "85059.0",
         "133281.0"
        ]
       ],
       "shape": {
        "columns": 18,
        "rows": 5
       }
      },
      "text/html": [
       "<div>\n",
       "<style scoped>\n",
       "    .dataframe tbody tr th:only-of-type {\n",
       "        vertical-align: middle;\n",
       "    }\n",
       "\n",
       "    .dataframe tbody tr th {\n",
       "        vertical-align: top;\n",
       "    }\n",
       "\n",
       "    .dataframe thead th {\n",
       "        text-align: right;\n",
       "    }\n",
       "</style>\n",
       "<table border=\"1\" class=\"dataframe\">\n",
       "  <thead>\n",
       "    <tr style=\"text-align: right;\">\n",
       "      <th></th>\n",
       "      <th>id</th>\n",
       "      <th>name</th>\n",
       "      <th>role</th>\n",
       "      <th>salary</th>\n",
       "      <th>age</th>\n",
       "      <th>gender</th>\n",
       "      <th>alive</th>\n",
       "      <th>department</th>\n",
       "      <th>alone</th>\n",
       "      <th>phonenumber</th>\n",
       "      <th>city</th>\n",
       "      <th>state</th>\n",
       "      <th>single</th>\n",
       "      <th>education</th>\n",
       "      <th>loanstatus</th>\n",
       "      <th>Isadmin</th>\n",
       "      <th>investement</th>\n",
       "      <th>yearloadbill</th>\n",
       "    </tr>\n",
       "  </thead>\n",
       "  <tbody>\n",
       "    <tr>\n",
       "      <th>0</th>\n",
       "      <td>1.0</td>\n",
       "      <td>Nathan Bolton</td>\n",
       "      <td>Manager</td>\n",
       "      <td>43056.0</td>\n",
       "      <td>45.0</td>\n",
       "      <td>Other</td>\n",
       "      <td>No</td>\n",
       "      <td>Support</td>\n",
       "      <td>No</td>\n",
       "      <td>4579240482</td>\n",
       "      <td>Jordanbury</td>\n",
       "      <td>Wisconsin</td>\n",
       "      <td>No</td>\n",
       "      <td>High School</td>\n",
       "      <td>Rejected</td>\n",
       "      <td>True</td>\n",
       "      <td>17317.0</td>\n",
       "      <td>50907.0</td>\n",
       "    </tr>\n",
       "    <tr>\n",
       "      <th>1</th>\n",
       "      <td>2.0</td>\n",
       "      <td>Andrew Doyle</td>\n",
       "      <td>Developer</td>\n",
       "      <td>79400.0</td>\n",
       "      <td>60.0</td>\n",
       "      <td>Other</td>\n",
       "      <td>Yes</td>\n",
       "      <td>IT</td>\n",
       "      <td>No</td>\n",
       "      <td>6881176726</td>\n",
       "      <td>Port Markfort</td>\n",
       "      <td>Texas</td>\n",
       "      <td>No</td>\n",
       "      <td>PhD</td>\n",
       "      <td>Approved</td>\n",
       "      <td>False</td>\n",
       "      <td>2091.0</td>\n",
       "      <td>106120.0</td>\n",
       "    </tr>\n",
       "    <tr>\n",
       "      <th>2</th>\n",
       "      <td>3.0</td>\n",
       "      <td>Rebecca Wiley</td>\n",
       "      <td>Designer</td>\n",
       "      <td>49856.0</td>\n",
       "      <td>21.0</td>\n",
       "      <td>Other</td>\n",
       "      <td>No</td>\n",
       "      <td>Finance</td>\n",
       "      <td>Yes</td>\n",
       "      <td>+1-820-049-2423</td>\n",
       "      <td>New Veronica</td>\n",
       "      <td>Alabama</td>\n",
       "      <td>Yes</td>\n",
       "      <td>Bachelors</td>\n",
       "      <td>Pending</td>\n",
       "      <td>True</td>\n",
       "      <td>49187.0</td>\n",
       "      <td>88174.0</td>\n",
       "    </tr>\n",
       "    <tr>\n",
       "      <th>3</th>\n",
       "      <td>4.0</td>\n",
       "      <td>Kim Jones</td>\n",
       "      <td>Support</td>\n",
       "      <td>111784.0</td>\n",
       "      <td>23.0</td>\n",
       "      <td>Other</td>\n",
       "      <td>No</td>\n",
       "      <td>HR</td>\n",
       "      <td>No</td>\n",
       "      <td>174.088.1234</td>\n",
       "      <td>Frenchview</td>\n",
       "      <td>Nevada</td>\n",
       "      <td>Yes</td>\n",
       "      <td>PhD</td>\n",
       "      <td>Pending</td>\n",
       "      <td>False</td>\n",
       "      <td>73576.0</td>\n",
       "      <td>146939.0</td>\n",
       "    </tr>\n",
       "    <tr>\n",
       "      <th>4</th>\n",
       "      <td>5.0</td>\n",
       "      <td>NaN</td>\n",
       "      <td>HR</td>\n",
       "      <td>116251.0</td>\n",
       "      <td>30.0</td>\n",
       "      <td>Other</td>\n",
       "      <td>NaN</td>\n",
       "      <td>HR</td>\n",
       "      <td>NaN</td>\n",
       "      <td>(932)412-2863x945</td>\n",
       "      <td>South Eric</td>\n",
       "      <td>Wyoming</td>\n",
       "      <td>No</td>\n",
       "      <td>Diploma</td>\n",
       "      <td>Approved</td>\n",
       "      <td>True</td>\n",
       "      <td>85059.0</td>\n",
       "      <td>133281.0</td>\n",
       "    </tr>\n",
       "  </tbody>\n",
       "</table>\n",
       "</div>"
      ],
      "text/plain": [
       "    id           name       role    salary   age gender alive department  \\\n",
       "0  1.0  Nathan Bolton    Manager   43056.0  45.0  Other    No    Support   \n",
       "1  2.0   Andrew Doyle  Developer   79400.0  60.0  Other   Yes         IT   \n",
       "2  3.0  Rebecca Wiley   Designer   49856.0  21.0  Other    No    Finance   \n",
       "3  4.0      Kim Jones    Support  111784.0  23.0  Other    No         HR   \n",
       "4  5.0            NaN         HR  116251.0  30.0  Other   NaN         HR   \n",
       "\n",
       "  alone        phonenumber           city      state single    education  \\\n",
       "0    No         4579240482     Jordanbury  Wisconsin     No  High School   \n",
       "1    No         6881176726  Port Markfort      Texas     No          PhD   \n",
       "2   Yes    +1-820-049-2423   New Veronica    Alabama    Yes    Bachelors   \n",
       "3    No       174.088.1234     Frenchview     Nevada    Yes          PhD   \n",
       "4   NaN  (932)412-2863x945     South Eric    Wyoming     No      Diploma   \n",
       "\n",
       "  loanstatus Isadmin  investement  yearloadbill  \n",
       "0   Rejected    True      17317.0       50907.0  \n",
       "1   Approved   False       2091.0      106120.0  \n",
       "2    Pending    True      49187.0       88174.0  \n",
       "3    Pending   False      73576.0      146939.0  \n",
       "4   Approved    True      85059.0      133281.0  "
      ]
     },
     "execution_count": 18,
     "metadata": {},
     "output_type": "execute_result"
    }
   ],
   "source": [
    "database = pd.read_excel(\"Company.xlsx\")\n",
    "database.head(5)"
   ]
  },
  {
   "cell_type": "code",
   "execution_count": 19,
   "id": "97cb9fd5",
   "metadata": {},
   "outputs": [
    {
     "name": "stdout",
     "output_type": "stream",
     "text": [
      "<class 'pandas.core.frame.DataFrame'>\n",
      "RangeIndex: 500 entries, 0 to 499\n",
      "Data columns (total 18 columns):\n",
      " #   Column        Non-Null Count  Dtype  \n",
      "---  ------        --------------  -----  \n",
      " 0   id            492 non-null    float64\n",
      " 1   name          486 non-null    object \n",
      " 2   role          490 non-null    object \n",
      " 3   salary        490 non-null    float64\n",
      " 4   age           490 non-null    float64\n",
      " 5   gender        489 non-null    object \n",
      " 6   alive         490 non-null    object \n",
      " 7   department    492 non-null    object \n",
      " 8   alone         490 non-null    object \n",
      " 9   phonenumber   491 non-null    object \n",
      " 10  city          487 non-null    object \n",
      " 11  state         494 non-null    object \n",
      " 12  single        498 non-null    object \n",
      " 13  education     494 non-null    object \n",
      " 14  loanstatus    489 non-null    object \n",
      " 15  Isadmin       496 non-null    object \n",
      " 16  investement   491 non-null    float64\n",
      " 17  yearloadbill  492 non-null    float64\n",
      "dtypes: float64(5), object(13)\n",
      "memory usage: 70.4+ KB\n"
     ]
    }
   ],
   "source": [
    "database.info()"
   ]
  },
  {
   "cell_type": "code",
   "execution_count": 20,
   "id": "8b55f908",
   "metadata": {},
   "outputs": [
    {
     "data": {
      "text/plain": [
       "(500, 18)"
      ]
     },
     "execution_count": 20,
     "metadata": {},
     "output_type": "execute_result"
    }
   ],
   "source": [
    "database.shape"
   ]
  },
  {
   "cell_type": "code",
   "execution_count": 21,
   "id": "494acaba",
   "metadata": {},
   "outputs": [
    {
     "data": {
      "application/vnd.microsoft.datawrangler.viewer.v0+json": {
       "columns": [
        {
         "name": "index",
         "rawType": "int64",
         "type": "integer"
        },
        {
         "name": "id",
         "rawType": "bool",
         "type": "boolean"
        },
        {
         "name": "name",
         "rawType": "bool",
         "type": "boolean"
        },
        {
         "name": "role",
         "rawType": "bool",
         "type": "boolean"
        },
        {
         "name": "salary",
         "rawType": "bool",
         "type": "boolean"
        },
        {
         "name": "age",
         "rawType": "bool",
         "type": "boolean"
        },
        {
         "name": "gender",
         "rawType": "bool",
         "type": "boolean"
        },
        {
         "name": "alive",
         "rawType": "bool",
         "type": "boolean"
        },
        {
         "name": "department",
         "rawType": "bool",
         "type": "boolean"
        },
        {
         "name": "alone",
         "rawType": "bool",
         "type": "boolean"
        },
        {
         "name": "phonenumber",
         "rawType": "bool",
         "type": "boolean"
        },
        {
         "name": "city",
         "rawType": "bool",
         "type": "boolean"
        },
        {
         "name": "state",
         "rawType": "bool",
         "type": "boolean"
        },
        {
         "name": "single",
         "rawType": "bool",
         "type": "boolean"
        },
        {
         "name": "education",
         "rawType": "bool",
         "type": "boolean"
        },
        {
         "name": "loanstatus",
         "rawType": "bool",
         "type": "boolean"
        },
        {
         "name": "Isadmin",
         "rawType": "bool",
         "type": "boolean"
        },
        {
         "name": "investement",
         "rawType": "bool",
         "type": "boolean"
        },
        {
         "name": "yearloadbill",
         "rawType": "bool",
         "type": "boolean"
        }
       ],
       "ref": "4730b81d-a4bb-4f97-8e3e-37b1281dd7bb",
       "rows": [
        [
         "0",
         "False",
         "False",
         "False",
         "False",
         "False",
         "False",
         "False",
         "False",
         "False",
         "False",
         "False",
         "False",
         "False",
         "False",
         "False",
         "False",
         "False",
         "False"
        ],
        [
         "1",
         "False",
         "False",
         "False",
         "False",
         "False",
         "False",
         "False",
         "False",
         "False",
         "False",
         "False",
         "False",
         "False",
         "False",
         "False",
         "False",
         "False",
         "False"
        ],
        [
         "2",
         "False",
         "False",
         "False",
         "False",
         "False",
         "False",
         "False",
         "False",
         "False",
         "False",
         "False",
         "False",
         "False",
         "False",
         "False",
         "False",
         "False",
         "False"
        ],
        [
         "3",
         "False",
         "False",
         "False",
         "False",
         "False",
         "False",
         "False",
         "False",
         "False",
         "False",
         "False",
         "False",
         "False",
         "False",
         "False",
         "False",
         "False",
         "False"
        ],
        [
         "4",
         "False",
         "True",
         "False",
         "False",
         "False",
         "False",
         "True",
         "False",
         "True",
         "False",
         "False",
         "False",
         "False",
         "False",
         "False",
         "False",
         "False",
         "False"
        ],
        [
         "5",
         "False",
         "False",
         "False",
         "False",
         "True",
         "True",
         "False",
         "False",
         "False",
         "False",
         "True",
         "False",
         "False",
         "False",
         "False",
         "True",
         "False",
         "False"
        ],
        [
         "6",
         "False",
         "False",
         "True",
         "False",
         "False",
         "False",
         "False",
         "False",
         "False",
         "False",
         "False",
         "False",
         "False",
         "False",
         "False",
         "False",
         "False",
         "False"
        ],
        [
         "7",
         "False",
         "False",
         "False",
         "False",
         "False",
         "False",
         "False",
         "True",
         "False",
         "False",
         "True",
         "False",
         "False",
         "False",
         "True",
         "False",
         "False",
         "False"
        ],
        [
         "8",
         "False",
         "False",
         "False",
         "False",
         "False",
         "False",
         "False",
         "False",
         "False",
         "False",
         "False",
         "True",
         "False",
         "False",
         "False",
         "False",
         "False",
         "False"
        ],
        [
         "9",
         "True",
         "False",
         "False",
         "False",
         "False",
         "False",
         "False",
         "False",
         "False",
         "False",
         "False",
         "False",
         "False",
         "False",
         "False",
         "False",
         "False",
         "False"
        ],
        [
         "10",
         "False",
         "False",
         "False",
         "False",
         "False",
         "False",
         "False",
         "False",
         "False",
         "False",
         "False",
         "False",
         "False",
         "True",
         "False",
         "False",
         "False",
         "True"
        ],
        [
         "11",
         "False",
         "False",
         "True",
         "False",
         "False",
         "False",
         "True",
         "False",
         "False",
         "True",
         "False",
         "False",
         "False",
         "False",
         "False",
         "False",
         "False",
         "False"
        ],
        [
         "12",
         "False",
         "False",
         "False",
         "False",
         "False",
         "False",
         "False",
         "True",
         "True",
         "False",
         "False",
         "False",
         "False",
         "False",
         "False",
         "False",
         "True",
         "False"
        ],
        [
         "13",
         "False",
         "False",
         "False",
         "False",
         "False",
         "True",
         "False",
         "False",
         "False",
         "False",
         "True",
         "False",
         "False",
         "False",
         "False",
         "False",
         "False",
         "False"
        ],
        [
         "14",
         "False",
         "False",
         "False",
         "False",
         "False",
         "False",
         "False",
         "False",
         "False",
         "False",
         "False",
         "False",
         "False",
         "False",
         "False",
         "False",
         "True",
         "False"
        ],
        [
         "15",
         "False",
         "True",
         "True",
         "False",
         "False",
         "False",
         "False",
         "False",
         "False",
         "False",
         "True",
         "False",
         "False",
         "False",
         "False",
         "False",
         "False",
         "False"
        ],
        [
         "16",
         "False",
         "False",
         "False",
         "False",
         "False",
         "False",
         "True",
         "False",
         "False",
         "False",
         "False",
         "False",
         "False",
         "False",
         "False",
         "False",
         "False",
         "False"
        ],
        [
         "17",
         "False",
         "True",
         "False",
         "False",
         "False",
         "False",
         "False",
         "False",
         "True",
         "False",
         "False",
         "False",
         "False",
         "False",
         "False",
         "False",
         "False",
         "False"
        ],
        [
         "18",
         "False",
         "False",
         "False",
         "False",
         "False",
         "False",
         "False",
         "False",
         "False",
         "True",
         "False",
         "False",
         "False",
         "False",
         "False",
         "False",
         "False",
         "False"
        ],
        [
         "19",
         "False",
         "False",
         "False",
         "False",
         "False",
         "False",
         "False",
         "False",
         "False",
         "False",
         "False",
         "False",
         "False",
         "False",
         "False",
         "False",
         "False",
         "False"
        ],
        [
         "20",
         "False",
         "False",
         "False",
         "False",
         "False",
         "False",
         "False",
         "False",
         "False",
         "False",
         "False",
         "False",
         "False",
         "False",
         "False",
         "False",
         "False",
         "False"
        ],
        [
         "21",
         "False",
         "False",
         "False",
         "False",
         "False",
         "False",
         "False",
         "False",
         "False",
         "False",
         "False",
         "False",
         "False",
         "False",
         "False",
         "False",
         "False",
         "False"
        ],
        [
         "22",
         "False",
         "False",
         "False",
         "False",
         "False",
         "False",
         "False",
         "False",
         "False",
         "False",
         "False",
         "False",
         "False",
         "False",
         "False",
         "False",
         "False",
         "False"
        ],
        [
         "23",
         "False",
         "False",
         "False",
         "False",
         "False",
         "False",
         "False",
         "False",
         "False",
         "False",
         "False",
         "False",
         "False",
         "False",
         "False",
         "False",
         "False",
         "False"
        ],
        [
         "24",
         "False",
         "False",
         "False",
         "False",
         "False",
         "False",
         "False",
         "False",
         "False",
         "False",
         "False",
         "False",
         "False",
         "False",
         "False",
         "False",
         "False",
         "False"
        ],
        [
         "25",
         "False",
         "False",
         "False",
         "False",
         "False",
         "False",
         "False",
         "False",
         "False",
         "False",
         "False",
         "False",
         "False",
         "False",
         "False",
         "False",
         "False",
         "False"
        ],
        [
         "26",
         "False",
         "True",
         "False",
         "True",
         "False",
         "False",
         "False",
         "False",
         "False",
         "False",
         "False",
         "False",
         "False",
         "False",
         "False",
         "False",
         "False",
         "False"
        ],
        [
         "27",
         "False",
         "False",
         "False",
         "False",
         "True",
         "False",
         "True",
         "False",
         "False",
         "False",
         "False",
         "False",
         "False",
         "False",
         "False",
         "False",
         "False",
         "False"
        ],
        [
         "28",
         "False",
         "False",
         "False",
         "False",
         "False",
         "False",
         "False",
         "False",
         "True",
         "False",
         "False",
         "False",
         "False",
         "True",
         "False",
         "False",
         "False",
         "False"
        ],
        [
         "29",
         "False",
         "False",
         "False",
         "False",
         "False",
         "False",
         "False",
         "False",
         "False",
         "False",
         "True",
         "False",
         "False",
         "False",
         "False",
         "False",
         "False",
         "False"
        ],
        [
         "30",
         "False",
         "True",
         "False",
         "False",
         "False",
         "False",
         "False",
         "False",
         "False",
         "False",
         "True",
         "False",
         "True",
         "False",
         "False",
         "False",
         "False",
         "False"
        ],
        [
         "31",
         "False",
         "False",
         "True",
         "False",
         "False",
         "False",
         "False",
         "False",
         "False",
         "False",
         "False",
         "False",
         "False",
         "False",
         "False",
         "False",
         "False",
         "False"
        ],
        [
         "32",
         "False",
         "False",
         "False",
         "False",
         "False",
         "False",
         "False",
         "False",
         "False",
         "False",
         "False",
         "False",
         "False",
         "False",
         "False",
         "False",
         "False",
         "False"
        ],
        [
         "33",
         "False",
         "False",
         "False",
         "False",
         "False",
         "False",
         "False",
         "False",
         "False",
         "False",
         "False",
         "False",
         "False",
         "False",
         "False",
         "False",
         "False",
         "False"
        ],
        [
         "34",
         "False",
         "False",
         "True",
         "True",
         "False",
         "False",
         "False",
         "False",
         "False",
         "False",
         "False",
         "False",
         "False",
         "False",
         "False",
         "False",
         "False",
         "False"
        ],
        [
         "35",
         "False",
         "False",
         "False",
         "False",
         "False",
         "False",
         "False",
         "False",
         "False",
         "False",
         "False",
         "False",
         "False",
         "False",
         "False",
         "False",
         "False",
         "False"
        ],
        [
         "36",
         "False",
         "True",
         "False",
         "False",
         "False",
         "False",
         "False",
         "False",
         "False",
         "True",
         "False",
         "False",
         "False",
         "False",
         "False",
         "False",
         "False",
         "False"
        ],
        [
         "37",
         "False",
         "False",
         "False",
         "False",
         "False",
         "False",
         "False",
         "False",
         "False",
         "False",
         "False",
         "False",
         "False",
         "False",
         "False",
         "False",
         "False",
         "False"
        ],
        [
         "38",
         "False",
         "False",
         "False",
         "True",
         "False",
         "False",
         "False",
         "False",
         "False",
         "False",
         "False",
         "False",
         "False",
         "False",
         "False",
         "False",
         "False",
         "False"
        ],
        [
         "39",
         "False",
         "False",
         "False",
         "False",
         "False",
         "True",
         "True",
         "False",
         "False",
         "False",
         "False",
         "False",
         "False",
         "False",
         "True",
         "False",
         "False",
         "False"
        ],
        [
         "40",
         "False",
         "False",
         "False",
         "False",
         "True",
         "False",
         "False",
         "True",
         "False",
         "False",
         "False",
         "False",
         "False",
         "False",
         "False",
         "False",
         "True",
         "True"
        ],
        [
         "41",
         "False",
         "False",
         "False",
         "True",
         "False",
         "True",
         "True",
         "False",
         "False",
         "False",
         "False",
         "False",
         "False",
         "False",
         "False",
         "False",
         "False",
         "False"
        ],
        [
         "42",
         "False",
         "False",
         "False",
         "False",
         "False",
         "False",
         "False",
         "True",
         "False",
         "False",
         "False",
         "False",
         "False",
         "False",
         "True",
         "True",
         "False",
         "True"
        ],
        [
         "43",
         "False",
         "False",
         "False",
         "False",
         "True",
         "False",
         "False",
         "False",
         "False",
         "False",
         "False",
         "False",
         "False",
         "False",
         "False",
         "False",
         "False",
         "False"
        ],
        [
         "44",
         "False",
         "False",
         "False",
         "False",
         "False",
         "False",
         "False",
         "False",
         "True",
         "False",
         "False",
         "False",
         "False",
         "False",
         "False",
         "False",
         "True",
         "False"
        ],
        [
         "45",
         "False",
         "False",
         "False",
         "False",
         "False",
         "True",
         "False",
         "False",
         "False",
         "False",
         "False",
         "False",
         "False",
         "False",
         "False",
         "False",
         "False",
         "False"
        ],
        [
         "46",
         "False",
         "False",
         "False",
         "False",
         "False",
         "False",
         "False",
         "False",
         "False",
         "False",
         "True",
         "False",
         "False",
         "False",
         "False",
         "False",
         "False",
         "False"
        ],
        [
         "47",
         "False",
         "False",
         "False",
         "True",
         "False",
         "False",
         "False",
         "False",
         "True",
         "False",
         "False",
         "False",
         "False",
         "False",
         "True",
         "False",
         "False",
         "False"
        ],
        [
         "48",
         "False",
         "False",
         "False",
         "False",
         "False",
         "False",
         "True",
         "True",
         "False",
         "False",
         "False",
         "False",
         "False",
         "False",
         "False",
         "True",
         "False",
         "True"
        ],
        [
         "49",
         "False",
         "False",
         "False",
         "False",
         "True",
         "False",
         "False",
         "False",
         "False",
         "False",
         "False",
         "False",
         "False",
         "False",
         "False",
         "False",
         "False",
         "False"
        ]
       ],
       "shape": {
        "columns": 18,
        "rows": 500
       }
      },
      "text/html": [
       "<div>\n",
       "<style scoped>\n",
       "    .dataframe tbody tr th:only-of-type {\n",
       "        vertical-align: middle;\n",
       "    }\n",
       "\n",
       "    .dataframe tbody tr th {\n",
       "        vertical-align: top;\n",
       "    }\n",
       "\n",
       "    .dataframe thead th {\n",
       "        text-align: right;\n",
       "    }\n",
       "</style>\n",
       "<table border=\"1\" class=\"dataframe\">\n",
       "  <thead>\n",
       "    <tr style=\"text-align: right;\">\n",
       "      <th></th>\n",
       "      <th>id</th>\n",
       "      <th>name</th>\n",
       "      <th>role</th>\n",
       "      <th>salary</th>\n",
       "      <th>age</th>\n",
       "      <th>gender</th>\n",
       "      <th>alive</th>\n",
       "      <th>department</th>\n",
       "      <th>alone</th>\n",
       "      <th>phonenumber</th>\n",
       "      <th>city</th>\n",
       "      <th>state</th>\n",
       "      <th>single</th>\n",
       "      <th>education</th>\n",
       "      <th>loanstatus</th>\n",
       "      <th>Isadmin</th>\n",
       "      <th>investement</th>\n",
       "      <th>yearloadbill</th>\n",
       "    </tr>\n",
       "  </thead>\n",
       "  <tbody>\n",
       "    <tr>\n",
       "      <th>0</th>\n",
       "      <td>False</td>\n",
       "      <td>False</td>\n",
       "      <td>False</td>\n",
       "      <td>False</td>\n",
       "      <td>False</td>\n",
       "      <td>False</td>\n",
       "      <td>False</td>\n",
       "      <td>False</td>\n",
       "      <td>False</td>\n",
       "      <td>False</td>\n",
       "      <td>False</td>\n",
       "      <td>False</td>\n",
       "      <td>False</td>\n",
       "      <td>False</td>\n",
       "      <td>False</td>\n",
       "      <td>False</td>\n",
       "      <td>False</td>\n",
       "      <td>False</td>\n",
       "    </tr>\n",
       "    <tr>\n",
       "      <th>1</th>\n",
       "      <td>False</td>\n",
       "      <td>False</td>\n",
       "      <td>False</td>\n",
       "      <td>False</td>\n",
       "      <td>False</td>\n",
       "      <td>False</td>\n",
       "      <td>False</td>\n",
       "      <td>False</td>\n",
       "      <td>False</td>\n",
       "      <td>False</td>\n",
       "      <td>False</td>\n",
       "      <td>False</td>\n",
       "      <td>False</td>\n",
       "      <td>False</td>\n",
       "      <td>False</td>\n",
       "      <td>False</td>\n",
       "      <td>False</td>\n",
       "      <td>False</td>\n",
       "    </tr>\n",
       "    <tr>\n",
       "      <th>2</th>\n",
       "      <td>False</td>\n",
       "      <td>False</td>\n",
       "      <td>False</td>\n",
       "      <td>False</td>\n",
       "      <td>False</td>\n",
       "      <td>False</td>\n",
       "      <td>False</td>\n",
       "      <td>False</td>\n",
       "      <td>False</td>\n",
       "      <td>False</td>\n",
       "      <td>False</td>\n",
       "      <td>False</td>\n",
       "      <td>False</td>\n",
       "      <td>False</td>\n",
       "      <td>False</td>\n",
       "      <td>False</td>\n",
       "      <td>False</td>\n",
       "      <td>False</td>\n",
       "    </tr>\n",
       "    <tr>\n",
       "      <th>3</th>\n",
       "      <td>False</td>\n",
       "      <td>False</td>\n",
       "      <td>False</td>\n",
       "      <td>False</td>\n",
       "      <td>False</td>\n",
       "      <td>False</td>\n",
       "      <td>False</td>\n",
       "      <td>False</td>\n",
       "      <td>False</td>\n",
       "      <td>False</td>\n",
       "      <td>False</td>\n",
       "      <td>False</td>\n",
       "      <td>False</td>\n",
       "      <td>False</td>\n",
       "      <td>False</td>\n",
       "      <td>False</td>\n",
       "      <td>False</td>\n",
       "      <td>False</td>\n",
       "    </tr>\n",
       "    <tr>\n",
       "      <th>4</th>\n",
       "      <td>False</td>\n",
       "      <td>True</td>\n",
       "      <td>False</td>\n",
       "      <td>False</td>\n",
       "      <td>False</td>\n",
       "      <td>False</td>\n",
       "      <td>True</td>\n",
       "      <td>False</td>\n",
       "      <td>True</td>\n",
       "      <td>False</td>\n",
       "      <td>False</td>\n",
       "      <td>False</td>\n",
       "      <td>False</td>\n",
       "      <td>False</td>\n",
       "      <td>False</td>\n",
       "      <td>False</td>\n",
       "      <td>False</td>\n",
       "      <td>False</td>\n",
       "    </tr>\n",
       "    <tr>\n",
       "      <th>...</th>\n",
       "      <td>...</td>\n",
       "      <td>...</td>\n",
       "      <td>...</td>\n",
       "      <td>...</td>\n",
       "      <td>...</td>\n",
       "      <td>...</td>\n",
       "      <td>...</td>\n",
       "      <td>...</td>\n",
       "      <td>...</td>\n",
       "      <td>...</td>\n",
       "      <td>...</td>\n",
       "      <td>...</td>\n",
       "      <td>...</td>\n",
       "      <td>...</td>\n",
       "      <td>...</td>\n",
       "      <td>...</td>\n",
       "      <td>...</td>\n",
       "      <td>...</td>\n",
       "    </tr>\n",
       "    <tr>\n",
       "      <th>495</th>\n",
       "      <td>True</td>\n",
       "      <td>False</td>\n",
       "      <td>False</td>\n",
       "      <td>False</td>\n",
       "      <td>False</td>\n",
       "      <td>False</td>\n",
       "      <td>False</td>\n",
       "      <td>False</td>\n",
       "      <td>False</td>\n",
       "      <td>False</td>\n",
       "      <td>False</td>\n",
       "      <td>False</td>\n",
       "      <td>False</td>\n",
       "      <td>False</td>\n",
       "      <td>False</td>\n",
       "      <td>False</td>\n",
       "      <td>False</td>\n",
       "      <td>False</td>\n",
       "    </tr>\n",
       "    <tr>\n",
       "      <th>496</th>\n",
       "      <td>False</td>\n",
       "      <td>False</td>\n",
       "      <td>False</td>\n",
       "      <td>False</td>\n",
       "      <td>False</td>\n",
       "      <td>False</td>\n",
       "      <td>False</td>\n",
       "      <td>False</td>\n",
       "      <td>False</td>\n",
       "      <td>False</td>\n",
       "      <td>False</td>\n",
       "      <td>False</td>\n",
       "      <td>False</td>\n",
       "      <td>False</td>\n",
       "      <td>True</td>\n",
       "      <td>False</td>\n",
       "      <td>False</td>\n",
       "      <td>False</td>\n",
       "    </tr>\n",
       "    <tr>\n",
       "      <th>497</th>\n",
       "      <td>False</td>\n",
       "      <td>False</td>\n",
       "      <td>False</td>\n",
       "      <td>False</td>\n",
       "      <td>False</td>\n",
       "      <td>False</td>\n",
       "      <td>False</td>\n",
       "      <td>False</td>\n",
       "      <td>False</td>\n",
       "      <td>False</td>\n",
       "      <td>False</td>\n",
       "      <td>False</td>\n",
       "      <td>False</td>\n",
       "      <td>False</td>\n",
       "      <td>False</td>\n",
       "      <td>False</td>\n",
       "      <td>False</td>\n",
       "      <td>False</td>\n",
       "    </tr>\n",
       "    <tr>\n",
       "      <th>498</th>\n",
       "      <td>False</td>\n",
       "      <td>False</td>\n",
       "      <td>False</td>\n",
       "      <td>False</td>\n",
       "      <td>False</td>\n",
       "      <td>False</td>\n",
       "      <td>False</td>\n",
       "      <td>False</td>\n",
       "      <td>False</td>\n",
       "      <td>False</td>\n",
       "      <td>False</td>\n",
       "      <td>False</td>\n",
       "      <td>False</td>\n",
       "      <td>False</td>\n",
       "      <td>False</td>\n",
       "      <td>False</td>\n",
       "      <td>False</td>\n",
       "      <td>False</td>\n",
       "    </tr>\n",
       "    <tr>\n",
       "      <th>499</th>\n",
       "      <td>False</td>\n",
       "      <td>False</td>\n",
       "      <td>False</td>\n",
       "      <td>False</td>\n",
       "      <td>False</td>\n",
       "      <td>False</td>\n",
       "      <td>False</td>\n",
       "      <td>False</td>\n",
       "      <td>False</td>\n",
       "      <td>False</td>\n",
       "      <td>False</td>\n",
       "      <td>False</td>\n",
       "      <td>False</td>\n",
       "      <td>False</td>\n",
       "      <td>False</td>\n",
       "      <td>False</td>\n",
       "      <td>False</td>\n",
       "      <td>False</td>\n",
       "    </tr>\n",
       "  </tbody>\n",
       "</table>\n",
       "<p>500 rows × 18 columns</p>\n",
       "</div>"
      ],
      "text/plain": [
       "        id   name   role  salary    age  gender  alive  department  alone  \\\n",
       "0    False  False  False   False  False   False  False       False  False   \n",
       "1    False  False  False   False  False   False  False       False  False   \n",
       "2    False  False  False   False  False   False  False       False  False   \n",
       "3    False  False  False   False  False   False  False       False  False   \n",
       "4    False   True  False   False  False   False   True       False   True   \n",
       "..     ...    ...    ...     ...    ...     ...    ...         ...    ...   \n",
       "495   True  False  False   False  False   False  False       False  False   \n",
       "496  False  False  False   False  False   False  False       False  False   \n",
       "497  False  False  False   False  False   False  False       False  False   \n",
       "498  False  False  False   False  False   False  False       False  False   \n",
       "499  False  False  False   False  False   False  False       False  False   \n",
       "\n",
       "     phonenumber   city  state  single  education  loanstatus  Isadmin  \\\n",
       "0          False  False  False   False      False       False    False   \n",
       "1          False  False  False   False      False       False    False   \n",
       "2          False  False  False   False      False       False    False   \n",
       "3          False  False  False   False      False       False    False   \n",
       "4          False  False  False   False      False       False    False   \n",
       "..           ...    ...    ...     ...        ...         ...      ...   \n",
       "495        False  False  False   False      False       False    False   \n",
       "496        False  False  False   False      False        True    False   \n",
       "497        False  False  False   False      False       False    False   \n",
       "498        False  False  False   False      False       False    False   \n",
       "499        False  False  False   False      False       False    False   \n",
       "\n",
       "     investement  yearloadbill  \n",
       "0          False         False  \n",
       "1          False         False  \n",
       "2          False         False  \n",
       "3          False         False  \n",
       "4          False         False  \n",
       "..           ...           ...  \n",
       "495        False         False  \n",
       "496        False         False  \n",
       "497        False         False  \n",
       "498        False         False  \n",
       "499        False         False  \n",
       "\n",
       "[500 rows x 18 columns]"
      ]
     },
     "execution_count": 21,
     "metadata": {},
     "output_type": "execute_result"
    }
   ],
   "source": [
    "database.isnull()"
   ]
  },
  {
   "cell_type": "code",
   "execution_count": 22,
   "id": "29f7e9b0",
   "metadata": {},
   "outputs": [
    {
     "data": {
      "application/vnd.microsoft.datawrangler.viewer.v0+json": {
       "columns": [
        {
         "name": "index",
         "rawType": "object",
         "type": "string"
        },
        {
         "name": "0",
         "rawType": "int64",
         "type": "integer"
        }
       ],
       "ref": "af9949ed-f26e-4fe1-a6d3-bd68c739377e",
       "rows": [
        [
         "id",
         "8"
        ],
        [
         "name",
         "14"
        ],
        [
         "role",
         "10"
        ],
        [
         "salary",
         "10"
        ],
        [
         "age",
         "10"
        ],
        [
         "gender",
         "11"
        ],
        [
         "alive",
         "10"
        ],
        [
         "department",
         "8"
        ],
        [
         "alone",
         "10"
        ],
        [
         "phonenumber",
         "9"
        ],
        [
         "city",
         "13"
        ],
        [
         "state",
         "6"
        ],
        [
         "single",
         "2"
        ],
        [
         "education",
         "6"
        ],
        [
         "loanstatus",
         "11"
        ],
        [
         "Isadmin",
         "4"
        ],
        [
         "investement",
         "9"
        ],
        [
         "yearloadbill",
         "8"
        ]
       ],
       "shape": {
        "columns": 1,
        "rows": 18
       }
      },
      "text/plain": [
       "id               8\n",
       "name            14\n",
       "role            10\n",
       "salary          10\n",
       "age             10\n",
       "gender          11\n",
       "alive           10\n",
       "department       8\n",
       "alone           10\n",
       "phonenumber      9\n",
       "city            13\n",
       "state            6\n",
       "single           2\n",
       "education        6\n",
       "loanstatus      11\n",
       "Isadmin          4\n",
       "investement      9\n",
       "yearloadbill     8\n",
       "dtype: int64"
      ]
     },
     "execution_count": 22,
     "metadata": {},
     "output_type": "execute_result"
    }
   ],
   "source": [
    "database.isnull().sum()"
   ]
  },
  {
   "cell_type": "code",
   "execution_count": 23,
   "id": "a01579ad",
   "metadata": {},
   "outputs": [
    {
     "data": {
      "text/plain": [
       "np.int64(8841)"
      ]
     },
     "execution_count": 23,
     "metadata": {},
     "output_type": "execute_result"
    }
   ],
   "source": [
    "database.notnull().sum().sum()"
   ]
  },
  {
   "cell_type": "code",
   "execution_count": 24,
   "id": "c089e16f",
   "metadata": {},
   "outputs": [
    {
     "name": "stdout",
     "output_type": "stream",
     "text": [
      "The percentage of missing values is:  1.7666666666666668\n"
     ]
    }
   ],
   "source": [
    "data : any = database.isnull().sum().sum()/(database.shape[0]*database.shape[1])*100\n",
    "print(\"The percentage of missing values is: \", data)"
   ]
  },
  {
   "cell_type": "code",
   "execution_count": 25,
   "id": "70e0e9e4",
   "metadata": {},
   "outputs": [
    {
     "data": {
      "application/vnd.microsoft.datawrangler.viewer.v0+json": {
       "columns": [
        {
         "name": "index",
         "rawType": "object",
         "type": "string"
        },
        {
         "name": "0",
         "rawType": "float64",
         "type": "float"
        }
       ],
       "ref": "97d20dfc-6be3-4483-865f-62fbfa27bc40",
       "rows": [
        [
         "id",
         "1.6"
        ],
        [
         "name",
         "2.8000000000000003"
        ],
        [
         "role",
         "2.0"
        ],
        [
         "salary",
         "2.0"
        ],
        [
         "age",
         "2.0"
        ],
        [
         "gender",
         "2.1999999999999997"
        ],
        [
         "alive",
         "2.0"
        ],
        [
         "department",
         "1.6"
        ],
        [
         "alone",
         "2.0"
        ],
        [
         "phonenumber",
         "1.7999999999999998"
        ],
        [
         "city",
         "2.6"
        ],
        [
         "state",
         "1.2"
        ],
        [
         "single",
         "0.4"
        ],
        [
         "education",
         "1.2"
        ],
        [
         "loanstatus",
         "2.1999999999999997"
        ],
        [
         "Isadmin",
         "0.8"
        ],
        [
         "investement",
         "1.7999999999999998"
        ],
        [
         "yearloadbill",
         "1.6"
        ]
       ],
       "shape": {
        "columns": 1,
        "rows": 18
       }
      },
      "text/plain": [
       "id              1.6\n",
       "name            2.8\n",
       "role            2.0\n",
       "salary          2.0\n",
       "age             2.0\n",
       "gender          2.2\n",
       "alive           2.0\n",
       "department      1.6\n",
       "alone           2.0\n",
       "phonenumber     1.8\n",
       "city            2.6\n",
       "state           1.2\n",
       "single          0.4\n",
       "education       1.2\n",
       "loanstatus      2.2\n",
       "Isadmin         0.8\n",
       "investement     1.8\n",
       "yearloadbill    1.6\n",
       "dtype: float64"
      ]
     },
     "execution_count": 25,
     "metadata": {},
     "output_type": "execute_result"
    }
   ],
   "source": [
    "database.isnull().sum()/database.shape[0]*100"
   ]
  },
  {
   "cell_type": "code",
   "execution_count": 26,
   "id": "8a3dba64",
   "metadata": {},
   "outputs": [
    {
     "data": {
      "application/vnd.microsoft.datawrangler.viewer.v0+json": {
       "columns": [
        {
         "name": "index",
         "rawType": "int64",
         "type": "integer"
        },
        {
         "name": "0",
         "rawType": "bool",
         "type": "boolean"
        }
       ],
       "ref": "2f865266-87ce-4d1b-8ef3-02b0d6f2c409",
       "rows": [
        [
         "0",
         "False"
        ],
        [
         "1",
         "False"
        ],
        [
         "2",
         "False"
        ],
        [
         "3",
         "False"
        ],
        [
         "4",
         "False"
        ],
        [
         "5",
         "False"
        ],
        [
         "6",
         "False"
        ],
        [
         "7",
         "False"
        ],
        [
         "8",
         "False"
        ],
        [
         "9",
         "False"
        ],
        [
         "10",
         "False"
        ],
        [
         "11",
         "False"
        ],
        [
         "12",
         "False"
        ],
        [
         "13",
         "False"
        ],
        [
         "14",
         "False"
        ],
        [
         "15",
         "False"
        ],
        [
         "16",
         "False"
        ],
        [
         "17",
         "False"
        ],
        [
         "18",
         "False"
        ],
        [
         "19",
         "False"
        ],
        [
         "20",
         "False"
        ],
        [
         "21",
         "False"
        ],
        [
         "22",
         "False"
        ],
        [
         "23",
         "False"
        ],
        [
         "24",
         "False"
        ],
        [
         "25",
         "False"
        ],
        [
         "26",
         "False"
        ],
        [
         "27",
         "False"
        ],
        [
         "28",
         "False"
        ],
        [
         "29",
         "False"
        ],
        [
         "30",
         "False"
        ],
        [
         "31",
         "False"
        ],
        [
         "32",
         "False"
        ],
        [
         "33",
         "False"
        ],
        [
         "34",
         "False"
        ],
        [
         "35",
         "False"
        ],
        [
         "36",
         "False"
        ],
        [
         "37",
         "False"
        ],
        [
         "38",
         "False"
        ],
        [
         "39",
         "False"
        ],
        [
         "40",
         "False"
        ],
        [
         "41",
         "False"
        ],
        [
         "42",
         "False"
        ],
        [
         "43",
         "False"
        ],
        [
         "44",
         "False"
        ],
        [
         "45",
         "False"
        ],
        [
         "46",
         "False"
        ],
        [
         "47",
         "False"
        ],
        [
         "48",
         "False"
        ],
        [
         "49",
         "False"
        ]
       ],
       "shape": {
        "columns": 1,
        "rows": 500
       }
      },
      "text/plain": [
       "0      False\n",
       "1      False\n",
       "2      False\n",
       "3      False\n",
       "4      False\n",
       "       ...  \n",
       "495    False\n",
       "496    False\n",
       "497    False\n",
       "498    False\n",
       "499    False\n",
       "Length: 500, dtype: bool"
      ]
     },
     "execution_count": 26,
     "metadata": {},
     "output_type": "execute_result"
    }
   ],
   "source": [
    "database.duplicated()"
   ]
  },
  {
   "cell_type": "code",
   "execution_count": 46,
   "id": "32b99964",
   "metadata": {},
   "outputs": [
    {
     "data": {
      "image/png": "[encoded data removed]",
      "text/plain": [
       "<Figure size 640x480 with 2 Axes>"
      ]
     },
     "metadata": {},
     "output_type": "display_data"
    }
   ],
   "source": [
    "sns.heatmap(database.isnull())\n",
    "plt.show()"
   ]
  },
  {
   "cell_type": "code",
   "execution_count": 32,
   "id": "c2cc2012",
   "metadata": {},
   "outputs": [
    {
     "name": "stdout",
     "output_type": "stream",
     "text": [
      "The number of missing values in age is:  10\n"
     ]
    }
   ],
   "source": [
    "Age_data : any = database[\"age\"].isnull().sum()\n",
    "print(\"The number of missing values in age is: \", Age_data)"
   ]
  },
  {
   "cell_type": "code",
   "execution_count": 14,
   "id": "a3237eea",
   "metadata": {},
   "outputs": [],
   "source": [
    "database.drop(columns=[\"yearloadbill\"], inplace=True)"
   ]
  },
  {
   "cell_type": "code",
   "execution_count": 15,
   "id": "4317d33e",
   "metadata": {},
   "outputs": [],
   "source": [
    "database.dropna(inplace=True)"
   ]
  },
  {
   "cell_type": "code",
   "execution_count": 31,
   "id": "ec89e88b",
   "metadata": {},
   "outputs": [
    {
     "name": "stderr",
     "output_type": "stream",
     "text": [
      "C:\\Users\\Hp\\AppData\\Local\\Temp\\ipykernel_15840\\2365348172.py:1: FutureWarning: A value is trying to be set on a copy of a DataFrame or Series through chained assignment using an inplace method.\n",
      "The behavior will change in pandas 3.0. This inplace method will never work because the intermediate object on which we are setting values always behaves as a copy.\n",
      "\n",
      "For example, when doing 'df[col].method(value, inplace=True)', try using 'df.method({col: value}, inplace=True)' or df[col] = df[col].method(value) instead, to perform the operation inplace on the original object.\n",
      "\n",
      "\n",
      "  database[\"age\"].fillna(database[\"age\"].mode(), inplace=True)\n"
     ]
    }
   ],
   "source": [
    "database[\"age\"].fillna(database[\"age\"].mode(), inplace=True)"
   ]
  },
  {
   "cell_type": "code",
   "execution_count": 36,
   "id": "cf4c18e4",
   "metadata": {},
   "outputs": [
    {
     "name": "stderr",
     "output_type": "stream",
     "text": [
      "C:\\Users\\Hp\\AppData\\Local\\Temp\\ipykernel_15840\\1341814912.py:1: FutureWarning: A value is trying to be set on a copy of a DataFrame or Series through chained assignment using an inplace method.\n",
      "The behavior will change in pandas 3.0. This inplace method will never work because the intermediate object on which we are setting values always behaves as a copy.\n",
      "\n",
      "For example, when doing 'df[col].method(value, inplace=True)', try using 'df.method({col: value}, inplace=True)' or df[col] = df[col].method(value) instead, to perform the operation inplace on the original object.\n",
      "\n",
      "\n",
      "  database[\"age\"].fillna(database[\"age\"].mean(), inplace=True)\n"
     ]
    }
   ],
   "source": [
    "database[\"age\"].fillna(database[\"age\"].mean(), inplace=True)"
   ]
  },
  {
   "cell_type": "code",
   "execution_count": 34,
   "id": "ea195881",
   "metadata": {},
   "outputs": [
    {
     "name": "stdout",
     "output_type": "stream",
     "text": [
      "The number of missing values in age is:  0\n"
     ]
    }
   ],
   "source": [
    "Age_data : any = database[\"age\"].isnull().sum()\n",
    "print(\"The number of missing values in age is: \", Age_data)"
   ]
  },
  {
   "cell_type": "code",
   "execution_count": null,
   "id": "816a823d",
   "metadata": {},
   "outputs": [
    {
     "name": "stderr",
     "output_type": "stream",
     "text": [
      "C:\\Users\\Hp\\AppData\\Local\\Temp\\ipykernel_15840\\1992251017.py:2: FutureWarning: A value is trying to be set on a copy of a DataFrame or Series through chained assignment using an inplace method.\n",
      "The behavior will change in pandas 3.0. This inplace method will never work because the intermediate object on which we are setting values always behaves as a copy.\n",
      "\n",
      "For example, when doing 'df[col].method(value, inplace=True)', try using 'df.method({col: value}, inplace=True)' or df[col] = df[col].method(value) instead, to perform the operation inplace on the original object.\n",
      "\n",
      "\n",
      "  database[i].fillna(database[i].mode()[0], inplace=True)\n"
     ]
    }
   ],
   "source": [
    "for i in database.select_dtypes(include=[\"float64\"]).columns:\n",
    "    database[i].fillna(database[i].mode()[0], inplace=True)"
   ]
  },
  {
   "cell_type": "code",
   "execution_count": 43,
   "id": "be132a03",
   "metadata": {},
   "outputs": [
    {
     "name": "stdout",
     "output_type": "stream",
     "text": [
      "<class 'pandas.core.frame.DataFrame'>\n",
      "RangeIndex: 500 entries, 0 to 499\n",
      "Data columns (total 18 columns):\n",
      " #   Column        Non-Null Count  Dtype  \n",
      "---  ------        --------------  -----  \n",
      " 0   id            500 non-null    float64\n",
      " 1   name          486 non-null    object \n",
      " 2   role          490 non-null    object \n",
      " 3   salary        500 non-null    float64\n",
      " 4   age           500 non-null    float64\n",
      " 5   gender        489 non-null    object \n",
      " 6   alive         490 non-null    object \n",
      " 7   department    492 non-null    object \n",
      " 8   alone         490 non-null    object \n",
      " 9   phonenumber   491 non-null    object \n",
      " 10  city          487 non-null    object \n",
      " 11  state         494 non-null    object \n",
      " 12  single        498 non-null    object \n",
      " 13  education     494 non-null    object \n",
      " 14  loanstatus    489 non-null    object \n",
      " 15  Isadmin       496 non-null    object \n",
      " 16  investement   500 non-null    float64\n",
      " 17  yearloadbill  500 non-null    float64\n",
      "dtypes: float64(5), object(13)\n",
      "memory usage: 70.4+ KB\n"
     ]
    }
   ],
   "source": [
    "database.info()"
   ]
  },
  {
   "cell_type": "code",
   "execution_count": 44,
   "id": "2085a3e4",
   "metadata": {},
   "outputs": [
    {
     "name": "stderr",
     "output_type": "stream",
     "text": [
      "C:\\Users\\Hp\\AppData\\Local\\Temp\\ipykernel_15840\\2210311117.py:2: FutureWarning: A value is trying to be set on a copy of a DataFrame or Series through chained assignment using an inplace method.\n",
      "The behavior will change in pandas 3.0. This inplace method will never work because the intermediate object on which we are setting values always behaves as a copy.\n",
      "\n",
      "For example, when doing 'df[col].method(value, inplace=True)', try using 'df.method({col: value}, inplace=True)' or df[col] = df[col].method(value) instead, to perform the operation inplace on the original object.\n",
      "\n",
      "\n",
      "  database[i].fillna(database[i].mode()[0], inplace=True)\n",
      "C:\\Users\\Hp\\AppData\\Local\\Temp\\ipykernel_15840\\2210311117.py:2: FutureWarning: Downcasting object dtype arrays on .fillna, .ffill, .bfill is deprecated and will change in a future version. Call result.infer_objects(copy=False) instead. To opt-in to the future behavior, set `pd.set_option('future.no_silent_downcasting', True)`\n",
      "  database[i].fillna(database[i].mode()[0], inplace=True)\n"
     ]
    }
   ],
   "source": [
    "for i in database.select_dtypes(include=[\"object\"]).columns:\n",
    "    database[i].fillna(database[i].mode()[0], inplace=True)\n"
   ]
  },
  {
   "cell_type": "code",
   "execution_count": 45,
   "id": "3e6eaf1a",
   "metadata": {},
   "outputs": [
    {
     "data": {
      "application/vnd.microsoft.datawrangler.viewer.v0+json": {
       "columns": [
        {
         "name": "index",
         "rawType": "object",
         "type": "string"
        },
        {
         "name": "0",
         "rawType": "int64",
         "type": "integer"
        }
       ],
       "ref": "d61069b4-b77f-4791-ba25-512722de949b",
       "rows": [
        [
         "id",
         "0"
        ],
        [
         "name",
         "0"
        ],
        [
         "role",
         "0"
        ],
        [
         "salary",
         "0"
        ],
        [
         "age",
         "0"
        ],
        [
         "gender",
         "0"
        ],
        [
         "alive",
         "0"
        ],
        [
         "department",
         "0"
        ],
        [
         "alone",
         "0"
        ],
        [
         "phonenumber",
         "0"
        ],
        [
         "city",
         "0"
        ],
        [
         "state",
         "0"
        ],
        [
         "single",
         "0"
        ],
        [
         "education",
         "0"
        ],
        [
         "loanstatus",
         "0"
        ],
        [
         "Isadmin",
         "0"
        ],
        [
         "investement",
         "0"
        ],
        [
         "yearloadbill",
         "0"
        ]
       ],
       "shape": {
        "columns": 1,
        "rows": 18
       }
      },
      "text/plain": [
       "id              0\n",
       "name            0\n",
       "role            0\n",
       "salary          0\n",
       "age             0\n",
       "gender          0\n",
       "alive           0\n",
       "department      0\n",
       "alone           0\n",
       "phonenumber     0\n",
       "city            0\n",
       "state           0\n",
       "single          0\n",
       "education       0\n",
       "loanstatus      0\n",
       "Isadmin         0\n",
       "investement     0\n",
       "yearloadbill    0\n",
       "dtype: int64"
      ]
     },
     "execution_count": 45,
     "metadata": {},
     "output_type": "execute_result"
    }
   ],
   "source": [
    "database.isnull().sum()"
   ]
  },
  {
   "cell_type": "code",
   "execution_count": 48,
   "id": "93f66caa",
   "metadata": {},
   "outputs": [
    {
     "data": {
      "text/plain": [
       "Index(['id', 'salary', 'age', 'investement', 'yearloadbill'], dtype='object')"
      ]
     },
     "execution_count": 48,
     "metadata": {},
     "output_type": "execute_result"
    }
   ],
   "source": [
    "database.select_dtypes(include=[\"float64\"]).columns"
   ]
  },
  {
   "cell_type": "code",
   "execution_count": 50,
   "id": "d295ce89",
   "metadata": {},
   "outputs": [],
   "source": [
    "from sklearn.impute import SimpleImputer\n",
    "imputer = SimpleImputer(strategy=\"mean\")\n",
    "new_data = imputer.fit_transform(database[['id', 'salary', 'age', 'investement', 'yearloadbill']])\n"
   ]
  },
  {
   "cell_type": "code",
   "execution_count": 52,
   "id": "62f3b485",
   "metadata": {},
   "outputs": [],
   "source": [
    "new_dataset = pd.DataFrame(new_data, columns=database.select_dtypes(include=[\"float64\"]).columns)"
   ]
  },
  {
   "cell_type": "code",
   "execution_count": 53,
   "id": "a6c5e7af",
   "metadata": {},
   "outputs": [
    {
     "data": {
      "application/vnd.microsoft.datawrangler.viewer.v0+json": {
       "columns": [
        {
         "name": "index",
         "rawType": "object",
         "type": "string"
        },
        {
         "name": "0",
         "rawType": "int64",
         "type": "integer"
        }
       ],
       "ref": "54549da2-15bf-4d96-88a5-3f857f7a6d09",
       "rows": [
        [
         "id",
         "0"
        ],
        [
         "salary",
         "0"
        ],
        [
         "age",
         "0"
        ],
        [
         "investement",
         "0"
        ],
        [
         "yearloadbill",
         "0"
        ]
       ],
       "shape": {
        "columns": 1,
        "rows": 5
       }
      },
      "text/plain": [
       "id              0\n",
       "salary          0\n",
       "age             0\n",
       "investement     0\n",
       "yearloadbill    0\n",
       "dtype: int64"
      ]
     },
     "execution_count": 53,
     "metadata": {},
     "output_type": "execute_result"
    }
   ],
   "source": [
    "new_dataset.isnull().sum()"
   ]
  },
  {
   "cell_type": "code",
   "execution_count": 54,
   "id": "84379643",
   "metadata": {},
   "outputs": [
    {
     "data": {
      "application/vnd.microsoft.datawrangler.viewer.v0+json": {
       "columns": [
        {
         "name": "index",
         "rawType": "int64",
         "type": "integer"
        },
        {
         "name": "id",
         "rawType": "float64",
         "type": "float"
        },
        {
         "name": "salary",
         "rawType": "float64",
         "type": "float"
        },
        {
         "name": "age",
         "rawType": "float64",
         "type": "float"
        },
        {
         "name": "investement",
         "rawType": "float64",
         "type": "float"
        },
        {
         "name": "yearloadbill",
         "rawType": "float64",
         "type": "float"
        }
       ],
       "ref": "c1693b84-b065-4e1b-b6e4-65eb5220995b",
       "rows": [
        [
         "0",
         "1.0",
         "43056.0",
         "45.0",
         "17317.0",
         "50907.0"
        ],
        [
         "1",
         "2.0",
         "79400.0",
         "60.0",
         "2091.0",
         "106120.0"
        ],
        [
         "2",
         "3.0",
         "49856.0",
         "21.0",
         "49187.0",
         "88174.0"
        ],
        [
         "3",
         "4.0",
         "111784.0",
         "23.0",
         "73576.0",
         "146939.0"
        ],
        [
         "4",
         "5.0",
         "116251.0",
         "30.0",
         "85059.0",
         "133281.0"
        ],
        [
         "5",
         "6.0",
         "47867.0",
         "39.587755102040816",
         "13459.0",
         "145693.0"
        ],
        [
         "6",
         "7.0",
         "132797.0",
         "40.0",
         "34300.0",
         "38885.0"
        ],
        [
         "7",
         "8.0",
         "86250.0",
         "29.0",
         "33003.0",
         "118686.0"
        ],
        [
         "8",
         "9.0",
         "143003.0",
         "22.0",
         "13210.0",
         "114188.0"
        ],
        [
         "9",
         "1.0",
         "66977.0",
         "39.0",
         "76194.0",
         "76841.0"
        ],
        [
         "10",
         "11.0",
         "47937.0",
         "34.0",
         "2961.0",
         "31236.0"
        ],
        [
         "11",
         "12.0",
         "122731.0",
         "57.0",
         "51400.0",
         "108234.0"
        ],
        [
         "12",
         "13.0",
         "125545.0",
         "44.0",
         "8358.0",
         "63988.0"
        ],
        [
         "13",
         "14.0",
         "124345.0",
         "20.0",
         "94597.0",
         "179836.0"
        ],
        [
         "14",
         "15.0",
         "112922.0",
         "31.0",
         "8358.0",
         "132558.0"
        ],
        [
         "15",
         "16.0",
         "75146.0",
         "43.0",
         "61939.0",
         "139648.0"
        ],
        [
         "16",
         "17.0",
         "95400.0",
         "42.0",
         "5164.0",
         "132161.0"
        ],
        [
         "17",
         "18.0",
         "69847.0",
         "27.0",
         "75238.0",
         "59718.0"
        ],
        [
         "18",
         "19.0",
         "61021.0",
         "23.0",
         "54551.0",
         "66702.0"
        ],
        [
         "19",
         "20.0",
         "119405.0",
         "34.0",
         "85922.0",
         "190165.0"
        ],
        [
         "20",
         "21.0",
         "98665.0",
         "59.0",
         "66730.0",
         "14888.0"
        ],
        [
         "21",
         "22.0",
         "147836.0",
         "55.0",
         "12053.0",
         "192345.0"
        ],
        [
         "22",
         "23.0",
         "139419.0",
         "55.0",
         "2718.0",
         "66473.0"
        ],
        [
         "23",
         "24.0",
         "37227.0",
         "36.0",
         "77272.0",
         "72929.0"
        ],
        [
         "24",
         "25.0",
         "82263.0",
         "42.0",
         "18899.0",
         "123454.0"
        ],
        [
         "25",
         "26.0",
         "133665.0",
         "23.0",
         "17681.0",
         "186037.0"
        ],
        [
         "26",
         "27.0",
         "61434.0",
         "51.0",
         "58193.0",
         "44222.0"
        ],
        [
         "27",
         "28.0",
         "96508.0",
         "39.587755102040816",
         "69419.0",
         "90246.0"
        ],
        [
         "28",
         "29.0",
         "135273.0",
         "37.0",
         "19807.0",
         "147980.0"
        ],
        [
         "29",
         "30.0",
         "51538.0",
         "49.0",
         "84004.0",
         "61698.0"
        ],
        [
         "30",
         "31.0",
         "44034.0",
         "48.0",
         "80542.0",
         "158625.0"
        ],
        [
         "31",
         "32.0",
         "119911.0",
         "30.0",
         "42598.0",
         "91498.0"
        ],
        [
         "32",
         "33.0",
         "32515.0",
         "34.0",
         "3767.0",
         "164574.0"
        ],
        [
         "33",
         "34.0",
         "137396.0",
         "48.0",
         "85811.0",
         "25489.0"
        ],
        [
         "34",
         "35.0",
         "61434.0",
         "28.0",
         "66992.0",
         "66160.0"
        ],
        [
         "35",
         "36.0",
         "130803.0",
         "53.0",
         "95475.0",
         "73495.0"
        ],
        [
         "36",
         "37.0",
         "100818.0",
         "58.0",
         "42543.0",
         "56863.0"
        ],
        [
         "37",
         "38.0",
         "106981.0",
         "45.0",
         "25021.0",
         "27838.0"
        ],
        [
         "38",
         "39.0",
         "61434.0",
         "38.0",
         "96389.0",
         "41978.0"
        ],
        [
         "39",
         "40.0",
         "112693.0",
         "56.0",
         "11749.0",
         "41136.0"
        ],
        [
         "40",
         "41.0",
         "80559.0",
         "39.587755102040816",
         "8358.0",
         "31236.0"
        ],
        [
         "41",
         "42.0",
         "61434.0",
         "57.0",
         "4938.0",
         "178497.0"
        ],
        [
         "42",
         "43.0",
         "77827.0",
         "21.0",
         "21245.0",
         "31236.0"
        ],
        [
         "43",
         "44.0",
         "146253.0",
         "39.587755102040816",
         "3565.0",
         "152166.0"
        ],
        [
         "44",
         "45.0",
         "144989.0",
         "55.0",
         "8358.0",
         "105235.0"
        ],
        [
         "45",
         "46.0",
         "56433.0",
         "47.0",
         "50863.0",
         "194122.0"
        ],
        [
         "46",
         "47.0",
         "112779.0",
         "48.0",
         "45374.0",
         "112975.0"
        ],
        [
         "47",
         "48.0",
         "61434.0",
         "42.0",
         "73948.0",
         "34560.0"
        ],
        [
         "48",
         "49.0",
         "79036.0",
         "50.0",
         "92879.0",
         "31236.0"
        ],
        [
         "49",
         "50.0",
         "66732.0",
         "39.587755102040816",
         "33003.0",
         "174909.0"
        ]
       ],
       "shape": {
        "columns": 5,
        "rows": 500
       }
      },
      "text/html": [
       "<div>\n",
       "<style scoped>\n",
       "    .dataframe tbody tr th:only-of-type {\n",
       "        vertical-align: middle;\n",
       "    }\n",
       "\n",
       "    .dataframe tbody tr th {\n",
       "        vertical-align: top;\n",
       "    }\n",
       "\n",
       "    .dataframe thead th {\n",
       "        text-align: right;\n",
       "    }\n",
       "</style>\n",
       "<table border=\"1\" class=\"dataframe\">\n",
       "  <thead>\n",
       "    <tr style=\"text-align: right;\">\n",
       "      <th></th>\n",
       "      <th>id</th>\n",
       "      <th>salary</th>\n",
       "      <th>age</th>\n",
       "      <th>investement</th>\n",
       "      <th>yearloadbill</th>\n",
       "    </tr>\n",
       "  </thead>\n",
       "  <tbody>\n",
       "    <tr>\n",
       "      <th>0</th>\n",
       "      <td>1.0</td>\n",
       "      <td>43056.0</td>\n",
       "      <td>45.0</td>\n",
       "      <td>17317.0</td>\n",
       "      <td>50907.0</td>\n",
       "    </tr>\n",
       "    <tr>\n",
       "      <th>1</th>\n",
       "      <td>2.0</td>\n",
       "      <td>79400.0</td>\n",
       "      <td>60.0</td>\n",
       "      <td>2091.0</td>\n",
       "      <td>106120.0</td>\n",
       "    </tr>\n",
       "    <tr>\n",
       "      <th>2</th>\n",
       "      <td>3.0</td>\n",
       "      <td>49856.0</td>\n",
       "      <td>21.0</td>\n",
       "      <td>49187.0</td>\n",
       "      <td>88174.0</td>\n",
       "    </tr>\n",
       "    <tr>\n",
       "      <th>3</th>\n",
       "      <td>4.0</td>\n",
       "      <td>111784.0</td>\n",
       "      <td>23.0</td>\n",
       "      <td>73576.0</td>\n",
       "      <td>146939.0</td>\n",
       "    </tr>\n",
       "    <tr>\n",
       "      <th>4</th>\n",
       "      <td>5.0</td>\n",
       "      <td>116251.0</td>\n",
       "      <td>30.0</td>\n",
       "      <td>85059.0</td>\n",
       "      <td>133281.0</td>\n",
       "    </tr>\n",
       "    <tr>\n",
       "      <th>...</th>\n",
       "      <td>...</td>\n",
       "      <td>...</td>\n",
       "      <td>...</td>\n",
       "      <td>...</td>\n",
       "      <td>...</td>\n",
       "    </tr>\n",
       "    <tr>\n",
       "      <th>495</th>\n",
       "      <td>1.0</td>\n",
       "      <td>125863.0</td>\n",
       "      <td>36.0</td>\n",
       "      <td>63190.0</td>\n",
       "      <td>112362.0</td>\n",
       "    </tr>\n",
       "    <tr>\n",
       "      <th>496</th>\n",
       "      <td>497.0</td>\n",
       "      <td>87740.0</td>\n",
       "      <td>20.0</td>\n",
       "      <td>48977.0</td>\n",
       "      <td>31686.0</td>\n",
       "    </tr>\n",
       "    <tr>\n",
       "      <th>497</th>\n",
       "      <td>498.0</td>\n",
       "      <td>85376.0</td>\n",
       "      <td>55.0</td>\n",
       "      <td>27035.0</td>\n",
       "      <td>140802.0</td>\n",
       "    </tr>\n",
       "    <tr>\n",
       "      <th>498</th>\n",
       "      <td>499.0</td>\n",
       "      <td>127049.0</td>\n",
       "      <td>32.0</td>\n",
       "      <td>64461.0</td>\n",
       "      <td>193069.0</td>\n",
       "    </tr>\n",
       "    <tr>\n",
       "      <th>499</th>\n",
       "      <td>500.0</td>\n",
       "      <td>65329.0</td>\n",
       "      <td>28.0</td>\n",
       "      <td>95283.0</td>\n",
       "      <td>166126.0</td>\n",
       "    </tr>\n",
       "  </tbody>\n",
       "</table>\n",
       "<p>500 rows × 5 columns</p>\n",
       "</div>"
      ],
      "text/plain": [
       "        id    salary   age  investement  yearloadbill\n",
       "0      1.0   43056.0  45.0      17317.0       50907.0\n",
       "1      2.0   79400.0  60.0       2091.0      106120.0\n",
       "2      3.0   49856.0  21.0      49187.0       88174.0\n",
       "3      4.0  111784.0  23.0      73576.0      146939.0\n",
       "4      5.0  116251.0  30.0      85059.0      133281.0\n",
       "..     ...       ...   ...          ...           ...\n",
       "495    1.0  125863.0  36.0      63190.0      112362.0\n",
       "496  497.0   87740.0  20.0      48977.0       31686.0\n",
       "497  498.0   85376.0  55.0      27035.0      140802.0\n",
       "498  499.0  127049.0  32.0      64461.0      193069.0\n",
       "499  500.0   65329.0  28.0      95283.0      166126.0\n",
       "\n",
       "[500 rows x 5 columns]"
      ]
     },
     "execution_count": 54,
     "metadata": {},
     "output_type": "execute_result"
    }
   ],
   "source": [
    "new_dataset"
   ]
  }
 ],
 "metadata": {
  "kernelspec": {
   "display_name": "Python 3",
   "language": "python",
   "name": "python3"
  },
  "language_info": {
   "codemirror_mode": {
    "name": "ipython",
    "version": 3
   },
   "file_extension": ".py",
   "mimetype": "text/x-python",
   "name": "python",
   "nbconvert_exporter": "python",
   "pygments_lexer": "ipython3",
   "version": "3.13.5"
  }
 },
 "nbformat": 4,
 "nbformat_minor": 5
}
