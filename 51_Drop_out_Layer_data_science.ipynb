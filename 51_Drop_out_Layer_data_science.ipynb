{
 "cells": [
  {
   "cell_type": "code",
   "execution_count": 1,
   "id": "17ddbc8e",
   "metadata": {},
   "outputs": [],
   "source": [
    "import pandas as pd\n",
    "import numpy as np\n",
    "import matplotlib.pyplot as plt\n",
    "import seaborn as sns\n",
    "from sklearn.model_selection import train_test_split"
   ]
  },
  {
   "cell_type": "code",
   "execution_count": 2,
   "id": "9c4d33f6",
   "metadata": {},
   "outputs": [
    {
     "data": {
      "application/vnd.microsoft.datawrangler.viewer.v0+json": {
       "columns": [
        {
         "name": "index",
         "rawType": "int64",
         "type": "integer"
        },
        {
         "name": "Age",
         "rawType": "int64",
         "type": "integer"
        },
        {
         "name": "YearsExperience",
         "rawType": "int64",
         "type": "integer"
        },
        {
         "name": "Education",
         "rawType": "int64",
         "type": "integer"
        },
        {
         "name": "SkillsScore",
         "rawType": "int64",
         "type": "integer"
        },
        {
         "name": "CertCount",
         "rawType": "int64",
         "type": "integer"
        },
        {
         "name": "PrevCompanyTier",
         "rawType": "int64",
         "type": "integer"
        },
        {
         "name": "InterviewScore",
         "rawType": "float64",
         "type": "float"
        },
        {
         "name": "Salary",
         "rawType": "float64",
         "type": "float"
        },
        {
         "name": "SalaryCategory",
         "rawType": "int64",
         "type": "integer"
        },
        {
         "name": "Suitable",
         "rawType": "int64",
         "type": "integer"
        }
       ],
       "ref": "ebff606f-66a6-4b23-a8df-6efb3fdbb00c",
       "rows": [
        [
         "0",
         "49",
         "9",
         "1",
         "64",
         "3",
         "1",
         "6.6",
         "56566.87",
         "0",
         "1"
        ],
        [
         "1",
         "35",
         "12",
         "1",
         "57",
         "1",
         "1",
         "6.3",
         "55439.7",
         "0",
         "1"
        ],
        [
         "2",
         "28",
         "18",
         "0",
         "38",
         "1",
         "1",
         "8.3",
         "54473.33",
         "0",
         "1"
        ],
        [
         "3",
         "41",
         "6",
         "0",
         "70",
         "1",
         "1",
         "6.9",
         "40840.42",
         "1",
         "1"
        ],
        [
         "4",
         "39",
         "16",
         "0",
         "59",
         "0",
         "1",
         "7.0",
         "61800.08",
         "0",
         "1"
        ],
        [
         "5",
         "43",
         "19",
         "0",
         "66",
         "0",
         "1",
         "5.9",
         "58257.66",
         "0",
         "1"
        ],
        [
         "6",
         "31",
         "3",
         "1",
         "52",
         "2",
         "0",
         "5.8",
         "43301.79",
         "1",
         "1"
        ],
        [
         "7",
         "31",
         "4",
         "1",
         "60",
         "0",
         "0",
         "5.9",
         "43787.62",
         "1",
         "0"
        ],
        [
         "8",
         "44",
         "6",
         "1",
         "88",
         "1",
         "1",
         "7.1",
         "49494.25",
         "2",
         "1"
        ],
        [
         "9",
         "44",
         "12",
         "0",
         "67",
         "2",
         "2",
         "5.9",
         "50966.92",
         "2",
         "1"
        ],
        [
         "10",
         "23",
         "14",
         "0",
         "73",
         "0",
         "1",
         "6.9",
         "51599.01",
         "2",
         "1"
        ],
        [
         "11",
         "42",
         "10",
         "1",
         "46",
         "2",
         "1",
         "9.6",
         "48819.42",
         "2",
         "1"
        ],
        [
         "12",
         "22",
         "3",
         "1",
         "100",
         "4",
         "0",
         "7.8",
         "51321.74",
         "2",
         "1"
        ],
        [
         "13",
         "44",
         "12",
         "1",
         "93",
         "0",
         "1",
         "6.0",
         "53829.73",
         "2",
         "1"
        ],
        [
         "14",
         "50",
         "6",
         "1",
         "85",
         "2",
         "1",
         "8.3",
         "47681.46",
         "2",
         "1"
        ],
        [
         "15",
         "22",
         "18",
         "1",
         "77",
         "1",
         "0",
         "5.9",
         "63819.29",
         "0",
         "1"
        ],
        [
         "16",
         "41",
         "1",
         "0",
         "65",
         "1",
         "0",
         "3.4",
         "37395.07",
         "1",
         "1"
        ],
        [
         "17",
         "53",
         "9",
         "0",
         "72",
         "1",
         "1",
         "5.0",
         "51751.98",
         "2",
         "1"
        ],
        [
         "18",
         "32",
         "12",
         "1",
         "81",
         "0",
         "0",
         "3.7",
         "47147.09",
         "2",
         "1"
        ],
        [
         "19",
         "42",
         "5",
         "1",
         "56",
         "0",
         "1",
         "6.0",
         "45894.52",
         "2",
         "1"
        ],
        [
         "20",
         "45",
         "11",
         "0",
         "58",
         "2",
         "0",
         "6.5",
         "55098.26",
         "0",
         "1"
        ],
        [
         "21",
         "47",
         "11",
         "0",
         "40",
         "1",
         "1",
         "9.0",
         "41179.83",
         "1",
         "1"
        ],
        [
         "22",
         "48",
         "19",
         "1",
         "53",
         "0",
         "0",
         "7.0",
         "60431.94",
         "0",
         "1"
        ],
        [
         "23",
         "36",
         "10",
         "0",
         "90",
         "1",
         "2",
         "6.2",
         "49965.68",
         "2",
         "1"
        ],
        [
         "24",
         "35",
         "6",
         "0",
         "60",
         "1",
         "1",
         "7.7",
         "39057.46",
         "1",
         "1"
        ],
        [
         "25",
         "23",
         "0",
         "0",
         "60",
         "1",
         "1",
         "3.2",
         "31946.55",
         "1",
         "0"
        ],
        [
         "26",
         "27",
         "0",
         "1",
         "70",
         "3",
         "1",
         "6.9",
         "37728.27",
         "1",
         "1"
        ],
        [
         "27",
         "41",
         "19",
         "1",
         "41",
         "2",
         "1",
         "7.7",
         "65156.81",
         "0",
         "1"
        ],
        [
         "28",
         "29",
         "12",
         "0",
         "79",
         "2",
         "0",
         "4.3",
         "57007.04",
         "0",
         "1"
        ],
        [
         "29",
         "38",
         "8",
         "1",
         "84",
         "1",
         "1",
         "8.2",
         "55074.67",
         "0",
         "1"
        ],
        [
         "30",
         "24",
         "2",
         "0",
         "71",
         "1",
         "1",
         "7.0",
         "41685.02",
         "1",
         "1"
        ],
        [
         "31",
         "45",
         "6",
         "0",
         "90",
         "0",
         "1",
         "5.9",
         "41972.84",
         "1",
         "1"
        ],
        [
         "32",
         "34",
         "5",
         "1",
         "45",
         "3",
         "1",
         "7.4",
         "42686.44",
         "1",
         "1"
        ],
        [
         "33",
         "29",
         "7",
         "1",
         "93",
         "0",
         "0",
         "9.9",
         "54488.12",
         "0",
         "1"
        ],
        [
         "34",
         "46",
         "8",
         "1",
         "54",
         "0",
         "0",
         "6.8",
         "44633.62",
         "2",
         "0"
        ],
        [
         "35",
         "22",
         "4",
         "1",
         "46",
         "1",
         "1",
         "6.9",
         "43519.0",
         "1",
         "1"
        ],
        [
         "36",
         "40",
         "0",
         "0",
         "61",
         "1",
         "1",
         "5.8",
         "34719.02",
         "1",
         "1"
        ],
        [
         "37",
         "48",
         "18",
         "0",
         "93",
         "3",
         "1",
         "5.2",
         "61115.54",
         "0",
         "1"
        ],
        [
         "38",
         "27",
         "9",
         "0",
         "65",
         "0",
         "1",
         "7.7",
         "48812.88",
         "2",
         "1"
        ],
        [
         "39",
         "28",
         "11",
         "0",
         "51",
         "2",
         "2",
         "5.2",
         "49332.79",
         "2",
         "1"
        ],
        [
         "40",
         "34",
         "14",
         "0",
         "46",
         "4",
         "1",
         "6.6",
         "52077.1",
         "2",
         "1"
        ],
        [
         "41",
         "37",
         "8",
         "2",
         "63",
         "2",
         "0",
         "5.8",
         "57557.99",
         "0",
         "1"
        ],
        [
         "42",
         "24",
         "19",
         "0",
         "35",
         "0",
         "0",
         "7.2",
         "53636.81",
         "2",
         "1"
        ],
        [
         "43",
         "22",
         "16",
         "1",
         "45",
         "0",
         "0",
         "7.0",
         "58747.81",
         "0",
         "1"
        ],
        [
         "44",
         "26",
         "16",
         "1",
         "88",
         "1",
         "0",
         "8.1",
         "65079.3",
         "0",
         "1"
        ],
        [
         "45",
         "24",
         "19",
         "1",
         "85",
         "1",
         "0",
         "5.7",
         "64651.36",
         "0",
         "1"
        ],
        [
         "46",
         "49",
         "11",
         "0",
         "63",
         "1",
         "0",
         "6.1",
         "51978.4",
         "2",
         "1"
        ],
        [
         "47",
         "38",
         "6",
         "0",
         "58",
         "3",
         "0",
         "5.0",
         "41806.66",
         "1",
         "0"
        ],
        [
         "48",
         "46",
         "1",
         "0",
         "66",
         "1",
         "0",
         "5.8",
         "42012.08",
         "1",
         "0"
        ],
        [
         "49",
         "54",
         "2",
         "0",
         "100",
         "0",
         "2",
         "7.1",
         "41685.29",
         "1",
         "1"
        ]
       ],
       "shape": {
        "columns": 10,
        "rows": 100
       }
      },
      "text/html": [
       "<div>\n",
       "<style scoped>\n",
       "    .dataframe tbody tr th:only-of-type {\n",
       "        vertical-align: middle;\n",
       "    }\n",
       "\n",
       "    .dataframe tbody tr th {\n",
       "        vertical-align: top;\n",
       "    }\n",
       "\n",
       "    .dataframe thead th {\n",
       "        text-align: right;\n",
       "    }\n",
       "</style>\n",
       "<table border=\"1\" class=\"dataframe\">\n",
       "  <thead>\n",
       "    <tr style=\"text-align: right;\">\n",
       "      <th></th>\n",
       "      <th>Age</th>\n",
       "      <th>YearsExperience</th>\n",
       "      <th>Education</th>\n",
       "      <th>SkillsScore</th>\n",
       "      <th>CertCount</th>\n",
       "      <th>PrevCompanyTier</th>\n",
       "      <th>InterviewScore</th>\n",
       "      <th>Salary</th>\n",
       "      <th>SalaryCategory</th>\n",
       "      <th>Suitable</th>\n",
       "    </tr>\n",
       "  </thead>\n",
       "  <tbody>\n",
       "    <tr>\n",
       "      <th>0</th>\n",
       "      <td>49</td>\n",
       "      <td>9</td>\n",
       "      <td>1</td>\n",
       "      <td>64</td>\n",
       "      <td>3</td>\n",
       "      <td>1</td>\n",
       "      <td>6.6</td>\n",
       "      <td>56566.87</td>\n",
       "      <td>0</td>\n",
       "      <td>1</td>\n",
       "    </tr>\n",
       "    <tr>\n",
       "      <th>1</th>\n",
       "      <td>35</td>\n",
       "      <td>12</td>\n",
       "      <td>1</td>\n",
       "      <td>57</td>\n",
       "      <td>1</td>\n",
       "      <td>1</td>\n",
       "      <td>6.3</td>\n",
       "      <td>55439.70</td>\n",
       "      <td>0</td>\n",
       "      <td>1</td>\n",
       "    </tr>\n",
       "    <tr>\n",
       "      <th>2</th>\n",
       "      <td>28</td>\n",
       "      <td>18</td>\n",
       "      <td>0</td>\n",
       "      <td>38</td>\n",
       "      <td>1</td>\n",
       "      <td>1</td>\n",
       "      <td>8.3</td>\n",
       "      <td>54473.33</td>\n",
       "      <td>0</td>\n",
       "      <td>1</td>\n",
       "    </tr>\n",
       "    <tr>\n",
       "      <th>3</th>\n",
       "      <td>41</td>\n",
       "      <td>6</td>\n",
       "      <td>0</td>\n",
       "      <td>70</td>\n",
       "      <td>1</td>\n",
       "      <td>1</td>\n",
       "      <td>6.9</td>\n",
       "      <td>40840.42</td>\n",
       "      <td>1</td>\n",
       "      <td>1</td>\n",
       "    </tr>\n",
       "    <tr>\n",
       "      <th>4</th>\n",
       "      <td>39</td>\n",
       "      <td>16</td>\n",
       "      <td>0</td>\n",
       "      <td>59</td>\n",
       "      <td>0</td>\n",
       "      <td>1</td>\n",
       "      <td>7.0</td>\n",
       "      <td>61800.08</td>\n",
       "      <td>0</td>\n",
       "      <td>1</td>\n",
       "    </tr>\n",
       "    <tr>\n",
       "      <th>...</th>\n",
       "      <td>...</td>\n",
       "      <td>...</td>\n",
       "      <td>...</td>\n",
       "      <td>...</td>\n",
       "      <td>...</td>\n",
       "      <td>...</td>\n",
       "      <td>...</td>\n",
       "      <td>...</td>\n",
       "      <td>...</td>\n",
       "      <td>...</td>\n",
       "    </tr>\n",
       "    <tr>\n",
       "      <th>95</th>\n",
       "      <td>34</td>\n",
       "      <td>10</td>\n",
       "      <td>1</td>\n",
       "      <td>81</td>\n",
       "      <td>2</td>\n",
       "      <td>2</td>\n",
       "      <td>6.1</td>\n",
       "      <td>51082.77</td>\n",
       "      <td>2</td>\n",
       "      <td>1</td>\n",
       "    </tr>\n",
       "    <tr>\n",
       "      <th>96</th>\n",
       "      <td>47</td>\n",
       "      <td>17</td>\n",
       "      <td>0</td>\n",
       "      <td>38</td>\n",
       "      <td>2</td>\n",
       "      <td>0</td>\n",
       "      <td>2.5</td>\n",
       "      <td>55120.30</td>\n",
       "      <td>0</td>\n",
       "      <td>1</td>\n",
       "    </tr>\n",
       "    <tr>\n",
       "      <th>97</th>\n",
       "      <td>29</td>\n",
       "      <td>9</td>\n",
       "      <td>0</td>\n",
       "      <td>58</td>\n",
       "      <td>0</td>\n",
       "      <td>1</td>\n",
       "      <td>6.4</td>\n",
       "      <td>43053.85</td>\n",
       "      <td>1</td>\n",
       "      <td>0</td>\n",
       "    </tr>\n",
       "    <tr>\n",
       "      <th>98</th>\n",
       "      <td>35</td>\n",
       "      <td>2</td>\n",
       "      <td>0</td>\n",
       "      <td>83</td>\n",
       "      <td>2</td>\n",
       "      <td>2</td>\n",
       "      <td>6.2</td>\n",
       "      <td>39605.45</td>\n",
       "      <td>1</td>\n",
       "      <td>1</td>\n",
       "    </tr>\n",
       "    <tr>\n",
       "      <th>99</th>\n",
       "      <td>35</td>\n",
       "      <td>6</td>\n",
       "      <td>0</td>\n",
       "      <td>47</td>\n",
       "      <td>0</td>\n",
       "      <td>0</td>\n",
       "      <td>7.5</td>\n",
       "      <td>38620.02</td>\n",
       "      <td>1</td>\n",
       "      <td>1</td>\n",
       "    </tr>\n",
       "  </tbody>\n",
       "</table>\n",
       "<p>100 rows × 10 columns</p>\n",
       "</div>"
      ],
      "text/plain": [
       "    Age  YearsExperience  Education  SkillsScore  CertCount  PrevCompanyTier  \\\n",
       "0    49                9          1           64          3                1   \n",
       "1    35               12          1           57          1                1   \n",
       "2    28               18          0           38          1                1   \n",
       "3    41                6          0           70          1                1   \n",
       "4    39               16          0           59          0                1   \n",
       "..  ...              ...        ...          ...        ...              ...   \n",
       "95   34               10          1           81          2                2   \n",
       "96   47               17          0           38          2                0   \n",
       "97   29                9          0           58          0                1   \n",
       "98   35                2          0           83          2                2   \n",
       "99   35                6          0           47          0                0   \n",
       "\n",
       "    InterviewScore    Salary  SalaryCategory  Suitable  \n",
       "0              6.6  56566.87               0         1  \n",
       "1              6.3  55439.70               0         1  \n",
       "2              8.3  54473.33               0         1  \n",
       "3              6.9  40840.42               1         1  \n",
       "4              7.0  61800.08               0         1  \n",
       "..             ...       ...             ...       ...  \n",
       "95             6.1  51082.77               2         1  \n",
       "96             2.5  55120.30               0         1  \n",
       "97             6.4  43053.85               1         0  \n",
       "98             6.2  39605.45               1         1  \n",
       "99             7.5  38620.02               1         1  \n",
       "\n",
       "[100 rows x 10 columns]"
      ]
     },
     "execution_count": 2,
     "metadata": {},
     "output_type": "execute_result"
    }
   ],
   "source": [
    "database = pd.read_excel(\"Naive_Bayes.xlsx\")\n",
    "database.head(100)"
   ]
  },
  {
   "cell_type": "code",
   "execution_count": 3,
   "id": "da2a2f4b",
   "metadata": {},
   "outputs": [],
   "source": [
    "x = database.iloc[:, :-1]\n",
    "y = database[\"Suitable\"]"
   ]
  },
  {
   "cell_type": "code",
   "execution_count": 4,
   "id": "01f7fbc2",
   "metadata": {},
   "outputs": [],
   "source": [
    "from sklearn.preprocessing import StandardScaler"
   ]
  },
  {
   "cell_type": "code",
   "execution_count": 5,
   "id": "162a70eb",
   "metadata": {},
   "outputs": [],
   "source": [
    "ss = StandardScaler()\n",
    "x = pd.DataFrame(ss.fit_transform(x))"
   ]
  },
  {
   "cell_type": "code",
   "execution_count": 6,
   "id": "b38ebfec",
   "metadata": {},
   "outputs": [],
   "source": [
    "x_train, x_test, y_train, y_test = train_test_split(x, y, test_size=0.2, random_state=42)"
   ]
  },
  {
   "cell_type": "code",
   "execution_count": 7,
   "id": "5dc26ae0",
   "metadata": {},
   "outputs": [],
   "source": [
    "# %pip install tensorflow keras\n",
    "import tensorflow as tf\n",
    "from keras.layers import Dense, BatchNormalization, Dropout\n",
    "from keras.callbacks import EarlyStopping\n",
    "from keras.regularizers import L2\n",
    "from keras.models import Sequential\n"
   ]
  },
  {
   "cell_type": "code",
   "execution_count": 8,
   "id": "0944b8b3",
   "metadata": {},
   "outputs": [],
   "source": [
    "ann = Sequential()"
   ]
  },
  {
   "cell_type": "code",
   "execution_count": 9,
   "id": "e6ef31fe",
   "metadata": {},
   "outputs": [
    {
     "name": "stderr",
     "output_type": "stream",
     "text": [
      "c:\\Users\\Hp\\AppData\\Local\\Programs\\Python\\Python313\\Lib\\site-packages\\keras\\src\\layers\\core\\dense.py:92: UserWarning: Do not pass an `input_shape`/`input_dim` argument to a layer. When using Sequential models, prefer using an `Input(shape)` object as the first layer in the model instead.\n",
      "  super().__init__(activity_regularizer=activity_regularizer, **kwargs)\n"
     ]
    }
   ],
   "source": [
    "ann.add(Dense(6, activation=\"relu\",  kernel_regularizer=L2(l2 = 0.01), input_dim=9))\n",
    "ann.add(Dropout(0.5))\n",
    "ann.add(Dense(4, activation=\"relu\", kernel_regularizer=L2(l2 = 0.01)))\n",
    "ann.add(Dropout(0.5))\n",
    "ann.add(Dense(2, activation=\"relu\", kernel_regularizer=L2(l2 = 0.01)))\n",
    "ann.add(Dropout(0.5))\n",
    "ann.add(Dense(1, activation=\"sigmoid\",kernel_regularizer=L2(l2 = 0.01)))\n"
   ]
  },
  {
   "cell_type": "code",
   "execution_count": 10,
   "id": "61d636e5",
   "metadata": {},
   "outputs": [],
   "source": [
    "ann.compile(optimizer=\"adam\", loss=\"binary_crossentropy\", metrics=[\"accuracy\"])"
   ]
  },
  {
   "cell_type": "code",
   "execution_count": 11,
   "id": "6b656206",
   "metadata": {},
   "outputs": [
    {
     "name": "stdout",
     "output_type": "stream",
     "text": [
      "Epoch 1/10\n",
      "\u001b[1m3/3\u001b[0m \u001b[32m━━━━━━━━━━━━━━━━━━━━\u001b[0m\u001b[37m\u001b[0m \u001b[1m8s\u001b[0m 664ms/step - accuracy: 0.6125 - loss: 0.8144 - val_accuracy: 0.9500 - val_loss: 0.7761\n",
      "Epoch 2/10\n",
      "\u001b[1m3/3\u001b[0m \u001b[32m━━━━━━━━━━━━━━━━━━━━\u001b[0m\u001b[37m\u001b[0m \u001b[1m2s\u001b[0m 174ms/step - accuracy: 0.8750 - loss: 0.7753 - val_accuracy: 0.9500 - val_loss: 0.7730\n",
      "Epoch 3/10\n",
      "\u001b[1m3/3\u001b[0m \u001b[32m━━━━━━━━━━━━━━━━━━━━\u001b[0m\u001b[37m\u001b[0m \u001b[1m0s\u001b[0m 96ms/step - accuracy: 0.8750 - loss: 0.7748 - val_accuracy: 0.9500 - val_loss: 0.7697\n",
      "Epoch 4/10\n",
      "\u001b[1m3/3\u001b[0m \u001b[32m━━━━━━━━━━━━━━━━━━━━\u001b[0m\u001b[37m\u001b[0m \u001b[1m0s\u001b[0m 83ms/step - accuracy: 0.8750 - loss: 0.8312 - val_accuracy: 0.9500 - val_loss: 0.7667\n",
      "Epoch 5/10\n",
      "\u001b[1m3/3\u001b[0m \u001b[32m━━━━━━━━━━━━━━━━━━━━\u001b[0m\u001b[37m\u001b[0m \u001b[1m0s\u001b[0m 71ms/step - accuracy: 0.8750 - loss: 0.8347 - val_accuracy: 0.9500 - val_loss: 0.7641\n",
      "Epoch 6/10\n",
      "\u001b[1m3/3\u001b[0m \u001b[32m━━━━━━━━━━━━━━━━━━━━\u001b[0m\u001b[37m\u001b[0m \u001b[1m0s\u001b[0m 162ms/step - accuracy: 0.8750 - loss: 0.7614 - val_accuracy: 0.9500 - val_loss: 0.7613\n",
      "Epoch 7/10\n",
      "\u001b[1m3/3\u001b[0m \u001b[32m━━━━━━━━━━━━━━━━━━━━\u001b[0m\u001b[37m\u001b[0m \u001b[1m0s\u001b[0m 75ms/step - accuracy: 0.8750 - loss: 0.7642 - val_accuracy: 0.9500 - val_loss: 0.7581\n",
      "Epoch 8/10\n",
      "\u001b[1m3/3\u001b[0m \u001b[32m━━━━━━━━━━━━━━━━━━━━\u001b[0m\u001b[37m\u001b[0m \u001b[1m0s\u001b[0m 67ms/step - accuracy: 0.8750 - loss: 0.8052 - val_accuracy: 0.9500 - val_loss: 0.7549\n",
      "Epoch 9/10\n",
      "\u001b[1m3/3\u001b[0m \u001b[32m━━━━━━━━━━━━━━━━━━━━\u001b[0m\u001b[37m\u001b[0m \u001b[1m0s\u001b[0m 75ms/step - accuracy: 0.8750 - loss: 0.7897 - val_accuracy: 0.9500 - val_loss: 0.7517\n",
      "Epoch 10/10\n",
      "\u001b[1m3/3\u001b[0m \u001b[32m━━━━━━━━━━━━━━━━━━━━\u001b[0m\u001b[37m\u001b[0m \u001b[1m0s\u001b[0m 98ms/step - accuracy: 0.8750 - loss: 0.8003 - val_accuracy: 0.9500 - val_loss: 0.7488\n"
     ]
    },
    {
     "data": {
      "text/plain": [
       "<keras.src.callbacks.history.History at 0x1b855a186e0>"
      ]
     },
     "execution_count": 11,
     "metadata": {},
     "output_type": "execute_result"
    }
   ],
   "source": [
    "ann.fit(x_train, y_train, batch_size=32, epochs=10, validation_data=(x_test, y_test), callbacks=EarlyStopping())"
   ]
  },
  {
   "cell_type": "code",
   "execution_count": 12,
   "id": "459dc252",
   "metadata": {},
   "outputs": [
    {
     "name": "stdout",
     "output_type": "stream",
     "text": [
      "\u001b[1m3/3\u001b[0m \u001b[32m━━━━━━━━━━━━━━━━━━━━\u001b[0m\u001b[37m\u001b[0m \u001b[1m1s\u001b[0m 112ms/step\n"
     ]
    }
   ],
   "source": [
    "prd1 = ann.predict(x_train)\n",
    "prd_data1 = []\n",
    "for i in prd1:\n",
    "    if i[0] > 0.5:\n",
    "        prd_data1.append(1)\n",
    "    else:\n",
    "        prd_data1.append(0)"
   ]
  },
  {
   "cell_type": "code",
   "execution_count": 13,
   "id": "21c375f6",
   "metadata": {},
   "outputs": [
    {
     "name": "stdout",
     "output_type": "stream",
     "text": [
      "\u001b[1m1/1\u001b[0m \u001b[32m━━━━━━━━━━━━━━━━━━━━\u001b[0m\u001b[37m\u001b[0m \u001b[1m0s\u001b[0m 316ms/step\n"
     ]
    }
   ],
   "source": [
    "prd = ann.predict(x_test)\n",
    "prd_data = []\n",
    "for i in prd:\n",
    "    if i[0] > 0.5:\n",
    "        prd_data.append(1)\n",
    "    else:\n",
    "        prd_data.append(0)"
   ]
  },
  {
   "cell_type": "code",
   "execution_count": 14,
   "id": "525b1dbb",
   "metadata": {},
   "outputs": [],
   "source": [
    "from sklearn.metrics import accuracy_score"
   ]
  },
  {
   "cell_type": "code",
   "execution_count": 15,
   "id": "3a2abe27",
   "metadata": {},
   "outputs": [
    {
     "data": {
      "text/plain": [
       "95.0"
      ]
     },
     "execution_count": 15,
     "metadata": {},
     "output_type": "execute_result"
    }
   ],
   "source": [
    "accuracy_score(y_test, prd_data)*100"
   ]
  },
  {
   "cell_type": "code",
   "execution_count": 16,
   "id": "fb9e8676",
   "metadata": {},
   "outputs": [
    {
     "data": {
      "text/plain": [
       "87.5"
      ]
     },
     "execution_count": 16,
     "metadata": {},
     "output_type": "execute_result"
    }
   ],
   "source": [
    "accuracy_score(y_train, prd_data1)*100"
   ]
  },
  {
   "cell_type": "code",
   "execution_count": null,
   "id": "229605c1",
   "metadata": {},
   "outputs": [],
   "source": []
  }
 ],
 "metadata": {
  "kernelspec": {
   "display_name": "Python 3",
   "language": "python",
   "name": "python3"
  },
  "language_info": {
   "codemirror_mode": {
    "name": "ipython",
    "version": 3
   },
   "file_extension": ".py",
   "mimetype": "text/x-python",
   "name": "python",
   "nbconvert_exporter": "python",
   "pygments_lexer": "ipython3",
   "version": "3.13.5"
  }
 },
 "nbformat": 4,
 "nbformat_minor": 5
}
