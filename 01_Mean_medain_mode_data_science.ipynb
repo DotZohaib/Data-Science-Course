{
 "cells": [
  {
   "cell_type": "code",
   "execution_count": 1,
   "id": "fb403786",
   "metadata": {},
   "outputs": [],
   "source": [
    "import pandas as pd\n",
    "import numpy as np\n",
    "import matplotlib.pyplot as plt"
   ]
  },
  {
   "cell_type": "code",
   "execution_count": 2,
   "id": "6afad3eb",
   "metadata": {},
   "outputs": [
    {
     "data": {
      "application/vnd.microsoft.datawrangler.viewer.v0+json": {
       "columns": [
        {
         "name": "index",
         "rawType": "int64",
         "type": "integer"
        },
        {
         "name": "id",
         "rawType": "int64",
         "type": "integer"
        },
        {
         "name": "name",
         "rawType": "object",
         "type": "string"
        },
        {
         "name": "role",
         "rawType": "object",
         "type": "string"
        },
        {
         "name": "salary",
         "rawType": "int64",
         "type": "integer"
        },
        {
         "name": "age",
         "rawType": "int64",
         "type": "integer"
        },
        {
         "name": "gender",
         "rawType": "object",
         "type": "string"
        },
        {
         "name": "alive",
         "rawType": "object",
         "type": "string"
        },
        {
         "name": "department",
         "rawType": "object",
         "type": "string"
        },
        {
         "name": "alone",
         "rawType": "object",
         "type": "string"
        },
        {
         "name": "phone_number",
         "rawType": "object",
         "type": "string"
        },
        {
         "name": "city",
         "rawType": "object",
         "type": "string"
        },
        {
         "name": "state",
         "rawType": "object",
         "type": "string"
        },
        {
         "name": "single",
         "rawType": "object",
         "type": "string"
        }
       ],
       "ref": "75000a0a-9417-4719-9ec9-63162c5c094c",
       "rows": [
        [
         "0",
         "1",
         "Margaret Moore",
         "Developer",
         "57887",
         "25",
         "Male",
         "No",
         "Operations",
         "No",
         "(254)682-1008x497",
         "Chicago",
         "TX",
         "Yes"
        ],
        [
         "1",
         "2",
         "Johnny Mcdowell",
         "Designer",
         "108087",
         "43",
         "Male",
         "No",
         "Finance",
         "No",
         "713.998.3327x6460",
         "Houston",
         "CA",
         "No"
        ],
        [
         "2",
         "3",
         "Elizabeth Miller",
         "Manager",
         "68709",
         "42",
         "Female",
         "No",
         "HR",
         "Yes",
         "001-823-068-8392x5295",
         "Los Angeles",
         "CA",
         "Yes"
        ],
        [
         "3",
         "4",
         "Lydia Baldwin",
         "Designer",
         "92735",
         "59",
         "Female",
         "No",
         "Operations",
         "No",
         "353-149-4250x81413",
         "Los Angeles",
         "NY",
         "Yes"
        ],
        [
         "4",
         "5",
         "John Mccoy",
         "QA",
         "95393",
         "49",
         "Male",
         "No",
         "HR",
         "Yes",
         "(270)652-6399",
         "New York",
         "IL",
         "Yes"
        ],
        [
         "5",
         "6",
         "Tammy Young",
         "Manager",
         "95075",
         "24",
         "Male",
         "No",
         "IT",
         "No",
         "873-694-2651",
         "New York",
         "IL",
         "No"
        ],
        [
         "6",
         "7",
         "Brandon White",
         "Manager",
         "111498",
         "47",
         "Male",
         "No",
         "IT",
         "Yes",
         "835.762.2368",
         "Phoenix",
         "TX",
         "Yes"
        ],
        [
         "7",
         "8",
         "Christopher Orr",
         "HR",
         "64010",
         "47",
         "Female",
         "Yes",
         "Marketing",
         "Yes",
         "+1-279-226-0460x52724",
         "Chicago",
         "AZ",
         "No"
        ],
        [
         "8",
         "9",
         "Nichole Parker",
         "Manager",
         "72881",
         "57",
         "Female",
         "Yes",
         "Marketing",
         "Yes",
         "903-317-9345x3181",
         "Chicago",
         "AZ",
         "No"
        ],
        [
         "9",
         "10",
         "Roberto Alexander",
         "QA",
         "74258",
         "57",
         "Male",
         "No",
         "HR",
         "No",
         "+1-019-849-1380",
         "Phoenix",
         "NY",
         "No"
        ]
       ],
       "shape": {
        "columns": 13,
        "rows": 10
       }
      },
      "text/html": [
       "<div>\n",
       "<style scoped>\n",
       "    .dataframe tbody tr th:only-of-type {\n",
       "        vertical-align: middle;\n",
       "    }\n",
       "\n",
       "    .dataframe tbody tr th {\n",
       "        vertical-align: top;\n",
       "    }\n",
       "\n",
       "    .dataframe thead th {\n",
       "        text-align: right;\n",
       "    }\n",
       "</style>\n",
       "<table border=\"1\" class=\"dataframe\">\n",
       "  <thead>\n",
       "    <tr style=\"text-align: right;\">\n",
       "      <th></th>\n",
       "      <th>id</th>\n",
       "      <th>name</th>\n",
       "      <th>role</th>\n",
       "      <th>salary</th>\n",
       "      <th>age</th>\n",
       "      <th>gender</th>\n",
       "      <th>alive</th>\n",
       "      <th>department</th>\n",
       "      <th>alone</th>\n",
       "      <th>phone_number</th>\n",
       "      <th>city</th>\n",
       "      <th>state</th>\n",
       "      <th>single</th>\n",
       "    </tr>\n",
       "  </thead>\n",
       "  <tbody>\n",
       "    <tr>\n",
       "      <th>0</th>\n",
       "      <td>1</td>\n",
       "      <td>Margaret Moore</td>\n",
       "      <td>Developer</td>\n",
       "      <td>57887</td>\n",
       "      <td>25</td>\n",
       "      <td>Male</td>\n",
       "      <td>No</td>\n",
       "      <td>Operations</td>\n",
       "      <td>No</td>\n",
       "      <td>(254)682-1008x497</td>\n",
       "      <td>Chicago</td>\n",
       "      <td>TX</td>\n",
       "      <td>Yes</td>\n",
       "    </tr>\n",
       "    <tr>\n",
       "      <th>1</th>\n",
       "      <td>2</td>\n",
       "      <td>Johnny Mcdowell</td>\n",
       "      <td>Designer</td>\n",
       "      <td>108087</td>\n",
       "      <td>43</td>\n",
       "      <td>Male</td>\n",
       "      <td>No</td>\n",
       "      <td>Finance</td>\n",
       "      <td>No</td>\n",
       "      <td>713.998.3327x6460</td>\n",
       "      <td>Houston</td>\n",
       "      <td>CA</td>\n",
       "      <td>No</td>\n",
       "    </tr>\n",
       "    <tr>\n",
       "      <th>2</th>\n",
       "      <td>3</td>\n",
       "      <td>Elizabeth Miller</td>\n",
       "      <td>Manager</td>\n",
       "      <td>68709</td>\n",
       "      <td>42</td>\n",
       "      <td>Female</td>\n",
       "      <td>No</td>\n",
       "      <td>HR</td>\n",
       "      <td>Yes</td>\n",
       "      <td>001-823-068-8392x5295</td>\n",
       "      <td>Los Angeles</td>\n",
       "      <td>CA</td>\n",
       "      <td>Yes</td>\n",
       "    </tr>\n",
       "    <tr>\n",
       "      <th>3</th>\n",
       "      <td>4</td>\n",
       "      <td>Lydia Baldwin</td>\n",
       "      <td>Designer</td>\n",
       "      <td>92735</td>\n",
       "      <td>59</td>\n",
       "      <td>Female</td>\n",
       "      <td>No</td>\n",
       "      <td>Operations</td>\n",
       "      <td>No</td>\n",
       "      <td>353-149-4250x81413</td>\n",
       "      <td>Los Angeles</td>\n",
       "      <td>NY</td>\n",
       "      <td>Yes</td>\n",
       "    </tr>\n",
       "    <tr>\n",
       "      <th>4</th>\n",
       "      <td>5</td>\n",
       "      <td>John Mccoy</td>\n",
       "      <td>QA</td>\n",
       "      <td>95393</td>\n",
       "      <td>49</td>\n",
       "      <td>Male</td>\n",
       "      <td>No</td>\n",
       "      <td>HR</td>\n",
       "      <td>Yes</td>\n",
       "      <td>(270)652-6399</td>\n",
       "      <td>New York</td>\n",
       "      <td>IL</td>\n",
       "      <td>Yes</td>\n",
       "    </tr>\n",
       "    <tr>\n",
       "      <th>5</th>\n",
       "      <td>6</td>\n",
       "      <td>Tammy Young</td>\n",
       "      <td>Manager</td>\n",
       "      <td>95075</td>\n",
       "      <td>24</td>\n",
       "      <td>Male</td>\n",
       "      <td>No</td>\n",
       "      <td>IT</td>\n",
       "      <td>No</td>\n",
       "      <td>873-694-2651</td>\n",
       "      <td>New York</td>\n",
       "      <td>IL</td>\n",
       "      <td>No</td>\n",
       "    </tr>\n",
       "    <tr>\n",
       "      <th>6</th>\n",
       "      <td>7</td>\n",
       "      <td>Brandon White</td>\n",
       "      <td>Manager</td>\n",
       "      <td>111498</td>\n",
       "      <td>47</td>\n",
       "      <td>Male</td>\n",
       "      <td>No</td>\n",
       "      <td>IT</td>\n",
       "      <td>Yes</td>\n",
       "      <td>835.762.2368</td>\n",
       "      <td>Phoenix</td>\n",
       "      <td>TX</td>\n",
       "      <td>Yes</td>\n",
       "    </tr>\n",
       "    <tr>\n",
       "      <th>7</th>\n",
       "      <td>8</td>\n",
       "      <td>Christopher Orr</td>\n",
       "      <td>HR</td>\n",
       "      <td>64010</td>\n",
       "      <td>47</td>\n",
       "      <td>Female</td>\n",
       "      <td>Yes</td>\n",
       "      <td>Marketing</td>\n",
       "      <td>Yes</td>\n",
       "      <td>+1-279-226-0460x52724</td>\n",
       "      <td>Chicago</td>\n",
       "      <td>AZ</td>\n",
       "      <td>No</td>\n",
       "    </tr>\n",
       "    <tr>\n",
       "      <th>8</th>\n",
       "      <td>9</td>\n",
       "      <td>Nichole Parker</td>\n",
       "      <td>Manager</td>\n",
       "      <td>72881</td>\n",
       "      <td>57</td>\n",
       "      <td>Female</td>\n",
       "      <td>Yes</td>\n",
       "      <td>Marketing</td>\n",
       "      <td>Yes</td>\n",
       "      <td>903-317-9345x3181</td>\n",
       "      <td>Chicago</td>\n",
       "      <td>AZ</td>\n",
       "      <td>No</td>\n",
       "    </tr>\n",
       "    <tr>\n",
       "      <th>9</th>\n",
       "      <td>10</td>\n",
       "      <td>Roberto Alexander</td>\n",
       "      <td>QA</td>\n",
       "      <td>74258</td>\n",
       "      <td>57</td>\n",
       "      <td>Male</td>\n",
       "      <td>No</td>\n",
       "      <td>HR</td>\n",
       "      <td>No</td>\n",
       "      <td>+1-019-849-1380</td>\n",
       "      <td>Phoenix</td>\n",
       "      <td>NY</td>\n",
       "      <td>No</td>\n",
       "    </tr>\n",
       "  </tbody>\n",
       "</table>\n",
       "</div>"
      ],
      "text/plain": [
       "   id               name       role  salary  age  gender alive  department  \\\n",
       "0   1     Margaret Moore  Developer   57887   25    Male    No  Operations   \n",
       "1   2    Johnny Mcdowell   Designer  108087   43    Male    No     Finance   \n",
       "2   3   Elizabeth Miller    Manager   68709   42  Female    No          HR   \n",
       "3   4      Lydia Baldwin   Designer   92735   59  Female    No  Operations   \n",
       "4   5         John Mccoy         QA   95393   49    Male    No          HR   \n",
       "5   6        Tammy Young    Manager   95075   24    Male    No          IT   \n",
       "6   7      Brandon White    Manager  111498   47    Male    No          IT   \n",
       "7   8    Christopher Orr         HR   64010   47  Female   Yes   Marketing   \n",
       "8   9     Nichole Parker    Manager   72881   57  Female   Yes   Marketing   \n",
       "9  10  Roberto Alexander         QA   74258   57    Male    No          HR   \n",
       "\n",
       "  alone           phone_number         city state single  \n",
       "0    No      (254)682-1008x497      Chicago    TX    Yes  \n",
       "1    No      713.998.3327x6460      Houston    CA     No  \n",
       "2   Yes  001-823-068-8392x5295  Los Angeles    CA    Yes  \n",
       "3    No     353-149-4250x81413  Los Angeles    NY    Yes  \n",
       "4   Yes          (270)652-6399     New York    IL    Yes  \n",
       "5    No           873-694-2651     New York    IL     No  \n",
       "6   Yes           835.762.2368      Phoenix    TX    Yes  \n",
       "7   Yes  +1-279-226-0460x52724      Chicago    AZ     No  \n",
       "8   Yes      903-317-9345x3181      Chicago    AZ     No  \n",
       "9    No        +1-019-849-1380      Phoenix    NY     No  "
      ]
     },
     "execution_count": 2,
     "metadata": {},
     "output_type": "execute_result"
    }
   ],
   "source": [
    "database = pd.read_excel(\"dummy_users.xlsx\")\n",
    "database.head(10)"
   ]
  },
  {
   "cell_type": "code",
   "execution_count": 3,
   "id": "630b09d7",
   "metadata": {},
   "outputs": [
    {
     "name": "stderr",
     "output_type": "stream",
     "text": [
      "C:\\Users\\Hp\\AppData\\Local\\Temp\\ipykernel_14184\\1341814912.py:1: FutureWarning: A value is trying to be set on a copy of a DataFrame or Series through chained assignment using an inplace method.\n",
      "The behavior will change in pandas 3.0. This inplace method will never work because the intermediate object on which we are setting values always behaves as a copy.\n",
      "\n",
      "For example, when doing 'df[col].method(value, inplace=True)', try using 'df.method({col: value}, inplace=True)' or df[col] = df[col].method(value) instead, to perform the operation inplace on the original object.\n",
      "\n",
      "\n",
      "  database[\"age\"].fillna(database[\"age\"].mean(), inplace=True)\n"
     ]
    }
   ],
   "source": [
    "database[\"age\"].fillna(database[\"age\"].mean(), inplace=True)"
   ]
  },
  {
   "cell_type": "code",
   "execution_count": 4,
   "id": "abc2f866",
   "metadata": {},
   "outputs": [
    {
     "name": "stdout",
     "output_type": "stream",
     "text": [
      "Mean value of age is:  43.1\n"
     ]
    }
   ],
   "source": [
    "number: int =np.mean(database['age'])\n",
    "print(\"Mean value of age is: \", number)"
   ]
  },
  {
   "cell_type": "code",
   "execution_count": 5,
   "id": "9d244ba7",
   "metadata": {},
   "outputs": [],
   "source": [
    "import seaborn as sns"
   ]
  },
  {
   "cell_type": "code",
   "execution_count": 6,
   "id": "e915f936",
   "metadata": {},
   "outputs": [
    {
     "data": {
      "image/png": "[encoded data removed]",
      "text/plain": [
       "<Figure size 640x480 with 1 Axes>"
      ]
     },
     "metadata": {},
     "output_type": "display_data"
    }
   ],
   "source": [
    "sns.histplot(x=\"age\", data=database)\n",
    "plt.plot([number for i in range(1,6)], [i for i in range(1,6)], color='red', label='Mean Age')\n",
    "plt.show()"
   ]
  },
  {
   "cell_type": "code",
   "execution_count": 7,
   "id": "20ad24cf",
   "metadata": {},
   "outputs": [
    {
     "name": "stdout",
     "output_type": "stream",
     "text": [
      "Median value of age is:  44.0\n"
     ]
    }
   ],
   "source": [
    "number2: int = np.median(database['age'])\n",
    "print(\"Median value of age is: \", number2)"
   ]
  },
  {
   "cell_type": "code",
   "execution_count": 8,
   "id": "c0e39b5d",
   "metadata": {},
   "outputs": [
    {
     "data": {
      "image/png": "[encoded data removed]",
      "text/plain": [
       "<Figure size 640x480 with 1 Axes>"
      ]
     },
     "metadata": {},
     "output_type": "display_data"
    }
   ],
   "source": [
    "sns.histplot(x=\"age\", data=database)\n",
    "plt.plot([number2 for i in range(1,6)], [i for i in range(1,6)], color='yellow', label='Mean Age')\n",
    "plt.show()"
   ]
  },
  {
   "cell_type": "code",
   "execution_count": 12,
   "id": "b4f35671",
   "metadata": {},
   "outputs": [
    {
     "name": "stdout",
     "output_type": "stream",
     "text": [
      "Mode value of age is:  47\n"
     ]
    }
   ],
   "source": [
    "number3: int = database['age'].mode()[0]\n",
    "print(\"Mode value of age is: \", number3)"
   ]
  },
  {
   "cell_type": "code",
   "execution_count": 15,
   "id": "135e0299",
   "metadata": {},
   "outputs": [
    {
     "data": {
      "image/png": "[encoded data removed]",
      "text/plain": [
       "<Figure size 640x480 with 1 Axes>"
      ]
     },
     "metadata": {},
     "output_type": "display_data"
    }
   ],
   "source": [
    "database[\"age\"].value_counts().plot(kind='bar')\n",
    "plt.axhline(y=number, color='red', label='Mean Age')\n",
    "plt.axhline(y=number2, color='yellow', label='Median Age')  \n",
    "plt.axhline(y=number3, color='green', label='Mode Age')\n",
    "plt.legend()\n",
    "plt.show()"
   ]
  }
 ],
 "metadata": {
  "kernelspec": {
   "display_name": "Python 3",
   "language": "python",
   "name": "python3"
  },
  "language_info": {
   "codemirror_mode": {
    "name": "ipython",
    "version": 3
   },
   "file_extension": ".py",
   "mimetype": "text/x-python",
   "name": "python",
   "nbconvert_exporter": "python",
   "pygments_lexer": "ipython3",
   "version": "3.13.5"
  }
 },
 "nbformat": 4,
 "nbformat_minor": 5
}
