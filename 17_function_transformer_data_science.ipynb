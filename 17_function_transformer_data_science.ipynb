{
 "cells": [
  {
   "cell_type": "code",
   "execution_count": 1,
   "id": "5f7eb2e0",
   "metadata": {},
   "outputs": [],
   "source": [
    "import pandas as pd\n",
    "import numpy as np\n",
    "import matplotlib.pyplot as plt\n",
    "import seaborn as sns"
   ]
  },
  {
   "cell_type": "code",
   "execution_count": 2,
   "id": "ead4cceb",
   "metadata": {},
   "outputs": [
    {
     "data": {
      "application/vnd.microsoft.datawrangler.viewer.v0+json": {
       "columns": [
        {
         "name": "index",
         "rawType": "int64",
         "type": "integer"
        },
        {
         "name": "id",
         "rawType": "int64",
         "type": "integer"
        },
        {
         "name": "name",
         "rawType": "object",
         "type": "string"
        },
        {
         "name": "role",
         "rawType": "object",
         "type": "string"
        },
        {
         "name": "salary",
         "rawType": "int64",
         "type": "integer"
        },
        {
         "name": "age",
         "rawType": "int64",
         "type": "integer"
        },
        {
         "name": "gender",
         "rawType": "object",
         "type": "string"
        },
        {
         "name": "alive",
         "rawType": "object",
         "type": "string"
        },
        {
         "name": "department",
         "rawType": "object",
         "type": "string"
        },
        {
         "name": "alone",
         "rawType": "object",
         "type": "string"
        },
        {
         "name": "phone_number",
         "rawType": "object",
         "type": "string"
        },
        {
         "name": "city",
         "rawType": "object",
         "type": "string"
        },
        {
         "name": "state",
         "rawType": "object",
         "type": "string"
        },
        {
         "name": "single",
         "rawType": "object",
         "type": "string"
        }
       ],
       "ref": "a073bbf9-5ba6-4840-92f0-c7ce6ca4b54d",
       "rows": [
        [
         "0",
         "1",
         "Margaret Moore",
         "Developer",
         "57887",
         "25",
         "Male",
         "No",
         "Operations",
         "No",
         "(254)682-1008x497",
         "Chicago",
         "TX",
         "Yes"
        ],
        [
         "1",
         "2",
         "Johnny Mcdowell",
         "Designer",
         "108087",
         "43",
         "Male",
         "No",
         "Finance",
         "No",
         "713.998.3327x6460",
         "Houston",
         "CA",
         "No"
        ],
        [
         "2",
         "3",
         "Elizabeth Miller",
         "Manager",
         "68709",
         "42",
         "Female",
         "No",
         "HR",
         "Yes",
         "001-823-068-8392x5295",
         "Los Angeles",
         "CA",
         "Yes"
        ]
       ],
       "shape": {
        "columns": 13,
        "rows": 3
       }
      },
      "text/html": [
       "<div>\n",
       "<style scoped>\n",
       "    .dataframe tbody tr th:only-of-type {\n",
       "        vertical-align: middle;\n",
       "    }\n",
       "\n",
       "    .dataframe tbody tr th {\n",
       "        vertical-align: top;\n",
       "    }\n",
       "\n",
       "    .dataframe thead th {\n",
       "        text-align: right;\n",
       "    }\n",
       "</style>\n",
       "<table border=\"1\" class=\"dataframe\">\n",
       "  <thead>\n",
       "    <tr style=\"text-align: right;\">\n",
       "      <th></th>\n",
       "      <th>id</th>\n",
       "      <th>name</th>\n",
       "      <th>role</th>\n",
       "      <th>salary</th>\n",
       "      <th>age</th>\n",
       "      <th>gender</th>\n",
       "      <th>alive</th>\n",
       "      <th>department</th>\n",
       "      <th>alone</th>\n",
       "      <th>phone_number</th>\n",
       "      <th>city</th>\n",
       "      <th>state</th>\n",
       "      <th>single</th>\n",
       "    </tr>\n",
       "  </thead>\n",
       "  <tbody>\n",
       "    <tr>\n",
       "      <th>0</th>\n",
       "      <td>1</td>\n",
       "      <td>Margaret Moore</td>\n",
       "      <td>Developer</td>\n",
       "      <td>57887</td>\n",
       "      <td>25</td>\n",
       "      <td>Male</td>\n",
       "      <td>No</td>\n",
       "      <td>Operations</td>\n",
       "      <td>No</td>\n",
       "      <td>(254)682-1008x497</td>\n",
       "      <td>Chicago</td>\n",
       "      <td>TX</td>\n",
       "      <td>Yes</td>\n",
       "    </tr>\n",
       "    <tr>\n",
       "      <th>1</th>\n",
       "      <td>2</td>\n",
       "      <td>Johnny Mcdowell</td>\n",
       "      <td>Designer</td>\n",
       "      <td>108087</td>\n",
       "      <td>43</td>\n",
       "      <td>Male</td>\n",
       "      <td>No</td>\n",
       "      <td>Finance</td>\n",
       "      <td>No</td>\n",
       "      <td>713.998.3327x6460</td>\n",
       "      <td>Houston</td>\n",
       "      <td>CA</td>\n",
       "      <td>No</td>\n",
       "    </tr>\n",
       "    <tr>\n",
       "      <th>2</th>\n",
       "      <td>3</td>\n",
       "      <td>Elizabeth Miller</td>\n",
       "      <td>Manager</td>\n",
       "      <td>68709</td>\n",
       "      <td>42</td>\n",
       "      <td>Female</td>\n",
       "      <td>No</td>\n",
       "      <td>HR</td>\n",
       "      <td>Yes</td>\n",
       "      <td>001-823-068-8392x5295</td>\n",
       "      <td>Los Angeles</td>\n",
       "      <td>CA</td>\n",
       "      <td>Yes</td>\n",
       "    </tr>\n",
       "  </tbody>\n",
       "</table>\n",
       "</div>"
      ],
      "text/plain": [
       "   id              name       role  salary  age  gender alive  department  \\\n",
       "0   1    Margaret Moore  Developer   57887   25    Male    No  Operations   \n",
       "1   2   Johnny Mcdowell   Designer  108087   43    Male    No     Finance   \n",
       "2   3  Elizabeth Miller    Manager   68709   42  Female    No          HR   \n",
       "\n",
       "  alone           phone_number         city state single  \n",
       "0    No      (254)682-1008x497      Chicago    TX    Yes  \n",
       "1    No      713.998.3327x6460      Houston    CA     No  \n",
       "2   Yes  001-823-068-8392x5295  Los Angeles    CA    Yes  "
      ]
     },
     "execution_count": 2,
     "metadata": {},
     "output_type": "execute_result"
    }
   ],
   "source": [
    "database= pd.read_excel(\"dummy_users.xlsx\")\n",
    "database.head(3)"
   ]
  },
  {
   "cell_type": "code",
   "execution_count": 3,
   "id": "bbc27312",
   "metadata": {},
   "outputs": [
    {
     "data": {
      "application/vnd.microsoft.datawrangler.viewer.v0+json": {
       "columns": [
        {
         "name": "index",
         "rawType": "object",
         "type": "string"
        },
        {
         "name": "0",
         "rawType": "int64",
         "type": "integer"
        }
       ],
       "ref": "9edb423f-1ec5-43f0-a15a-a86ea50c12a5",
       "rows": [
        [
         "id",
         "0"
        ],
        [
         "name",
         "0"
        ],
        [
         "role",
         "0"
        ],
        [
         "salary",
         "0"
        ],
        [
         "age",
         "0"
        ],
        [
         "gender",
         "0"
        ],
        [
         "alive",
         "0"
        ],
        [
         "department",
         "0"
        ],
        [
         "alone",
         "0"
        ],
        [
         "phone_number",
         "0"
        ],
        [
         "city",
         "0"
        ],
        [
         "state",
         "0"
        ],
        [
         "single",
         "0"
        ]
       ],
       "shape": {
        "columns": 1,
        "rows": 13
       }
      },
      "text/plain": [
       "id              0\n",
       "name            0\n",
       "role            0\n",
       "salary          0\n",
       "age             0\n",
       "gender          0\n",
       "alive           0\n",
       "department      0\n",
       "alone           0\n",
       "phone_number    0\n",
       "city            0\n",
       "state           0\n",
       "single          0\n",
       "dtype: int64"
      ]
     },
     "execution_count": 3,
     "metadata": {},
     "output_type": "execute_result"
    }
   ],
   "source": [
    "database.isnull().sum()"
   ]
  },
  {
   "cell_type": "code",
   "execution_count": 4,
   "id": "d40d73f5",
   "metadata": {},
   "outputs": [
    {
     "name": "stderr",
     "output_type": "stream",
     "text": [
      "C:\\Users\\Hp\\AppData\\Local\\Temp\\ipykernel_13612\\3631201692.py:1: UserWarning: \n",
      "\n",
      "`distplot` is a deprecated function and will be removed in seaborn v0.14.0.\n",
      "\n",
      "Please adapt your code to use either `displot` (a figure-level function with\n",
      "similar flexibility) or `histplot` (an axes-level function for histograms).\n",
      "\n",
      "For a guide to updating your code to use the new functions, please see\n",
      "https://gist.github.com/mwaskom/de44147ed2974457ad6372750bbe5751\n",
      "\n",
      "  sns.distplot(database[\"salary\"])\n"
     ]
    },
    {
     "data": {
      "image/png": "[encoded data removed]",
      "text/plain": [
       "<Figure size 640x480 with 1 Axes>"
      ]
     },
     "metadata": {},
     "output_type": "display_data"
    }
   ],
   "source": [
    "sns.distplot(database[\"salary\"])\n",
    "plt.show()      "
   ]
  },
  {
   "cell_type": "code",
   "execution_count": 5,
   "id": "84c4a1a1",
   "metadata": {},
   "outputs": [],
   "source": [
    "from sklearn.preprocessing import FunctionTransformer"
   ]
  },
  {
   "cell_type": "code",
   "execution_count": 7,
   "id": "c0cb168c",
   "metadata": {},
   "outputs": [],
   "source": [
    "ft = FunctionTransformer(np.log1p)\n",
    "database[\"salary_log\"] = ft.fit_transform(database[[\"salary\"]])"
   ]
  },
  {
   "cell_type": "code",
   "execution_count": 9,
   "id": "19725716",
   "metadata": {},
   "outputs": [
    {
     "data": {
      "image/png": "[encoded data removed]",
      "text/plain": [
       "<Figure size 1200x500 with 2 Axes>"
      ]
     },
     "metadata": {},
     "output_type": "display_data"
    }
   ],
   "source": [
    "plt.figure(figsize=(12, 5))\n",
    "\n",
    "# First subplot\n",
    "plt.subplot(1, 2, 1)\n",
    "plt.title(\"Before Function Transformer \", fontsize=12, pad=10)\n",
    "sns.histplot(data=database, x=\"salary\", kde=True)\n",
    "plt.xlabel(\"Salary\")\n",
    "plt.ylabel(\"Count\")\n",
    "\n",
    "# Second subplot\n",
    "plt.subplot(1, 2, 2)\n",
    "plt.title(\"After Function Transformer \", fontsize=12, pad=10)\n",
    "sns.histplot(data=database, x=\"salary_log\", kde=True)\n",
    "plt.xlabel(\"Function Transformer Salary\")\n",
    "plt.ylabel(\"Count\")\n",
    "\n",
    "# Add spacing between subplots and display\n",
    "plt.tight_layout()\n",
    "plt.show()"
   ]
  }
 ],
 "metadata": {
  "kernelspec": {
   "display_name": "Python 3",
   "language": "python",
   "name": "python3"
  },
  "language_info": {
   "codemirror_mode": {
    "name": "ipython",
    "version": 3
   },
   "file_extension": ".py",
   "mimetype": "text/x-python",
   "name": "python",
   "nbconvert_exporter": "python",
   "pygments_lexer": "ipython3",
   "version": "3.13.5"
  }
 },
 "nbformat": 4,
 "nbformat_minor": 5
}
