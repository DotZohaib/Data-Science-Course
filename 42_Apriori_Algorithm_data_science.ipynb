{
 "cells": [
  {
   "cell_type": "code",
   "execution_count": 1,
   "id": "2e5aa67d",
   "metadata": {},
   "outputs": [],
   "source": [
    "import pandas as pd\n",
    "import numpy as np\n",
    "import matplotlib.pyplot as plt\n",
    "import seaborn as sns\n",
    "from sklearn.model_selection import train_test_split"
   ]
  },
  {
   "cell_type": "code",
   "execution_count": 2,
   "id": "ac06bf89",
   "metadata": {},
   "outputs": [
    {
     "data": {
      "application/vnd.microsoft.datawrangler.viewer.v0+json": {
       "columns": [
        {
         "name": "index",
         "rawType": "int64",
         "type": "integer"
        },
        {
         "name": "Apple",
         "rawType": "int64",
         "type": "integer"
        },
        {
         "name": "Banana",
         "rawType": "int64",
         "type": "integer"
        },
        {
         "name": "Beef",
         "rawType": "int64",
         "type": "integer"
        },
        {
         "name": "Biscuits",
         "rawType": "int64",
         "type": "integer"
        },
        {
         "name": "Bread",
         "rawType": "int64",
         "type": "integer"
        },
        {
         "name": "Butter",
         "rawType": "int64",
         "type": "integer"
        },
        {
         "name": "Carrot",
         "rawType": "int64",
         "type": "integer"
        },
        {
         "name": "Cereal",
         "rawType": "int64",
         "type": "integer"
        },
        {
         "name": "Cheese",
         "rawType": "int64",
         "type": "integer"
        },
        {
         "name": "Chicken",
         "rawType": "int64",
         "type": "integer"
        },
        {
         "name": "Chips",
         "rawType": "int64",
         "type": "integer"
        },
        {
         "name": "Coffee",
         "rawType": "int64",
         "type": "integer"
        },
        {
         "name": "Eggs",
         "rawType": "int64",
         "type": "integer"
        },
        {
         "name": "Fish",
         "rawType": "int64",
         "type": "integer"
        },
        {
         "name": "Juice",
         "rawType": "int64",
         "type": "integer"
        },
        {
         "name": "Milk",
         "rawType": "int64",
         "type": "integer"
        },
        {
         "name": "Oil",
         "rawType": "int64",
         "type": "integer"
        },
        {
         "name": "Onion",
         "rawType": "int64",
         "type": "integer"
        },
        {
         "name": "Orange",
         "rawType": "int64",
         "type": "integer"
        },
        {
         "name": "Pasta",
         "rawType": "int64",
         "type": "integer"
        },
        {
         "name": "Potato",
         "rawType": "int64",
         "type": "integer"
        },
        {
         "name": "Rice",
         "rawType": "int64",
         "type": "integer"
        },
        {
         "name": "Salt",
         "rawType": "int64",
         "type": "integer"
        },
        {
         "name": "Sugar",
         "rawType": "int64",
         "type": "integer"
        },
        {
         "name": "Tea",
         "rawType": "int64",
         "type": "integer"
        },
        {
         "name": "Tomato",
         "rawType": "int64",
         "type": "integer"
        },
        {
         "name": "Yogurt",
         "rawType": "int64",
         "type": "integer"
        }
       ],
       "ref": "0949d18c-0f07-4149-b52c-bb4ab26a178a",
       "rows": [
        [
         "0",
         "1",
         "0",
         "0",
         "0",
         "0",
         "0",
         "0",
         "1",
         "0",
         "0",
         "0",
         "0",
         "1",
         "0",
         "0",
         "0",
         "0",
         "1",
         "0",
         "0",
         "1",
         "0",
         "0",
         "0",
         "0",
         "1",
         "1"
        ],
        [
         "1",
         "0",
         "0",
         "0",
         "0",
         "1",
         "0",
         "0",
         "1",
         "1",
         "0",
         "0",
         "0",
         "0",
         "0",
         "0",
         "0",
         "0",
         "0",
         "0",
         "0",
         "0",
         "0",
         "1",
         "0",
         "0",
         "0",
         "0"
        ],
        [
         "2",
         "1",
         "0",
         "0",
         "0",
         "0",
         "0",
         "0",
         "0",
         "0",
         "0",
         "0",
         "0",
         "0",
         "0",
         "0",
         "0",
         "0",
         "0",
         "0",
         "0",
         "0",
         "0",
         "1",
         "0",
         "0",
         "0",
         "0"
        ],
        [
         "3",
         "0",
         "0",
         "0",
         "0",
         "0",
         "0",
         "0",
         "1",
         "0",
         "0",
         "0",
         "0",
         "0",
         "0",
         "1",
         "0",
         "0",
         "0",
         "1",
         "0",
         "0",
         "0",
         "0",
         "0",
         "0",
         "0",
         "0"
        ],
        [
         "4",
         "0",
         "0",
         "0",
         "0",
         "0",
         "0",
         "0",
         "0",
         "0",
         "0",
         "1",
         "0",
         "0",
         "0",
         "1",
         "0",
         "0",
         "0",
         "0",
         "0",
         "0",
         "1",
         "0",
         "0",
         "0",
         "0",
         "0"
        ]
       ],
       "shape": {
        "columns": 27,
        "rows": 5
       }
      },
      "text/html": [
       "<div>\n",
       "<style scoped>\n",
       "    .dataframe tbody tr th:only-of-type {\n",
       "        vertical-align: middle;\n",
       "    }\n",
       "\n",
       "    .dataframe tbody tr th {\n",
       "        vertical-align: top;\n",
       "    }\n",
       "\n",
       "    .dataframe thead th {\n",
       "        text-align: right;\n",
       "    }\n",
       "</style>\n",
       "<table border=\"1\" class=\"dataframe\">\n",
       "  <thead>\n",
       "    <tr style=\"text-align: right;\">\n",
       "      <th></th>\n",
       "      <th>Apple</th>\n",
       "      <th>Banana</th>\n",
       "      <th>Beef</th>\n",
       "      <th>Biscuits</th>\n",
       "      <th>Bread</th>\n",
       "      <th>Butter</th>\n",
       "      <th>Carrot</th>\n",
       "      <th>Cereal</th>\n",
       "      <th>Cheese</th>\n",
       "      <th>Chicken</th>\n",
       "      <th>...</th>\n",
       "      <th>Onion</th>\n",
       "      <th>Orange</th>\n",
       "      <th>Pasta</th>\n",
       "      <th>Potato</th>\n",
       "      <th>Rice</th>\n",
       "      <th>Salt</th>\n",
       "      <th>Sugar</th>\n",
       "      <th>Tea</th>\n",
       "      <th>Tomato</th>\n",
       "      <th>Yogurt</th>\n",
       "    </tr>\n",
       "  </thead>\n",
       "  <tbody>\n",
       "    <tr>\n",
       "      <th>0</th>\n",
       "      <td>1</td>\n",
       "      <td>0</td>\n",
       "      <td>0</td>\n",
       "      <td>0</td>\n",
       "      <td>0</td>\n",
       "      <td>0</td>\n",
       "      <td>0</td>\n",
       "      <td>1</td>\n",
       "      <td>0</td>\n",
       "      <td>0</td>\n",
       "      <td>...</td>\n",
       "      <td>1</td>\n",
       "      <td>0</td>\n",
       "      <td>0</td>\n",
       "      <td>1</td>\n",
       "      <td>0</td>\n",
       "      <td>0</td>\n",
       "      <td>0</td>\n",
       "      <td>0</td>\n",
       "      <td>1</td>\n",
       "      <td>1</td>\n",
       "    </tr>\n",
       "    <tr>\n",
       "      <th>1</th>\n",
       "      <td>0</td>\n",
       "      <td>0</td>\n",
       "      <td>0</td>\n",
       "      <td>0</td>\n",
       "      <td>1</td>\n",
       "      <td>0</td>\n",
       "      <td>0</td>\n",
       "      <td>1</td>\n",
       "      <td>1</td>\n",
       "      <td>0</td>\n",
       "      <td>...</td>\n",
       "      <td>0</td>\n",
       "      <td>0</td>\n",
       "      <td>0</td>\n",
       "      <td>0</td>\n",
       "      <td>0</td>\n",
       "      <td>1</td>\n",
       "      <td>0</td>\n",
       "      <td>0</td>\n",
       "      <td>0</td>\n",
       "      <td>0</td>\n",
       "    </tr>\n",
       "    <tr>\n",
       "      <th>2</th>\n",
       "      <td>1</td>\n",
       "      <td>0</td>\n",
       "      <td>0</td>\n",
       "      <td>0</td>\n",
       "      <td>0</td>\n",
       "      <td>0</td>\n",
       "      <td>0</td>\n",
       "      <td>0</td>\n",
       "      <td>0</td>\n",
       "      <td>0</td>\n",
       "      <td>...</td>\n",
       "      <td>0</td>\n",
       "      <td>0</td>\n",
       "      <td>0</td>\n",
       "      <td>0</td>\n",
       "      <td>0</td>\n",
       "      <td>1</td>\n",
       "      <td>0</td>\n",
       "      <td>0</td>\n",
       "      <td>0</td>\n",
       "      <td>0</td>\n",
       "    </tr>\n",
       "    <tr>\n",
       "      <th>3</th>\n",
       "      <td>0</td>\n",
       "      <td>0</td>\n",
       "      <td>0</td>\n",
       "      <td>0</td>\n",
       "      <td>0</td>\n",
       "      <td>0</td>\n",
       "      <td>0</td>\n",
       "      <td>1</td>\n",
       "      <td>0</td>\n",
       "      <td>0</td>\n",
       "      <td>...</td>\n",
       "      <td>0</td>\n",
       "      <td>1</td>\n",
       "      <td>0</td>\n",
       "      <td>0</td>\n",
       "      <td>0</td>\n",
       "      <td>0</td>\n",
       "      <td>0</td>\n",
       "      <td>0</td>\n",
       "      <td>0</td>\n",
       "      <td>0</td>\n",
       "    </tr>\n",
       "    <tr>\n",
       "      <th>4</th>\n",
       "      <td>0</td>\n",
       "      <td>0</td>\n",
       "      <td>0</td>\n",
       "      <td>0</td>\n",
       "      <td>0</td>\n",
       "      <td>0</td>\n",
       "      <td>0</td>\n",
       "      <td>0</td>\n",
       "      <td>0</td>\n",
       "      <td>0</td>\n",
       "      <td>...</td>\n",
       "      <td>0</td>\n",
       "      <td>0</td>\n",
       "      <td>0</td>\n",
       "      <td>0</td>\n",
       "      <td>1</td>\n",
       "      <td>0</td>\n",
       "      <td>0</td>\n",
       "      <td>0</td>\n",
       "      <td>0</td>\n",
       "      <td>0</td>\n",
       "    </tr>\n",
       "  </tbody>\n",
       "</table>\n",
       "<p>5 rows × 27 columns</p>\n",
       "</div>"
      ],
      "text/plain": [
       "   Apple  Banana  Beef  Biscuits  Bread  Butter  Carrot  Cereal  Cheese  \\\n",
       "0      1       0     0         0      0       0       0       1       0   \n",
       "1      0       0     0         0      1       0       0       1       1   \n",
       "2      1       0     0         0      0       0       0       0       0   \n",
       "3      0       0     0         0      0       0       0       1       0   \n",
       "4      0       0     0         0      0       0       0       0       0   \n",
       "\n",
       "   Chicken  ...  Onion  Orange  Pasta  Potato  Rice  Salt  Sugar  Tea  Tomato  \\\n",
       "0        0  ...      1       0      0       1     0     0      0    0       1   \n",
       "1        0  ...      0       0      0       0     0     1      0    0       0   \n",
       "2        0  ...      0       0      0       0     0     1      0    0       0   \n",
       "3        0  ...      0       1      0       0     0     0      0    0       0   \n",
       "4        0  ...      0       0      0       0     1     0      0    0       0   \n",
       "\n",
       "   Yogurt  \n",
       "0       1  \n",
       "1       0  \n",
       "2       0  \n",
       "3       0  \n",
       "4       0  \n",
       "\n",
       "[5 rows x 27 columns]"
      ]
     },
     "execution_count": 2,
     "metadata": {},
     "output_type": "execute_result"
    }
   ],
   "source": [
    "database = pd.read_excel(\"apriori_groceries.xlsx\")\n",
    "database.head(5)"
   ]
  },
  {
   "cell_type": "code",
   "execution_count": null,
   "id": "dccc15b2",
   "metadata": {},
   "outputs": [
    {
     "data": {
      "text/plain": [
       "(50, 27)"
      ]
     },
     "execution_count": 3,
     "metadata": {},
     "output_type": "execute_result"
    }
   ],
   "source": [
    "database.shape\n",
    "25"
   ]
  },
  {
   "cell_type": "code",
   "execution_count": 4,
   "id": "ccdc13c7",
   "metadata": {},
   "outputs": [
    {
     "data": {
      "application/vnd.microsoft.datawrangler.viewer.v0+json": {
       "columns": [
        {
         "name": "index",
         "rawType": "object",
         "type": "string"
        },
        {
         "name": "0",
         "rawType": "int64",
         "type": "integer"
        }
       ],
       "ref": "0bb57270-ec4e-4baa-98e4-71fd24daf93f",
       "rows": [
        [
         "Apple",
         "0"
        ],
        [
         "Banana",
         "0"
        ],
        [
         "Beef",
         "0"
        ],
        [
         "Biscuits",
         "0"
        ],
        [
         "Bread",
         "0"
        ],
        [
         "Butter",
         "0"
        ],
        [
         "Carrot",
         "0"
        ],
        [
         "Cereal",
         "0"
        ],
        [
         "Cheese",
         "0"
        ],
        [
         "Chicken",
         "0"
        ],
        [
         "Chips",
         "0"
        ],
        [
         "Coffee",
         "0"
        ],
        [
         "Eggs",
         "0"
        ],
        [
         "Fish",
         "0"
        ],
        [
         "Juice",
         "0"
        ],
        [
         "Milk",
         "0"
        ],
        [
         "Oil",
         "0"
        ],
        [
         "Onion",
         "0"
        ],
        [
         "Orange",
         "0"
        ],
        [
         "Pasta",
         "0"
        ],
        [
         "Potato",
         "0"
        ],
        [
         "Rice",
         "0"
        ],
        [
         "Salt",
         "0"
        ],
        [
         "Sugar",
         "0"
        ],
        [
         "Tea",
         "0"
        ],
        [
         "Tomato",
         "0"
        ],
        [
         "Yogurt",
         "0"
        ]
       ],
       "shape": {
        "columns": 1,
        "rows": 27
       }
      },
      "text/plain": [
       "Apple       0\n",
       "Banana      0\n",
       "Beef        0\n",
       "Biscuits    0\n",
       "Bread       0\n",
       "Butter      0\n",
       "Carrot      0\n",
       "Cereal      0\n",
       "Cheese      0\n",
       "Chicken     0\n",
       "Chips       0\n",
       "Coffee      0\n",
       "Eggs        0\n",
       "Fish        0\n",
       "Juice       0\n",
       "Milk        0\n",
       "Oil         0\n",
       "Onion       0\n",
       "Orange      0\n",
       "Pasta       0\n",
       "Potato      0\n",
       "Rice        0\n",
       "Salt        0\n",
       "Sugar       0\n",
       "Tea         0\n",
       "Tomato      0\n",
       "Yogurt      0\n",
       "dtype: int64"
      ]
     },
     "execution_count": 4,
     "metadata": {},
     "output_type": "execute_result"
    }
   ],
   "source": [
    "database.isnull().sum()"
   ]
  },
  {
   "cell_type": "code",
   "execution_count": 5,
   "id": "2043093f",
   "metadata": {},
   "outputs": [],
   "source": [
    "import collections"
   ]
  },
  {
   "cell_type": "code",
   "execution_count": 7,
   "id": "05503243",
   "metadata": {},
   "outputs": [
    {
     "data": {
      "text/plain": [
       "Counter({'Apple': 1,\n",
       "         'Banana': 1,\n",
       "         'Beef': 1,\n",
       "         'Biscuits': 1,\n",
       "         'Bread': 1,\n",
       "         'Butter': 1,\n",
       "         'Carrot': 1,\n",
       "         'Cereal': 1,\n",
       "         'Cheese': 1,\n",
       "         'Chicken': 1,\n",
       "         'Chips': 1,\n",
       "         'Coffee': 1,\n",
       "         'Eggs': 1,\n",
       "         'Fish': 1,\n",
       "         'Juice': 1,\n",
       "         'Milk': 1,\n",
       "         'Oil': 1,\n",
       "         'Onion': 1,\n",
       "         'Orange': 1,\n",
       "         'Pasta': 1,\n",
       "         'Potato': 1,\n",
       "         'Rice': 1,\n",
       "         'Salt': 1,\n",
       "         'Sugar': 1,\n",
       "         'Tea': 1,\n",
       "         'Tomato': 1,\n",
       "         'Yogurt': 1})"
      ]
     },
     "execution_count": 7,
     "metadata": {},
     "output_type": "execute_result"
    }
   ],
   "source": [
    "collections.Counter(database)"
   ]
  },
  {
   "cell_type": "code",
   "execution_count": null,
   "id": "912e9ee9",
   "metadata": {},
   "outputs": [],
   "source": []
  }
 ],
 "metadata": {
  "kernelspec": {
   "display_name": "Python 3",
   "language": "python",
   "name": "python3"
  },
  "language_info": {
   "codemirror_mode": {
    "name": "ipython",
    "version": 3
   },
   "file_extension": ".py",
   "mimetype": "text/x-python",
   "name": "python",
   "nbconvert_exporter": "python",
   "pygments_lexer": "ipython3",
   "version": "3.13.5"
  }
 },
 "nbformat": 4,
 "nbformat_minor": 5
}
