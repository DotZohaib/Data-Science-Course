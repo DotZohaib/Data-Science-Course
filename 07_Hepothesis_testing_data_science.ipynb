{
 "cells": [
  {
   "cell_type": "code",
   "execution_count": 2,
   "id": "2ebe738e",
   "metadata": {},
   "outputs": [],
   "source": [
    "import pandas as pd\n",
    "import numpy as np\n",
    "import matplotlib.pyplot as plt\n",
    "import seaborn as sns"
   ]
  },
  {
   "cell_type": "code",
   "execution_count": 7,
   "id": "8c09eaa3",
   "metadata": {},
   "outputs": [
    {
     "data": {
      "application/vnd.microsoft.datawrangler.viewer.v0+json": {
       "columns": [
        {
         "name": "index",
         "rawType": "int64",
         "type": "integer"
        },
        {
         "name": "id",
         "rawType": "int64",
         "type": "integer"
        },
        {
         "name": "name",
         "rawType": "object",
         "type": "string"
        },
        {
         "name": "role",
         "rawType": "object",
         "type": "string"
        },
        {
         "name": "salary",
         "rawType": "int64",
         "type": "integer"
        },
        {
         "name": "age",
         "rawType": "int64",
         "type": "integer"
        },
        {
         "name": "gender",
         "rawType": "object",
         "type": "string"
        },
        {
         "name": "alive",
         "rawType": "object",
         "type": "string"
        },
        {
         "name": "department",
         "rawType": "object",
         "type": "string"
        },
        {
         "name": "alone",
         "rawType": "object",
         "type": "string"
        },
        {
         "name": "phonenumber",
         "rawType": "object",
         "type": "string"
        },
        {
         "name": "city",
         "rawType": "object",
         "type": "string"
        },
        {
         "name": "state",
         "rawType": "object",
         "type": "string"
        },
        {
         "name": "single",
         "rawType": "object",
         "type": "string"
        },
        {
         "name": "education",
         "rawType": "object",
         "type": "string"
        },
        {
         "name": "loanstatus",
         "rawType": "object",
         "type": "string"
        },
        {
         "name": "Isadmin",
         "rawType": "bool",
         "type": "boolean"
        },
        {
         "name": "investement",
         "rawType": "int64",
         "type": "integer"
        },
        {
         "name": "yearloadbill",
         "rawType": "int64",
         "type": "integer"
        }
       ],
       "ref": "4a9a6089-79c0-43cc-abd8-b24ebb2cdbba",
       "rows": [
        [
         "0",
         "1",
         "Nathan Bolton",
         "Manager",
         "43056",
         "45",
         "Other",
         "No",
         "Support",
         "No",
         "4579240482",
         "Jordanbury",
         "Wisconsin",
         "No",
         "High School",
         "Rejected",
         "True",
         "17317",
         "50907"
        ],
        [
         "1",
         "2",
         "Andrew Doyle",
         "Developer",
         "79400",
         "60",
         "Other",
         "Yes",
         "IT",
         "No",
         "6881176726",
         "Port Markfort",
         "Texas",
         "No",
         "PhD",
         "Approved",
         "False",
         "2091",
         "106120"
        ],
        [
         "2",
         "3",
         "Rebecca Wiley",
         "Designer",
         "49856",
         "21",
         "Other",
         "No",
         "Finance",
         "Yes",
         "+1-820-049-2423",
         "New Veronica",
         "Alabama",
         "Yes",
         "Bachelors",
         "Pending",
         "True",
         "49187",
         "88174"
        ]
       ],
       "shape": {
        "columns": 18,
        "rows": 3
       }
      },
      "text/html": [
       "<div>\n",
       "<style scoped>\n",
       "    .dataframe tbody tr th:only-of-type {\n",
       "        vertical-align: middle;\n",
       "    }\n",
       "\n",
       "    .dataframe tbody tr th {\n",
       "        vertical-align: top;\n",
       "    }\n",
       "\n",
       "    .dataframe thead th {\n",
       "        text-align: right;\n",
       "    }\n",
       "</style>\n",
       "<table border=\"1\" class=\"dataframe\">\n",
       "  <thead>\n",
       "    <tr style=\"text-align: right;\">\n",
       "      <th></th>\n",
       "      <th>id</th>\n",
       "      <th>name</th>\n",
       "      <th>role</th>\n",
       "      <th>salary</th>\n",
       "      <th>age</th>\n",
       "      <th>gender</th>\n",
       "      <th>alive</th>\n",
       "      <th>department</th>\n",
       "      <th>alone</th>\n",
       "      <th>phonenumber</th>\n",
       "      <th>city</th>\n",
       "      <th>state</th>\n",
       "      <th>single</th>\n",
       "      <th>education</th>\n",
       "      <th>loanstatus</th>\n",
       "      <th>Isadmin</th>\n",
       "      <th>investement</th>\n",
       "      <th>yearloadbill</th>\n",
       "    </tr>\n",
       "  </thead>\n",
       "  <tbody>\n",
       "    <tr>\n",
       "      <th>0</th>\n",
       "      <td>1</td>\n",
       "      <td>Nathan Bolton</td>\n",
       "      <td>Manager</td>\n",
       "      <td>43056</td>\n",
       "      <td>45</td>\n",
       "      <td>Other</td>\n",
       "      <td>No</td>\n",
       "      <td>Support</td>\n",
       "      <td>No</td>\n",
       "      <td>4579240482</td>\n",
       "      <td>Jordanbury</td>\n",
       "      <td>Wisconsin</td>\n",
       "      <td>No</td>\n",
       "      <td>High School</td>\n",
       "      <td>Rejected</td>\n",
       "      <td>True</td>\n",
       "      <td>17317</td>\n",
       "      <td>50907</td>\n",
       "    </tr>\n",
       "    <tr>\n",
       "      <th>1</th>\n",
       "      <td>2</td>\n",
       "      <td>Andrew Doyle</td>\n",
       "      <td>Developer</td>\n",
       "      <td>79400</td>\n",
       "      <td>60</td>\n",
       "      <td>Other</td>\n",
       "      <td>Yes</td>\n",
       "      <td>IT</td>\n",
       "      <td>No</td>\n",
       "      <td>6881176726</td>\n",
       "      <td>Port Markfort</td>\n",
       "      <td>Texas</td>\n",
       "      <td>No</td>\n",
       "      <td>PhD</td>\n",
       "      <td>Approved</td>\n",
       "      <td>False</td>\n",
       "      <td>2091</td>\n",
       "      <td>106120</td>\n",
       "    </tr>\n",
       "    <tr>\n",
       "      <th>2</th>\n",
       "      <td>3</td>\n",
       "      <td>Rebecca Wiley</td>\n",
       "      <td>Designer</td>\n",
       "      <td>49856</td>\n",
       "      <td>21</td>\n",
       "      <td>Other</td>\n",
       "      <td>No</td>\n",
       "      <td>Finance</td>\n",
       "      <td>Yes</td>\n",
       "      <td>+1-820-049-2423</td>\n",
       "      <td>New Veronica</td>\n",
       "      <td>Alabama</td>\n",
       "      <td>Yes</td>\n",
       "      <td>Bachelors</td>\n",
       "      <td>Pending</td>\n",
       "      <td>True</td>\n",
       "      <td>49187</td>\n",
       "      <td>88174</td>\n",
       "    </tr>\n",
       "  </tbody>\n",
       "</table>\n",
       "</div>"
      ],
      "text/plain": [
       "   id           name       role  salary  age gender alive department alone  \\\n",
       "0   1  Nathan Bolton    Manager   43056   45  Other    No    Support    No   \n",
       "1   2   Andrew Doyle  Developer   79400   60  Other   Yes         IT    No   \n",
       "2   3  Rebecca Wiley   Designer   49856   21  Other    No    Finance   Yes   \n",
       "\n",
       "       phonenumber           city      state single    education loanstatus  \\\n",
       "0       4579240482     Jordanbury  Wisconsin     No  High School   Rejected   \n",
       "1       6881176726  Port Markfort      Texas     No          PhD   Approved   \n",
       "2  +1-820-049-2423   New Veronica    Alabama    Yes    Bachelors    Pending   \n",
       "\n",
       "   Isadmin  investement  yearloadbill  \n",
       "0     True        17317         50907  \n",
       "1    False         2091        106120  \n",
       "2     True        49187         88174  "
      ]
     },
     "execution_count": 7,
     "metadata": {},
     "output_type": "execute_result"
    }
   ],
   "source": [
    "database = pd.read_excel(\"Company.xlsx\")\n",
    "database.head(3)"
   ]
  },
  {
   "cell_type": "code",
   "execution_count": 4,
   "id": "23dac6ef",
   "metadata": {},
   "outputs": [],
   "source": [
    "import scipy.stats as st         "
   ]
  },
  {
   "cell_type": "code",
   "execution_count": 7,
   "id": "13748ef3",
   "metadata": {},
   "outputs": [
    {
     "name": "stdout",
     "output_type": "stream",
     "text": [
      "The critical value is:  -1.7108820799094282\n"
     ]
    }
   ],
   "source": [
    "stats: int = st.t.ppf(0.05, 24)\n",
    "print(\"The critical value is: \", stats)"
   ]
  },
  {
   "cell_type": "code",
   "execution_count": 8,
   "id": "9e194e97",
   "metadata": {},
   "outputs": [
    {
     "name": "stdout",
     "output_type": "stream",
     "text": [
      "The critical value is:  1.7108820799094275\n"
     ]
    }
   ],
   "source": [
    "t_table: int = st.t.ppf(1-0.05, 24)\n",
    "print(\"The critical value is: \", t_table)"
   ]
  },
  {
   "cell_type": "code",
   "execution_count": 10,
   "id": "dced2b7b",
   "metadata": {},
   "outputs": [
    {
     "name": "stdout",
     "output_type": "stream",
     "text": [
      "The critical value is:  3.1311214554257476\n"
     ]
    }
   ],
   "source": [
    "t_calculated: int = (80 - 75) /(np.sqrt((25/20)+(26/20)))\n",
    "print(\"The critical value is: \", t_calculated)"
   ]
  },
  {
   "cell_type": "code",
   "execution_count": 11,
   "id": "1aba39e5",
   "metadata": {},
   "outputs": [],
   "source": [
    "row_1 = np.array([40, 45, 25, 10])\n",
    "row_2 = np.array([35, 30, 20, 30])\n"
   ]
  },
  {
   "cell_type": "code",
   "execution_count": 13,
   "id": "17e379fc",
   "metadata": {},
   "outputs": [
    {
     "name": "stdout",
     "output_type": "stream",
     "text": [
      "Sum of row 1 is:  120\n",
      "Sum of row 2 is:  115\n"
     ]
    }
   ],
   "source": [
    "sum_r1 = np.sum(row_1)\n",
    "sum_r2 = np.sum(row_2)\n",
    "print(\"Sum of row 1 is: \", sum_r1)\n",
    "print(\"Sum of row 2 is: \", sum_r2)"
   ]
  },
  {
   "cell_type": "code",
   "execution_count": 14,
   "id": "a81041cb",
   "metadata": {},
   "outputs": [
    {
     "name": "stdout",
     "output_type": "stream",
     "text": [
      "Sum of column is:  [75 75 45 40]\n"
     ]
    }
   ],
   "source": [
    "sum_col = row_1 + row_2\n",
    "print(\"Sum of column is: \", sum_col)"
   ]
  },
  {
   "cell_type": "code",
   "execution_count": 17,
   "id": "c5d32996",
   "metadata": {},
   "outputs": [],
   "source": [
    "sum_of_row = np.array([sum_r1 , sum_r2])"
   ]
  },
  {
   "cell_type": "code",
   "execution_count": 20,
   "id": "87c73c90",
   "metadata": {},
   "outputs": [],
   "source": [
    "exp = []\n",
    "for i in sum_of_row:\n",
    "    for j in sum_col:\n",
    "        value = (i * j)/ 235\n",
    "        exp.append(value)"
   ]
  }
 ],
 "metadata": {
  "kernelspec": {
   "display_name": "Python 3",
   "language": "python",
   "name": "python3"
  },
  "language_info": {
   "codemirror_mode": {
    "name": "ipython",
    "version": 3
   },
   "file_extension": ".py",
   "mimetype": "text/x-python",
   "name": "python",
   "nbconvert_exporter": "python",
   "pygments_lexer": "ipython3",
   "version": "3.13.5"
  }
 },
 "nbformat": 4,
 "nbformat_minor": 5
}
