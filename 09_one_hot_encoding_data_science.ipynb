{
 "cells": [
  {
   "cell_type": "code",
   "execution_count": 1,
   "id": "c374ee69",
   "metadata": {},
   "outputs": [],
   "source": [
    "import pandas as pd\n",
    "import numpy as np\n",
    "import matplotlib.pyplot as plt\n",
    "import seaborn as sns"
   ]
  },
  {
   "cell_type": "code",
   "execution_count": 3,
   "id": "8ac1eb0b",
   "metadata": {},
   "outputs": [
    {
     "data": {
      "application/vnd.microsoft.datawrangler.viewer.v0+json": {
       "columns": [
        {
         "name": "index",
         "rawType": "int64",
         "type": "integer"
        },
        {
         "name": "id",
         "rawType": "int64",
         "type": "integer"
        },
        {
         "name": "name",
         "rawType": "object",
         "type": "string"
        },
        {
         "name": "role",
         "rawType": "object",
         "type": "string"
        },
        {
         "name": "salary",
         "rawType": "int64",
         "type": "integer"
        },
        {
         "name": "age",
         "rawType": "int64",
         "type": "integer"
        },
        {
         "name": "gender",
         "rawType": "object",
         "type": "string"
        },
        {
         "name": "alive",
         "rawType": "object",
         "type": "string"
        },
        {
         "name": "department",
         "rawType": "object",
         "type": "string"
        },
        {
         "name": "alone",
         "rawType": "object",
         "type": "string"
        },
        {
         "name": "phone_number",
         "rawType": "object",
         "type": "string"
        },
        {
         "name": "city",
         "rawType": "object",
         "type": "string"
        },
        {
         "name": "state",
         "rawType": "object",
         "type": "string"
        },
        {
         "name": "single",
         "rawType": "object",
         "type": "string"
        }
       ],
       "ref": "3fa9805d-ab28-47af-8a9c-dcac1fd021c3",
       "rows": [
        [
         "0",
         "1",
         "Margaret Moore",
         "Developer",
         "57887",
         "25",
         "Male",
         "No",
         "Operations",
         "No",
         "(254)682-1008x497",
         "Chicago",
         "TX",
         "Yes"
        ],
        [
         "1",
         "2",
         "Johnny Mcdowell",
         "Designer",
         "108087",
         "43",
         "Male",
         "No",
         "Finance",
         "No",
         "713.998.3327x6460",
         "Houston",
         "CA",
         "No"
        ],
        [
         "2",
         "3",
         "Elizabeth Miller",
         "Manager",
         "68709",
         "42",
         "Female",
         "No",
         "HR",
         "Yes",
         "001-823-068-8392x5295",
         "Los Angeles",
         "CA",
         "Yes"
        ],
        [
         "3",
         "4",
         "Lydia Baldwin",
         "Designer",
         "92735",
         "59",
         "Female",
         "No",
         "Operations",
         "No",
         "353-149-4250x81413",
         "Los Angeles",
         "NY",
         "Yes"
        ],
        [
         "4",
         "5",
         "John Mccoy",
         "QA",
         "95393",
         "49",
         "Male",
         "No",
         "HR",
         "Yes",
         "(270)652-6399",
         "New York",
         "IL",
         "Yes"
        ]
       ],
       "shape": {
        "columns": 13,
        "rows": 5
       }
      },
      "text/html": [
       "<div>\n",
       "<style scoped>\n",
       "    .dataframe tbody tr th:only-of-type {\n",
       "        vertical-align: middle;\n",
       "    }\n",
       "\n",
       "    .dataframe tbody tr th {\n",
       "        vertical-align: top;\n",
       "    }\n",
       "\n",
       "    .dataframe thead th {\n",
       "        text-align: right;\n",
       "    }\n",
       "</style>\n",
       "<table border=\"1\" class=\"dataframe\">\n",
       "  <thead>\n",
       "    <tr style=\"text-align: right;\">\n",
       "      <th></th>\n",
       "      <th>id</th>\n",
       "      <th>name</th>\n",
       "      <th>role</th>\n",
       "      <th>salary</th>\n",
       "      <th>age</th>\n",
       "      <th>gender</th>\n",
       "      <th>alive</th>\n",
       "      <th>department</th>\n",
       "      <th>alone</th>\n",
       "      <th>phone_number</th>\n",
       "      <th>city</th>\n",
       "      <th>state</th>\n",
       "      <th>single</th>\n",
       "    </tr>\n",
       "  </thead>\n",
       "  <tbody>\n",
       "    <tr>\n",
       "      <th>0</th>\n",
       "      <td>1</td>\n",
       "      <td>Margaret Moore</td>\n",
       "      <td>Developer</td>\n",
       "      <td>57887</td>\n",
       "      <td>25</td>\n",
       "      <td>Male</td>\n",
       "      <td>No</td>\n",
       "      <td>Operations</td>\n",
       "      <td>No</td>\n",
       "      <td>(254)682-1008x497</td>\n",
       "      <td>Chicago</td>\n",
       "      <td>TX</td>\n",
       "      <td>Yes</td>\n",
       "    </tr>\n",
       "    <tr>\n",
       "      <th>1</th>\n",
       "      <td>2</td>\n",
       "      <td>Johnny Mcdowell</td>\n",
       "      <td>Designer</td>\n",
       "      <td>108087</td>\n",
       "      <td>43</td>\n",
       "      <td>Male</td>\n",
       "      <td>No</td>\n",
       "      <td>Finance</td>\n",
       "      <td>No</td>\n",
       "      <td>713.998.3327x6460</td>\n",
       "      <td>Houston</td>\n",
       "      <td>CA</td>\n",
       "      <td>No</td>\n",
       "    </tr>\n",
       "    <tr>\n",
       "      <th>2</th>\n",
       "      <td>3</td>\n",
       "      <td>Elizabeth Miller</td>\n",
       "      <td>Manager</td>\n",
       "      <td>68709</td>\n",
       "      <td>42</td>\n",
       "      <td>Female</td>\n",
       "      <td>No</td>\n",
       "      <td>HR</td>\n",
       "      <td>Yes</td>\n",
       "      <td>001-823-068-8392x5295</td>\n",
       "      <td>Los Angeles</td>\n",
       "      <td>CA</td>\n",
       "      <td>Yes</td>\n",
       "    </tr>\n",
       "    <tr>\n",
       "      <th>3</th>\n",
       "      <td>4</td>\n",
       "      <td>Lydia Baldwin</td>\n",
       "      <td>Designer</td>\n",
       "      <td>92735</td>\n",
       "      <td>59</td>\n",
       "      <td>Female</td>\n",
       "      <td>No</td>\n",
       "      <td>Operations</td>\n",
       "      <td>No</td>\n",
       "      <td>353-149-4250x81413</td>\n",
       "      <td>Los Angeles</td>\n",
       "      <td>NY</td>\n",
       "      <td>Yes</td>\n",
       "    </tr>\n",
       "    <tr>\n",
       "      <th>4</th>\n",
       "      <td>5</td>\n",
       "      <td>John Mccoy</td>\n",
       "      <td>QA</td>\n",
       "      <td>95393</td>\n",
       "      <td>49</td>\n",
       "      <td>Male</td>\n",
       "      <td>No</td>\n",
       "      <td>HR</td>\n",
       "      <td>Yes</td>\n",
       "      <td>(270)652-6399</td>\n",
       "      <td>New York</td>\n",
       "      <td>IL</td>\n",
       "      <td>Yes</td>\n",
       "    </tr>\n",
       "  </tbody>\n",
       "</table>\n",
       "</div>"
      ],
      "text/plain": [
       "   id              name       role  salary  age  gender alive  department  \\\n",
       "0   1    Margaret Moore  Developer   57887   25    Male    No  Operations   \n",
       "1   2   Johnny Mcdowell   Designer  108087   43    Male    No     Finance   \n",
       "2   3  Elizabeth Miller    Manager   68709   42  Female    No          HR   \n",
       "3   4     Lydia Baldwin   Designer   92735   59  Female    No  Operations   \n",
       "4   5        John Mccoy         QA   95393   49    Male    No          HR   \n",
       "\n",
       "  alone           phone_number         city state single  \n",
       "0    No      (254)682-1008x497      Chicago    TX    Yes  \n",
       "1    No      713.998.3327x6460      Houston    CA     No  \n",
       "2   Yes  001-823-068-8392x5295  Los Angeles    CA    Yes  \n",
       "3    No     353-149-4250x81413  Los Angeles    NY    Yes  \n",
       "4   Yes          (270)652-6399     New York    IL    Yes  "
      ]
     },
     "execution_count": 3,
     "metadata": {},
     "output_type": "execute_result"
    }
   ],
   "source": [
    "dataset = pd.read_excel(\"dummy_users.xlsx\")\n",
    "dataset.head(5)"
   ]
  },
  {
   "cell_type": "code",
   "execution_count": null,
   "id": "81a1dfeb",
   "metadata": {},
   "outputs": [
    {
     "data": {
      "application/vnd.microsoft.datawrangler.viewer.v0+json": {
       "columns": [
        {
         "name": "index",
         "rawType": "int64",
         "type": "integer"
        },
        {
         "name": "gender",
         "rawType": "object",
         "type": "string"
        }
       ],
       "ref": "55c08e1a-4082-4577-b216-40ff559a703a",
       "rows": [
        [
         "0",
         "Male"
        ],
        [
         "1",
         "Male"
        ],
        [
         "2",
         "Female"
        ],
        [
         "3",
         "Female"
        ],
        [
         "4",
         "Male"
        ],
        [
         "5",
         "Male"
        ],
        [
         "6",
         "Male"
        ],
        [
         "7",
         "Female"
        ],
        [
         "8",
         "Female"
        ],
        [
         "9",
         "Male"
        ],
        [
         "10",
         "Female"
        ],
        [
         "11",
         "Male"
        ],
        [
         "12",
         "Male"
        ],
        [
         "13",
         "Male"
        ],
        [
         "14",
         "Female"
        ],
        [
         "15",
         "Female"
        ],
        [
         "16",
         "Male"
        ],
        [
         "17",
         "Male"
        ],
        [
         "18",
         "Female"
        ],
        [
         "19",
         "Male"
        ]
       ],
       "shape": {
        "columns": 1,
        "rows": 20
       }
      },
      "text/html": [
       "<div>\n",
       "<style scoped>\n",
       "    .dataframe tbody tr th:only-of-type {\n",
       "        vertical-align: middle;\n",
       "    }\n",
       "\n",
       "    .dataframe tbody tr th {\n",
       "        vertical-align: top;\n",
       "    }\n",
       "\n",
       "    .dataframe thead th {\n",
       "        text-align: right;\n",
       "    }\n",
       "</style>\n",
       "<table border=\"1\" class=\"dataframe\">\n",
       "  <thead>\n",
       "    <tr style=\"text-align: right;\">\n",
       "      <th></th>\n",
       "      <th>gender</th>\n",
       "    </tr>\n",
       "  </thead>\n",
       "  <tbody>\n",
       "    <tr>\n",
       "      <th>0</th>\n",
       "      <td>Male</td>\n",
       "    </tr>\n",
       "    <tr>\n",
       "      <th>1</th>\n",
       "      <td>Male</td>\n",
       "    </tr>\n",
       "    <tr>\n",
       "      <th>2</th>\n",
       "      <td>Female</td>\n",
       "    </tr>\n",
       "    <tr>\n",
       "      <th>3</th>\n",
       "      <td>Female</td>\n",
       "    </tr>\n",
       "    <tr>\n",
       "      <th>4</th>\n",
       "      <td>Male</td>\n",
       "    </tr>\n",
       "    <tr>\n",
       "      <th>5</th>\n",
       "      <td>Male</td>\n",
       "    </tr>\n",
       "    <tr>\n",
       "      <th>6</th>\n",
       "      <td>Male</td>\n",
       "    </tr>\n",
       "    <tr>\n",
       "      <th>7</th>\n",
       "      <td>Female</td>\n",
       "    </tr>\n",
       "    <tr>\n",
       "      <th>8</th>\n",
       "      <td>Female</td>\n",
       "    </tr>\n",
       "    <tr>\n",
       "      <th>9</th>\n",
       "      <td>Male</td>\n",
       "    </tr>\n",
       "    <tr>\n",
       "      <th>10</th>\n",
       "      <td>Female</td>\n",
       "    </tr>\n",
       "    <tr>\n",
       "      <th>11</th>\n",
       "      <td>Male</td>\n",
       "    </tr>\n",
       "    <tr>\n",
       "      <th>12</th>\n",
       "      <td>Male</td>\n",
       "    </tr>\n",
       "    <tr>\n",
       "      <th>13</th>\n",
       "      <td>Male</td>\n",
       "    </tr>\n",
       "    <tr>\n",
       "      <th>14</th>\n",
       "      <td>Female</td>\n",
       "    </tr>\n",
       "    <tr>\n",
       "      <th>15</th>\n",
       "      <td>Female</td>\n",
       "    </tr>\n",
       "    <tr>\n",
       "      <th>16</th>\n",
       "      <td>Male</td>\n",
       "    </tr>\n",
       "    <tr>\n",
       "      <th>17</th>\n",
       "      <td>Male</td>\n",
       "    </tr>\n",
       "    <tr>\n",
       "      <th>18</th>\n",
       "      <td>Female</td>\n",
       "    </tr>\n",
       "    <tr>\n",
       "      <th>19</th>\n",
       "      <td>Male</td>\n",
       "    </tr>\n",
       "  </tbody>\n",
       "</table>\n",
       "</div>"
      ],
      "text/plain": [
       "    gender\n",
       "0     Male\n",
       "1     Male\n",
       "2   Female\n",
       "3   Female\n",
       "4     Male\n",
       "5     Male\n",
       "6     Male\n",
       "7   Female\n",
       "8   Female\n",
       "9     Male\n",
       "10  Female\n",
       "11    Male\n",
       "12    Male\n",
       "13    Male\n",
       "14  Female\n",
       "15  Female\n",
       "16    Male\n",
       "17    Male\n",
       "18  Female\n",
       "19    Male"
      ]
     },
     "execution_count": 4,
     "metadata": {},
     "output_type": "execute_result"
    }
   ],
   "source": [
    "en_data = dataset[[\"gender\"]]\n",
    "en_data"
   ]
  },
  {
   "cell_type": "code",
   "execution_count": 5,
   "id": "a4422c82",
   "metadata": {},
   "outputs": [
    {
     "data": {
      "application/vnd.microsoft.datawrangler.viewer.v0+json": {
       "columns": [
        {
         "name": "index",
         "rawType": "int64",
         "type": "integer"
        },
        {
         "name": "gender_Female",
         "rawType": "bool",
         "type": "boolean"
        },
        {
         "name": "gender_Male",
         "rawType": "bool",
         "type": "boolean"
        }
       ],
       "ref": "ee53e8ec-b1dd-4827-b4ce-40162ba42b85",
       "rows": [
        [
         "0",
         "False",
         "True"
        ],
        [
         "1",
         "False",
         "True"
        ],
        [
         "2",
         "True",
         "False"
        ],
        [
         "3",
         "True",
         "False"
        ],
        [
         "4",
         "False",
         "True"
        ],
        [
         "5",
         "False",
         "True"
        ],
        [
         "6",
         "False",
         "True"
        ],
        [
         "7",
         "True",
         "False"
        ],
        [
         "8",
         "True",
         "False"
        ],
        [
         "9",
         "False",
         "True"
        ],
        [
         "10",
         "True",
         "False"
        ],
        [
         "11",
         "False",
         "True"
        ],
        [
         "12",
         "False",
         "True"
        ],
        [
         "13",
         "False",
         "True"
        ],
        [
         "14",
         "True",
         "False"
        ],
        [
         "15",
         "True",
         "False"
        ],
        [
         "16",
         "False",
         "True"
        ],
        [
         "17",
         "False",
         "True"
        ],
        [
         "18",
         "True",
         "False"
        ],
        [
         "19",
         "False",
         "True"
        ]
       ],
       "shape": {
        "columns": 2,
        "rows": 20
       }
      },
      "text/html": [
       "<div>\n",
       "<style scoped>\n",
       "    .dataframe tbody tr th:only-of-type {\n",
       "        vertical-align: middle;\n",
       "    }\n",
       "\n",
       "    .dataframe tbody tr th {\n",
       "        vertical-align: top;\n",
       "    }\n",
       "\n",
       "    .dataframe thead th {\n",
       "        text-align: right;\n",
       "    }\n",
       "</style>\n",
       "<table border=\"1\" class=\"dataframe\">\n",
       "  <thead>\n",
       "    <tr style=\"text-align: right;\">\n",
       "      <th></th>\n",
       "      <th>gender_Female</th>\n",
       "      <th>gender_Male</th>\n",
       "    </tr>\n",
       "  </thead>\n",
       "  <tbody>\n",
       "    <tr>\n",
       "      <th>0</th>\n",
       "      <td>False</td>\n",
       "      <td>True</td>\n",
       "    </tr>\n",
       "    <tr>\n",
       "      <th>1</th>\n",
       "      <td>False</td>\n",
       "      <td>True</td>\n",
       "    </tr>\n",
       "    <tr>\n",
       "      <th>2</th>\n",
       "      <td>True</td>\n",
       "      <td>False</td>\n",
       "    </tr>\n",
       "    <tr>\n",
       "      <th>3</th>\n",
       "      <td>True</td>\n",
       "      <td>False</td>\n",
       "    </tr>\n",
       "    <tr>\n",
       "      <th>4</th>\n",
       "      <td>False</td>\n",
       "      <td>True</td>\n",
       "    </tr>\n",
       "    <tr>\n",
       "      <th>5</th>\n",
       "      <td>False</td>\n",
       "      <td>True</td>\n",
       "    </tr>\n",
       "    <tr>\n",
       "      <th>6</th>\n",
       "      <td>False</td>\n",
       "      <td>True</td>\n",
       "    </tr>\n",
       "    <tr>\n",
       "      <th>7</th>\n",
       "      <td>True</td>\n",
       "      <td>False</td>\n",
       "    </tr>\n",
       "    <tr>\n",
       "      <th>8</th>\n",
       "      <td>True</td>\n",
       "      <td>False</td>\n",
       "    </tr>\n",
       "    <tr>\n",
       "      <th>9</th>\n",
       "      <td>False</td>\n",
       "      <td>True</td>\n",
       "    </tr>\n",
       "    <tr>\n",
       "      <th>10</th>\n",
       "      <td>True</td>\n",
       "      <td>False</td>\n",
       "    </tr>\n",
       "    <tr>\n",
       "      <th>11</th>\n",
       "      <td>False</td>\n",
       "      <td>True</td>\n",
       "    </tr>\n",
       "    <tr>\n",
       "      <th>12</th>\n",
       "      <td>False</td>\n",
       "      <td>True</td>\n",
       "    </tr>\n",
       "    <tr>\n",
       "      <th>13</th>\n",
       "      <td>False</td>\n",
       "      <td>True</td>\n",
       "    </tr>\n",
       "    <tr>\n",
       "      <th>14</th>\n",
       "      <td>True</td>\n",
       "      <td>False</td>\n",
       "    </tr>\n",
       "    <tr>\n",
       "      <th>15</th>\n",
       "      <td>True</td>\n",
       "      <td>False</td>\n",
       "    </tr>\n",
       "    <tr>\n",
       "      <th>16</th>\n",
       "      <td>False</td>\n",
       "      <td>True</td>\n",
       "    </tr>\n",
       "    <tr>\n",
       "      <th>17</th>\n",
       "      <td>False</td>\n",
       "      <td>True</td>\n",
       "    </tr>\n",
       "    <tr>\n",
       "      <th>18</th>\n",
       "      <td>True</td>\n",
       "      <td>False</td>\n",
       "    </tr>\n",
       "    <tr>\n",
       "      <th>19</th>\n",
       "      <td>False</td>\n",
       "      <td>True</td>\n",
       "    </tr>\n",
       "  </tbody>\n",
       "</table>\n",
       "</div>"
      ],
      "text/plain": [
       "    gender_Female  gender_Male\n",
       "0           False         True\n",
       "1           False         True\n",
       "2            True        False\n",
       "3            True        False\n",
       "4           False         True\n",
       "5           False         True\n",
       "6           False         True\n",
       "7            True        False\n",
       "8            True        False\n",
       "9           False         True\n",
       "10           True        False\n",
       "11          False         True\n",
       "12          False         True\n",
       "13          False         True\n",
       "14           True        False\n",
       "15           True        False\n",
       "16          False         True\n",
       "17          False         True\n",
       "18           True        False\n",
       "19          False         True"
      ]
     },
     "execution_count": 5,
     "metadata": {},
     "output_type": "execute_result"
    }
   ],
   "source": [
    "pd.get_dummies(en_data)"
   ]
  },
  {
   "cell_type": "code",
   "execution_count": 6,
   "id": "c2de592d",
   "metadata": {},
   "outputs": [],
   "source": [
    "from sklearn.preprocessing import OneHotEncoder"
   ]
  },
  {
   "cell_type": "code",
   "execution_count": 8,
   "id": "49e15eff",
   "metadata": {},
   "outputs": [],
   "source": [
    "ohe = OneHotEncoder()\n",
    "ar = ohe.fit_transform(en_data).toarray()"
   ]
  },
  {
   "cell_type": "code",
   "execution_count": 9,
   "id": "4ba30945",
   "metadata": {},
   "outputs": [
    {
     "data": {
      "application/vnd.microsoft.datawrangler.viewer.v0+json": {
       "columns": [
        {
         "name": "index",
         "rawType": "int64",
         "type": "integer"
        },
        {
         "name": "gender_Female",
         "rawType": "float64",
         "type": "float"
        },
        {
         "name": "gender_Male",
         "rawType": "float64",
         "type": "float"
        }
       ],
       "ref": "eac72c0d-3455-4595-8e1a-de2a0b00c70d",
       "rows": [
        [
         "0",
         "0.0",
         "1.0"
        ],
        [
         "1",
         "0.0",
         "1.0"
        ],
        [
         "2",
         "1.0",
         "0.0"
        ],
        [
         "3",
         "1.0",
         "0.0"
        ],
        [
         "4",
         "0.0",
         "1.0"
        ],
        [
         "5",
         "0.0",
         "1.0"
        ],
        [
         "6",
         "0.0",
         "1.0"
        ],
        [
         "7",
         "1.0",
         "0.0"
        ],
        [
         "8",
         "1.0",
         "0.0"
        ],
        [
         "9",
         "0.0",
         "1.0"
        ],
        [
         "10",
         "1.0",
         "0.0"
        ],
        [
         "11",
         "0.0",
         "1.0"
        ],
        [
         "12",
         "0.0",
         "1.0"
        ],
        [
         "13",
         "0.0",
         "1.0"
        ],
        [
         "14",
         "1.0",
         "0.0"
        ],
        [
         "15",
         "1.0",
         "0.0"
        ],
        [
         "16",
         "0.0",
         "1.0"
        ],
        [
         "17",
         "0.0",
         "1.0"
        ],
        [
         "18",
         "1.0",
         "0.0"
        ],
        [
         "19",
         "0.0",
         "1.0"
        ]
       ],
       "shape": {
        "columns": 2,
        "rows": 20
       }
      },
      "text/html": [
       "<div>\n",
       "<style scoped>\n",
       "    .dataframe tbody tr th:only-of-type {\n",
       "        vertical-align: middle;\n",
       "    }\n",
       "\n",
       "    .dataframe tbody tr th {\n",
       "        vertical-align: top;\n",
       "    }\n",
       "\n",
       "    .dataframe thead th {\n",
       "        text-align: right;\n",
       "    }\n",
       "</style>\n",
       "<table border=\"1\" class=\"dataframe\">\n",
       "  <thead>\n",
       "    <tr style=\"text-align: right;\">\n",
       "      <th></th>\n",
       "      <th>gender_Female</th>\n",
       "      <th>gender_Male</th>\n",
       "    </tr>\n",
       "  </thead>\n",
       "  <tbody>\n",
       "    <tr>\n",
       "      <th>0</th>\n",
       "      <td>0.0</td>\n",
       "      <td>1.0</td>\n",
       "    </tr>\n",
       "    <tr>\n",
       "      <th>1</th>\n",
       "      <td>0.0</td>\n",
       "      <td>1.0</td>\n",
       "    </tr>\n",
       "    <tr>\n",
       "      <th>2</th>\n",
       "      <td>1.0</td>\n",
       "      <td>0.0</td>\n",
       "    </tr>\n",
       "    <tr>\n",
       "      <th>3</th>\n",
       "      <td>1.0</td>\n",
       "      <td>0.0</td>\n",
       "    </tr>\n",
       "    <tr>\n",
       "      <th>4</th>\n",
       "      <td>0.0</td>\n",
       "      <td>1.0</td>\n",
       "    </tr>\n",
       "    <tr>\n",
       "      <th>5</th>\n",
       "      <td>0.0</td>\n",
       "      <td>1.0</td>\n",
       "    </tr>\n",
       "    <tr>\n",
       "      <th>6</th>\n",
       "      <td>0.0</td>\n",
       "      <td>1.0</td>\n",
       "    </tr>\n",
       "    <tr>\n",
       "      <th>7</th>\n",
       "      <td>1.0</td>\n",
       "      <td>0.0</td>\n",
       "    </tr>\n",
       "    <tr>\n",
       "      <th>8</th>\n",
       "      <td>1.0</td>\n",
       "      <td>0.0</td>\n",
       "    </tr>\n",
       "    <tr>\n",
       "      <th>9</th>\n",
       "      <td>0.0</td>\n",
       "      <td>1.0</td>\n",
       "    </tr>\n",
       "    <tr>\n",
       "      <th>10</th>\n",
       "      <td>1.0</td>\n",
       "      <td>0.0</td>\n",
       "    </tr>\n",
       "    <tr>\n",
       "      <th>11</th>\n",
       "      <td>0.0</td>\n",
       "      <td>1.0</td>\n",
       "    </tr>\n",
       "    <tr>\n",
       "      <th>12</th>\n",
       "      <td>0.0</td>\n",
       "      <td>1.0</td>\n",
       "    </tr>\n",
       "    <tr>\n",
       "      <th>13</th>\n",
       "      <td>0.0</td>\n",
       "      <td>1.0</td>\n",
       "    </tr>\n",
       "    <tr>\n",
       "      <th>14</th>\n",
       "      <td>1.0</td>\n",
       "      <td>0.0</td>\n",
       "    </tr>\n",
       "    <tr>\n",
       "      <th>15</th>\n",
       "      <td>1.0</td>\n",
       "      <td>0.0</td>\n",
       "    </tr>\n",
       "    <tr>\n",
       "      <th>16</th>\n",
       "      <td>0.0</td>\n",
       "      <td>1.0</td>\n",
       "    </tr>\n",
       "    <tr>\n",
       "      <th>17</th>\n",
       "      <td>0.0</td>\n",
       "      <td>1.0</td>\n",
       "    </tr>\n",
       "    <tr>\n",
       "      <th>18</th>\n",
       "      <td>1.0</td>\n",
       "      <td>0.0</td>\n",
       "    </tr>\n",
       "    <tr>\n",
       "      <th>19</th>\n",
       "      <td>0.0</td>\n",
       "      <td>1.0</td>\n",
       "    </tr>\n",
       "  </tbody>\n",
       "</table>\n",
       "</div>"
      ],
      "text/plain": [
       "    gender_Female  gender_Male\n",
       "0             0.0          1.0\n",
       "1             0.0          1.0\n",
       "2             1.0          0.0\n",
       "3             1.0          0.0\n",
       "4             0.0          1.0\n",
       "5             0.0          1.0\n",
       "6             0.0          1.0\n",
       "7             1.0          0.0\n",
       "8             1.0          0.0\n",
       "9             0.0          1.0\n",
       "10            1.0          0.0\n",
       "11            0.0          1.0\n",
       "12            0.0          1.0\n",
       "13            0.0          1.0\n",
       "14            1.0          0.0\n",
       "15            1.0          0.0\n",
       "16            0.0          1.0\n",
       "17            0.0          1.0\n",
       "18            1.0          0.0\n",
       "19            0.0          1.0"
      ]
     },
     "execution_count": 9,
     "metadata": {},
     "output_type": "execute_result"
    }
   ],
   "source": [
    "pd.DataFrame(ar, columns=[\"gender_Female\", \"gender_Male\"])"
   ]
  }
 ],
 "metadata": {
  "kernelspec": {
   "display_name": "Python 3",
   "language": "python",
   "name": "python3"
  },
  "language_info": {
   "codemirror_mode": {
    "name": "ipython",
    "version": 3
   },
   "file_extension": ".py",
   "mimetype": "text/x-python",
   "name": "python",
   "nbconvert_exporter": "python",
   "pygments_lexer": "ipython3",
   "version": "3.13.5"
  }
 },
 "nbformat": 4,
 "nbformat_minor": 5
}
