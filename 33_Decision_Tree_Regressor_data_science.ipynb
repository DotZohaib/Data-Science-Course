{
 "cells": [
  {
   "cell_type": "code",
   "execution_count": 1,
   "id": "de9b48f3",
   "metadata": {},
   "outputs": [],
   "source": [
    "import pandas as pd\n",
    "import numpy as np\n",
    "import matplotlib.pyplot as plt\n",
    "import seaborn as sns\n",
    "from sklearn.model_selection import train_test_split"
   ]
  },
  {
   "cell_type": "code",
   "execution_count": 2,
   "id": "1d5d6924",
   "metadata": {},
   "outputs": [
    {
     "data": {
      "application/vnd.microsoft.datawrangler.viewer.v0+json": {
       "columns": [
        {
         "name": "index",
         "rawType": "int64",
         "type": "integer"
        },
        {
         "name": "Name",
         "rawType": "object",
         "type": "string"
        },
        {
         "name": "Age",
         "rawType": "int64",
         "type": "integer"
        },
        {
         "name": "Experience (Years)",
         "rawType": "int64",
         "type": "integer"
        },
        {
         "name": "Education (Years)",
         "rawType": "int64",
         "type": "integer"
        },
        {
         "name": "Salary",
         "rawType": "float64",
         "type": "float"
        }
       ],
       "ref": "7b7225c8-4ae9-4185-8094-8868b9ae7d3e",
       "rows": [
        [
         "0",
         "Mr. Johnathan Davis",
         "56",
         "8",
         "15",
         "14372.4"
        ],
        [
         "1",
         "Kelly Reed",
         "46",
         "7",
         "10",
         "12641.59"
        ],
        [
         "2",
         "Chelsea Moore",
         "32",
         "11",
         "18",
         "13918.89"
        ],
        [
         "3",
         "Paige Goodwin",
         "25",
         "33",
         "15",
         "16396.54"
        ],
        [
         "4",
         "Kelly Rosario",
         "38",
         "32",
         "12",
         "15350.48"
        ]
       ],
       "shape": {
        "columns": 5,
        "rows": 5
       }
      },
      "text/html": [
       "<div>\n",
       "<style scoped>\n",
       "    .dataframe tbody tr th:only-of-type {\n",
       "        vertical-align: middle;\n",
       "    }\n",
       "\n",
       "    .dataframe tbody tr th {\n",
       "        vertical-align: top;\n",
       "    }\n",
       "\n",
       "    .dataframe thead th {\n",
       "        text-align: right;\n",
       "    }\n",
       "</style>\n",
       "<table border=\"1\" class=\"dataframe\">\n",
       "  <thead>\n",
       "    <tr style=\"text-align: right;\">\n",
       "      <th></th>\n",
       "      <th>Name</th>\n",
       "      <th>Age</th>\n",
       "      <th>Experience (Years)</th>\n",
       "      <th>Education (Years)</th>\n",
       "      <th>Salary</th>\n",
       "    </tr>\n",
       "  </thead>\n",
       "  <tbody>\n",
       "    <tr>\n",
       "      <th>0</th>\n",
       "      <td>Mr. Johnathan Davis</td>\n",
       "      <td>56</td>\n",
       "      <td>8</td>\n",
       "      <td>15</td>\n",
       "      <td>14372.40</td>\n",
       "    </tr>\n",
       "    <tr>\n",
       "      <th>1</th>\n",
       "      <td>Kelly Reed</td>\n",
       "      <td>46</td>\n",
       "      <td>7</td>\n",
       "      <td>10</td>\n",
       "      <td>12641.59</td>\n",
       "    </tr>\n",
       "    <tr>\n",
       "      <th>2</th>\n",
       "      <td>Chelsea Moore</td>\n",
       "      <td>32</td>\n",
       "      <td>11</td>\n",
       "      <td>18</td>\n",
       "      <td>13918.89</td>\n",
       "    </tr>\n",
       "    <tr>\n",
       "      <th>3</th>\n",
       "      <td>Paige Goodwin</td>\n",
       "      <td>25</td>\n",
       "      <td>33</td>\n",
       "      <td>15</td>\n",
       "      <td>16396.54</td>\n",
       "    </tr>\n",
       "    <tr>\n",
       "      <th>4</th>\n",
       "      <td>Kelly Rosario</td>\n",
       "      <td>38</td>\n",
       "      <td>32</td>\n",
       "      <td>12</td>\n",
       "      <td>15350.48</td>\n",
       "    </tr>\n",
       "  </tbody>\n",
       "</table>\n",
       "</div>"
      ],
      "text/plain": [
       "                  Name  Age  Experience (Years)  Education (Years)    Salary\n",
       "0  Mr. Johnathan Davis   56                   8                 15  14372.40\n",
       "1           Kelly Reed   46                   7                 10  12641.59\n",
       "2        Chelsea Moore   32                  11                 18  13918.89\n",
       "3        Paige Goodwin   25                  33                 15  16396.54\n",
       "4        Kelly Rosario   38                  32                 12  15350.48"
      ]
     },
     "execution_count": 2,
     "metadata": {},
     "output_type": "execute_result"
    }
   ],
   "source": [
    "database = pd.read_excel(\"multiple_linear_regression.xlsx\")\n",
    "database.head(5)"
   ]
  },
  {
   "cell_type": "code",
   "execution_count": 3,
   "id": "756f5a7c",
   "metadata": {},
   "outputs": [],
   "source": [
    "database.drop(columns=(\"Name\"), inplace=True)"
   ]
  },
  {
   "cell_type": "code",
   "execution_count": 4,
   "id": "c59f8c6d",
   "metadata": {},
   "outputs": [
    {
     "data": {
      "application/vnd.microsoft.datawrangler.viewer.v0+json": {
       "columns": [
        {
         "name": "index",
         "rawType": "int64",
         "type": "integer"
        },
        {
         "name": "Age",
         "rawType": "int64",
         "type": "integer"
        },
        {
         "name": "Experience (Years)",
         "rawType": "int64",
         "type": "integer"
        },
        {
         "name": "Education (Years)",
         "rawType": "int64",
         "type": "integer"
        },
        {
         "name": "Salary",
         "rawType": "float64",
         "type": "float"
        }
       ],
       "ref": "879a7f85-b6c7-4823-a544-5205268db734",
       "rows": [
        [
         "0",
         "56",
         "8",
         "15",
         "14372.4"
        ],
        [
         "1",
         "46",
         "7",
         "10",
         "12641.59"
        ],
        [
         "2",
         "32",
         "11",
         "18",
         "13918.89"
        ],
        [
         "3",
         "25",
         "33",
         "15",
         "16396.54"
        ],
        [
         "4",
         "38",
         "32",
         "12",
         "15350.48"
        ]
       ],
       "shape": {
        "columns": 4,
        "rows": 5
       }
      },
      "text/html": [
       "<div>\n",
       "<style scoped>\n",
       "    .dataframe tbody tr th:only-of-type {\n",
       "        vertical-align: middle;\n",
       "    }\n",
       "\n",
       "    .dataframe tbody tr th {\n",
       "        vertical-align: top;\n",
       "    }\n",
       "\n",
       "    .dataframe thead th {\n",
       "        text-align: right;\n",
       "    }\n",
       "</style>\n",
       "<table border=\"1\" class=\"dataframe\">\n",
       "  <thead>\n",
       "    <tr style=\"text-align: right;\">\n",
       "      <th></th>\n",
       "      <th>Age</th>\n",
       "      <th>Experience (Years)</th>\n",
       "      <th>Education (Years)</th>\n",
       "      <th>Salary</th>\n",
       "    </tr>\n",
       "  </thead>\n",
       "  <tbody>\n",
       "    <tr>\n",
       "      <th>0</th>\n",
       "      <td>56</td>\n",
       "      <td>8</td>\n",
       "      <td>15</td>\n",
       "      <td>14372.40</td>\n",
       "    </tr>\n",
       "    <tr>\n",
       "      <th>1</th>\n",
       "      <td>46</td>\n",
       "      <td>7</td>\n",
       "      <td>10</td>\n",
       "      <td>12641.59</td>\n",
       "    </tr>\n",
       "    <tr>\n",
       "      <th>2</th>\n",
       "      <td>32</td>\n",
       "      <td>11</td>\n",
       "      <td>18</td>\n",
       "      <td>13918.89</td>\n",
       "    </tr>\n",
       "    <tr>\n",
       "      <th>3</th>\n",
       "      <td>25</td>\n",
       "      <td>33</td>\n",
       "      <td>15</td>\n",
       "      <td>16396.54</td>\n",
       "    </tr>\n",
       "    <tr>\n",
       "      <th>4</th>\n",
       "      <td>38</td>\n",
       "      <td>32</td>\n",
       "      <td>12</td>\n",
       "      <td>15350.48</td>\n",
       "    </tr>\n",
       "  </tbody>\n",
       "</table>\n",
       "</div>"
      ],
      "text/plain": [
       "   Age  Experience (Years)  Education (Years)    Salary\n",
       "0   56                   8                 15  14372.40\n",
       "1   46                   7                 10  12641.59\n",
       "2   32                  11                 18  13918.89\n",
       "3   25                  33                 15  16396.54\n",
       "4   38                  32                 12  15350.48"
      ]
     },
     "execution_count": 4,
     "metadata": {},
     "output_type": "execute_result"
    }
   ],
   "source": [
    "database.head(5)"
   ]
  },
  {
   "cell_type": "code",
   "execution_count": 5,
   "id": "e511cd2c",
   "metadata": {},
   "outputs": [
    {
     "data": {
      "application/vnd.microsoft.datawrangler.viewer.v0+json": {
       "columns": [
        {
         "name": "index",
         "rawType": "object",
         "type": "string"
        },
        {
         "name": "0",
         "rawType": "int64",
         "type": "integer"
        }
       ],
       "ref": "ee2fc50e-4eae-4002-acbf-27b38214e485",
       "rows": [
        [
         "Age",
         "0"
        ],
        [
         "Experience (Years)",
         "0"
        ],
        [
         "Education (Years)",
         "0"
        ],
        [
         "Salary",
         "0"
        ]
       ],
       "shape": {
        "columns": 1,
        "rows": 4
       }
      },
      "text/plain": [
       "Age                   0\n",
       "Experience (Years)    0\n",
       "Education (Years)     0\n",
       "Salary                0\n",
       "dtype: int64"
      ]
     },
     "execution_count": 5,
     "metadata": {},
     "output_type": "execute_result"
    }
   ],
   "source": [
    "database.isnull().sum()"
   ]
  },
  {
   "cell_type": "code",
   "execution_count": 6,
   "id": "fc8868fc",
   "metadata": {},
   "outputs": [],
   "source": [
    "x = database.iloc[:,:-1]\n",
    "y = database[\"Salary\"]"
   ]
  },
  {
   "cell_type": "code",
   "execution_count": 7,
   "id": "26269246",
   "metadata": {},
   "outputs": [],
   "source": [
    "from sklearn.preprocessing import StandardScaler"
   ]
  },
  {
   "cell_type": "code",
   "execution_count": 8,
   "id": "80ace0c1",
   "metadata": {},
   "outputs": [],
   "source": [
    "ss = StandardScaler()\n",
    "ss.fit(x)\n",
    "x = pd.DataFrame(ss.transform(x), columns=x.columns)"
   ]
  },
  {
   "cell_type": "code",
   "execution_count": 9,
   "id": "3b1ba223",
   "metadata": {},
   "outputs": [],
   "source": [
    "x_train, x_test, y_train, y_test = train_test_split(x, y, test_size=0.2, random_state=42)"
   ]
  },
  {
   "cell_type": "code",
   "execution_count": null,
   "id": "3e81ebee",
   "metadata": {},
   "outputs": [],
   "source": [
    "from sklearn.neighbors import KNeighborsClassifier"
   ]
  },
  {
   "cell_type": "code",
   "execution_count": null,
   "id": "f232bce6",
   "metadata": {},
   "outputs": [],
   "source": [
    "kc = KNeighborsClassifier(n_neighbors=5)\n",
    "kc.fit(x_train, y_train)"
   ]
  },
  {
   "cell_type": "code",
   "execution_count": null,
   "id": "53d7e246",
   "metadata": {},
   "outputs": [],
   "source": [
    "kc.score(x_test, y_test)* 100, kc.score(x_train, y_train)* 100"
   ]
  },
  {
   "cell_type": "code",
   "execution_count": null,
   "id": "4bc35ae5",
   "metadata": {},
   "outputs": [],
   "source": [
    "for i in range(1, 30):\n",
    "    kc1 = KNeighborsClassifier(n_neighbors=i)\n",
    "    kc1.fit(x_train, y_train)\n",
    "    print(i,kc1.score(x_test, y_test)* 100, kc1.score(x_train, y_train)* 100 )"
   ]
  },
  {
   "cell_type": "code",
   "execution_count": null,
   "id": "009535e4",
   "metadata": {},
   "outputs": [],
   "source": [
    "kc.predict([[56,8,15]])"
   ]
  }
 ],
 "metadata": {
  "kernelspec": {
   "display_name": "Python 3",
   "language": "python",
   "name": "python3"
  },
  "language_info": {
   "codemirror_mode": {
    "name": "ipython",
    "version": 3
   },
   "file_extension": ".py",
   "mimetype": "text/x-python",
   "name": "python",
   "nbconvert_exporter": "python",
   "pygments_lexer": "ipython3",
   "version": "3.13.5"
  }
 },
 "nbformat": 4,
 "nbformat_minor": 5
}
