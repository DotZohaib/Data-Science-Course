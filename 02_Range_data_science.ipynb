{
 "cells": [
  {
   "cell_type": "code",
   "execution_count": 2,
   "id": "a5976dbf",
   "metadata": {},
   "outputs": [],
   "source": [
    "import pandas as pd\n",
    "import numpy as np\n",
    "import matplotlib.pyplot as plt\n",
    "import seaborn as sns"
   ]
  },
  {
   "cell_type": "code",
   "execution_count": 3,
   "id": "ea69fe99",
   "metadata": {},
   "outputs": [
    {
     "data": {
      "application/vnd.microsoft.datawrangler.viewer.v0+json": {
       "columns": [
        {
         "name": "index",
         "rawType": "int64",
         "type": "integer"
        },
        {
         "name": "id",
         "rawType": "int64",
         "type": "integer"
        },
        {
         "name": "name",
         "rawType": "object",
         "type": "string"
        },
        {
         "name": "role",
         "rawType": "object",
         "type": "string"
        },
        {
         "name": "salary",
         "rawType": "int64",
         "type": "integer"
        },
        {
         "name": "age",
         "rawType": "int64",
         "type": "integer"
        },
        {
         "name": "gender",
         "rawType": "object",
         "type": "string"
        },
        {
         "name": "alive",
         "rawType": "object",
         "type": "string"
        },
        {
         "name": "department",
         "rawType": "object",
         "type": "string"
        },
        {
         "name": "alone",
         "rawType": "object",
         "type": "string"
        },
        {
         "name": "phone_number",
         "rawType": "object",
         "type": "string"
        },
        {
         "name": "city",
         "rawType": "object",
         "type": "string"
        },
        {
         "name": "state",
         "rawType": "object",
         "type": "string"
        },
        {
         "name": "single",
         "rawType": "object",
         "type": "string"
        }
       ],
       "ref": "8dff86ba-e857-4ea5-9bb7-f9fbf8649066",
       "rows": [
        [
         "0",
         "1",
         "Margaret Moore",
         "Developer",
         "57887",
         "25",
         "Male",
         "No",
         "Operations",
         "No",
         "(254)682-1008x497",
         "Chicago",
         "TX",
         "Yes"
        ],
        [
         "1",
         "2",
         "Johnny Mcdowell",
         "Designer",
         "108087",
         "43",
         "Male",
         "No",
         "Finance",
         "No",
         "713.998.3327x6460",
         "Houston",
         "CA",
         "No"
        ],
        [
         "2",
         "3",
         "Elizabeth Miller",
         "Manager",
         "68709",
         "42",
         "Female",
         "No",
         "HR",
         "Yes",
         "001-823-068-8392x5295",
         "Los Angeles",
         "CA",
         "Yes"
        ],
        [
         "3",
         "4",
         "Lydia Baldwin",
         "Designer",
         "92735",
         "59",
         "Female",
         "No",
         "Operations",
         "No",
         "353-149-4250x81413",
         "Los Angeles",
         "NY",
         "Yes"
        ],
        [
         "4",
         "5",
         "John Mccoy",
         "QA",
         "95393",
         "49",
         "Male",
         "No",
         "HR",
         "Yes",
         "(270)652-6399",
         "New York",
         "IL",
         "Yes"
        ]
       ],
       "shape": {
        "columns": 13,
        "rows": 5
       }
      },
      "text/html": [
       "<div>\n",
       "<style scoped>\n",
       "    .dataframe tbody tr th:only-of-type {\n",
       "        vertical-align: middle;\n",
       "    }\n",
       "\n",
       "    .dataframe tbody tr th {\n",
       "        vertical-align: top;\n",
       "    }\n",
       "\n",
       "    .dataframe thead th {\n",
       "        text-align: right;\n",
       "    }\n",
       "</style>\n",
       "<table border=\"1\" class=\"dataframe\">\n",
       "  <thead>\n",
       "    <tr style=\"text-align: right;\">\n",
       "      <th></th>\n",
       "      <th>id</th>\n",
       "      <th>name</th>\n",
       "      <th>role</th>\n",
       "      <th>salary</th>\n",
       "      <th>age</th>\n",
       "      <th>gender</th>\n",
       "      <th>alive</th>\n",
       "      <th>department</th>\n",
       "      <th>alone</th>\n",
       "      <th>phone_number</th>\n",
       "      <th>city</th>\n",
       "      <th>state</th>\n",
       "      <th>single</th>\n",
       "    </tr>\n",
       "  </thead>\n",
       "  <tbody>\n",
       "    <tr>\n",
       "      <th>0</th>\n",
       "      <td>1</td>\n",
       "      <td>Margaret Moore</td>\n",
       "      <td>Developer</td>\n",
       "      <td>57887</td>\n",
       "      <td>25</td>\n",
       "      <td>Male</td>\n",
       "      <td>No</td>\n",
       "      <td>Operations</td>\n",
       "      <td>No</td>\n",
       "      <td>(254)682-1008x497</td>\n",
       "      <td>Chicago</td>\n",
       "      <td>TX</td>\n",
       "      <td>Yes</td>\n",
       "    </tr>\n",
       "    <tr>\n",
       "      <th>1</th>\n",
       "      <td>2</td>\n",
       "      <td>Johnny Mcdowell</td>\n",
       "      <td>Designer</td>\n",
       "      <td>108087</td>\n",
       "      <td>43</td>\n",
       "      <td>Male</td>\n",
       "      <td>No</td>\n",
       "      <td>Finance</td>\n",
       "      <td>No</td>\n",
       "      <td>713.998.3327x6460</td>\n",
       "      <td>Houston</td>\n",
       "      <td>CA</td>\n",
       "      <td>No</td>\n",
       "    </tr>\n",
       "    <tr>\n",
       "      <th>2</th>\n",
       "      <td>3</td>\n",
       "      <td>Elizabeth Miller</td>\n",
       "      <td>Manager</td>\n",
       "      <td>68709</td>\n",
       "      <td>42</td>\n",
       "      <td>Female</td>\n",
       "      <td>No</td>\n",
       "      <td>HR</td>\n",
       "      <td>Yes</td>\n",
       "      <td>001-823-068-8392x5295</td>\n",
       "      <td>Los Angeles</td>\n",
       "      <td>CA</td>\n",
       "      <td>Yes</td>\n",
       "    </tr>\n",
       "    <tr>\n",
       "      <th>3</th>\n",
       "      <td>4</td>\n",
       "      <td>Lydia Baldwin</td>\n",
       "      <td>Designer</td>\n",
       "      <td>92735</td>\n",
       "      <td>59</td>\n",
       "      <td>Female</td>\n",
       "      <td>No</td>\n",
       "      <td>Operations</td>\n",
       "      <td>No</td>\n",
       "      <td>353-149-4250x81413</td>\n",
       "      <td>Los Angeles</td>\n",
       "      <td>NY</td>\n",
       "      <td>Yes</td>\n",
       "    </tr>\n",
       "    <tr>\n",
       "      <th>4</th>\n",
       "      <td>5</td>\n",
       "      <td>John Mccoy</td>\n",
       "      <td>QA</td>\n",
       "      <td>95393</td>\n",
       "      <td>49</td>\n",
       "      <td>Male</td>\n",
       "      <td>No</td>\n",
       "      <td>HR</td>\n",
       "      <td>Yes</td>\n",
       "      <td>(270)652-6399</td>\n",
       "      <td>New York</td>\n",
       "      <td>IL</td>\n",
       "      <td>Yes</td>\n",
       "    </tr>\n",
       "  </tbody>\n",
       "</table>\n",
       "</div>"
      ],
      "text/plain": [
       "   id              name       role  salary  age  gender alive  department  \\\n",
       "0   1    Margaret Moore  Developer   57887   25    Male    No  Operations   \n",
       "1   2   Johnny Mcdowell   Designer  108087   43    Male    No     Finance   \n",
       "2   3  Elizabeth Miller    Manager   68709   42  Female    No          HR   \n",
       "3   4     Lydia Baldwin   Designer   92735   59  Female    No  Operations   \n",
       "4   5        John Mccoy         QA   95393   49    Male    No          HR   \n",
       "\n",
       "  alone           phone_number         city state single  \n",
       "0    No      (254)682-1008x497      Chicago    TX    Yes  \n",
       "1    No      713.998.3327x6460      Houston    CA     No  \n",
       "2   Yes  001-823-068-8392x5295  Los Angeles    CA    Yes  \n",
       "3    No     353-149-4250x81413  Los Angeles    NY    Yes  \n",
       "4   Yes          (270)652-6399     New York    IL    Yes  "
      ]
     },
     "execution_count": 3,
     "metadata": {},
     "output_type": "execute_result"
    }
   ],
   "source": [
    "database = pd.read_excel(\"dummy_users.xlsx\")\n",
    "database.head(5)"
   ]
  },
  {
   "cell_type": "code",
   "execution_count": 10,
   "id": "3dd12d42",
   "metadata": {},
   "outputs": [
    {
     "name": "stdout",
     "output_type": "stream",
     "text": [
      "Minimum value of salary is:  49253\n"
     ]
    }
   ],
   "source": [
    "minimum : int = database[\"salary\"].min()\n",
    "print(\"Minimum value of salary is: \", minimum)"
   ]
  },
  {
   "cell_type": "code",
   "execution_count": 11,
   "id": "f9f77f94",
   "metadata": {},
   "outputs": [
    {
     "name": "stdout",
     "output_type": "stream",
     "text": [
      "Maximum value of salary is:  112268\n"
     ]
    }
   ],
   "source": [
    "maximum : int = database[\"salary\"].max()\n",
    "print(\"Maximum value of salary is: \", maximum)"
   ]
  },
  {
   "cell_type": "code",
   "execution_count": 12,
   "id": "309b0150",
   "metadata": {},
   "outputs": [
    {
     "name": "stdout",
     "output_type": "stream",
     "text": [
      "Range of salary is:  63015\n"
     ]
    }
   ],
   "source": [
    "range = maximum - minimum\n",
    "print(\"Range of salary is: \", range)"
   ]
  }
 ],
 "metadata": {
  "kernelspec": {
   "display_name": "Python 3",
   "language": "python",
   "name": "python3"
  },
  "language_info": {
   "codemirror_mode": {
    "name": "ipython",
    "version": 3
   },
   "file_extension": ".py",
   "mimetype": "text/x-python",
   "name": "python",
   "nbconvert_exporter": "python",
   "pygments_lexer": "ipython3",
   "version": "3.13.5"
  }
 },
 "nbformat": 4,
 "nbformat_minor": 5
}
